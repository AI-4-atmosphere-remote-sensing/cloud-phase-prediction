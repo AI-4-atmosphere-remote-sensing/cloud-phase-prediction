{
 "cells": [
  {
   "cell_type": "markdown",
   "id": "6542b2b0",
   "metadata": {},
   "source": [
    "<div class=\"alert alert-info\">\n",
    "<center>\n",
    "<h1 style=\"font-size:22px\">UMBC ACCESS Project Evaluation</h1>\n",
    "<br>\n",
    "Benjamin H.G. Marchant <br>\n",
    "benjamin.marchant@nasa.gov <br>\n",
    "marchant.benjamin01@gmail.com <br>\n",
    "</center>\n",
    "</div>"
   ]
  },
  {
   "cell_type": "code",
   "execution_count": 23,
   "id": "786ba1c1",
   "metadata": {},
   "outputs": [],
   "source": [
    "from os import path\n",
    "\n",
    "import glob\n",
    "import random\n",
    "import pandas as pd\n",
    "import matplotlib.pyplot as plt\n",
    "import matplotlib.cm as cm\n",
    "import matplotlib.patches as mpatches\n",
    "import numpy as np\n",
    "import seaborn as sns; sns.set()"
   ]
  },
  {
   "cell_type": "code",
   "execution_count": 24,
   "id": "e0b1e056",
   "metadata": {},
   "outputs": [],
   "source": [
    "fig_style_dict = {}\n",
    "\n",
    "fig_style_dict['fig_type'] = 'analysis'\n",
    "\n",
    "if fig_style_dict['fig_type'] == 'talk':\n",
    "    fig_style_dict['facecolor'] = '#E8E8E8'\n",
    "    fig_style_dict['label_font_size'] = 18\n",
    "    fig_style_dict['title_font_size'] = 22\n",
    "    fig_style_dict['heatmap_annot_font_size'] = 22\n",
    "else:\n",
    "    fig_style_dict['facecolor'] = 'white'\n",
    "    fig_style_dict['label_font_size'] = 12\n",
    "    fig_style_dict['title_font_size'] = 14\n",
    "    fig_style_dict['heatmap_annot_font_size'] = 14"
   ]
  },
  {
   "cell_type": "code",
   "execution_count": 25,
   "id": "e3fa317b",
   "metadata": {},
   "outputs": [],
   "source": [
    "path_to_data = '/Users/nizhao/xin/access/newdata/from_ben/to_ben/m16/cloudmask/'"
   ]
  },
  {
   "cell_type": "code",
   "execution_count": 26,
   "id": "e0c3f77d",
   "metadata": {},
   "outputs": [
    {
     "data": {
      "text/plain": [
       "['/Users/nizhao/xin/access/newdata/from_ben/to_ben/m16/cloudmask/viirs_sample_2018_09_20.hdf5',\n",
       " '/Users/nizhao/xin/access/newdata/from_ben/to_ben/m16/cloudmask/viirs_sample_2018_05_15.hdf5',\n",
       " '/Users/nizhao/xin/access/newdata/from_ben/to_ben/m16/cloudmask/viirs_sample_2018_06_05.hdf5',\n",
       " '/Users/nizhao/xin/access/newdata/from_ben/to_ben/m16/cloudmask/viirs_sample_2018_03_10.hdf5',\n",
       " '/Users/nizhao/xin/access/newdata/from_ben/to_ben/m16/cloudmask/viirs_sample_2018_10_20.hdf5',\n",
       " '/Users/nizhao/xin/access/newdata/from_ben/to_ben/m16/cloudmask/viirs_sample_2018_06_25.hdf5',\n",
       " '/Users/nizhao/xin/access/newdata/from_ben/to_ben/m16/cloudmask/viirs_sample_2018_01_20.hdf5',\n",
       " '/Users/nizhao/xin/access/newdata/from_ben/to_ben/m16/cloudmask/viirs_sample_2018_11_20.hdf5',\n",
       " '/Users/nizhao/xin/access/newdata/from_ben/to_ben/m16/cloudmask/viirs_sample_2018_07_25.hdf5',\n",
       " '/Users/nizhao/xin/access/newdata/from_ben/to_ben/m16/cloudmask/viirs_sample_2018_08_20.hdf5',\n",
       " '/Users/nizhao/xin/access/newdata/from_ben/to_ben/m16/cloudmask/viirs_sample_2018_04_15.hdf5',\n",
       " '/Users/nizhao/xin/access/newdata/from_ben/to_ben/m16/cloudmask/viirs_sample_2018_07_05.hdf5',\n",
       " '/Users/nizhao/xin/access/newdata/from_ben/to_ben/m16/cloudmask/viirs_sample_2018_02_10.hdf5',\n",
       " '/Users/nizhao/xin/access/newdata/from_ben/to_ben/m16/cloudmask/viirs_sample_2018_12_10.hdf5',\n",
       " '/Users/nizhao/xin/access/newdata/from_ben/to_ben/m16/cloudmask/viirs_sample_2018_03_20.hdf5',\n",
       " '/Users/nizhao/xin/access/newdata/from_ben/to_ben/m16/cloudmask/viirs_sample_2018_09_10.hdf5',\n",
       " '/Users/nizhao/xin/access/newdata/from_ben/to_ben/m16/cloudmask/viirs_sample_2018_05_25.hdf5',\n",
       " '/Users/nizhao/xin/access/newdata/from_ben/to_ben/m16/cloudmask/viirs_sample_2018_05_05.hdf5',\n",
       " '/Users/nizhao/xin/access/newdata/from_ben/to_ben/m16/cloudmask/viirs_sample_2018_06_15.hdf5',\n",
       " '/Users/nizhao/xin/access/newdata/from_ben/to_ben/m16/cloudmask/viirs_sample_2018_10_10.hdf5',\n",
       " '/Users/nizhao/xin/access/newdata/from_ben/to_ben/m16/cloudmask/viirs_sample_2018_04_05.hdf5',\n",
       " '/Users/nizhao/xin/access/newdata/from_ben/to_ben/m16/cloudmask/viirs_sample_2018_07_15.hdf5',\n",
       " '/Users/nizhao/xin/access/newdata/from_ben/to_ben/m16/cloudmask/viirs_sample_2018_01_10.hdf5',\n",
       " '/Users/nizhao/xin/access/newdata/from_ben/to_ben/m16/cloudmask/viirs_sample_2018_11_10.hdf5',\n",
       " '/Users/nizhao/xin/access/newdata/from_ben/to_ben/m16/cloudmask/viirs_sample_2018_02_20.hdf5',\n",
       " '/Users/nizhao/xin/access/newdata/from_ben/to_ben/m16/cloudmask/viirs_sample_2018_12_20.hdf5',\n",
       " '/Users/nizhao/xin/access/newdata/from_ben/to_ben/m16/cloudmask/viirs_sample_2018_08_10.hdf5',\n",
       " '/Users/nizhao/xin/access/newdata/from_ben/to_ben/m16/cloudmask/viirs_sample_2018_04_25.hdf5',\n",
       " '/Users/nizhao/xin/access/newdata/from_ben/to_ben/m16/cloudmask/viirs_sample_2018_01_25.hdf5',\n",
       " '/Users/nizhao/xin/access/newdata/from_ben/to_ben/m16/cloudmask/viirs_sample_2018_11_25.hdf5',\n",
       " '/Users/nizhao/xin/access/newdata/from_ben/to_ben/m16/cloudmask/viirs_sample_2018_07_20.hdf5',\n",
       " '/Users/nizhao/xin/access/newdata/from_ben/to_ben/m16/cloudmask/viirs_sample_2018_08_05.hdf5',\n",
       " '/Users/nizhao/xin/access/newdata/from_ben/to_ben/m16/cloudmask/viirs_sample_2018_08_25.hdf5',\n",
       " '/Users/nizhao/xin/access/newdata/from_ben/to_ben/m16/cloudmask/viirs_sample_2018_04_10.hdf5',\n",
       " '/Users/nizhao/xin/access/newdata/from_ben/to_ben/m16/cloudmask/viirs_sample_2018_02_15.hdf5',\n",
       " '/Users/nizhao/xin/access/newdata/from_ben/to_ben/m16/cloudmask/viirs_sample_2018_12_15.hdf5',\n",
       " '/Users/nizhao/xin/access/newdata/from_ben/to_ben/m16/cloudmask/viirs_sample_2018_01_05.hdf5',\n",
       " '/Users/nizhao/xin/access/newdata/from_ben/to_ben/m16/cloudmask/viirs_sample_2018_11_05.hdf5',\n",
       " '/Users/nizhao/xin/access/newdata/from_ben/to_ben/m16/cloudmask/viirs_sample_2018_09_25.hdf5',\n",
       " '/Users/nizhao/xin/access/newdata/from_ben/to_ben/m16/cloudmask/viirs_sample_2018_05_10.hdf5',\n",
       " '/Users/nizhao/xin/access/newdata/from_ben/to_ben/m16/cloudmask/viirs_sample_2018_03_15.hdf5',\n",
       " '/Users/nizhao/xin/access/newdata/from_ben/to_ben/m16/cloudmask/viirs_sample_2018_10_05.hdf5',\n",
       " '/Users/nizhao/xin/access/newdata/from_ben/to_ben/m16/cloudmask/viirs_sample_2018_10_25.hdf5',\n",
       " '/Users/nizhao/xin/access/newdata/from_ben/to_ben/m16/cloudmask/viirs_sample_2018_06_20.hdf5',\n",
       " '/Users/nizhao/xin/access/newdata/from_ben/to_ben/m16/cloudmask/viirs_sample_2018_09_05.hdf5',\n",
       " '/Users/nizhao/xin/access/newdata/from_ben/to_ben/m16/cloudmask/viirs_sample_2018_07_10.hdf5',\n",
       " '/Users/nizhao/xin/access/newdata/from_ben/to_ben/m16/cloudmask/viirs_sample_2018_02_05.hdf5',\n",
       " '/Users/nizhao/xin/access/newdata/from_ben/to_ben/m16/cloudmask/viirs_sample_2018_12_05.hdf5',\n",
       " '/Users/nizhao/xin/access/newdata/from_ben/to_ben/m16/cloudmask/viirs_sample_2018_01_15.hdf5',\n",
       " '/Users/nizhao/xin/access/newdata/from_ben/to_ben/m16/cloudmask/viirs_sample_2018_11_15.hdf5',\n",
       " '/Users/nizhao/xin/access/newdata/from_ben/to_ben/m16/cloudmask/viirs_sample_2018_02_25.hdf5',\n",
       " '/Users/nizhao/xin/access/newdata/from_ben/to_ben/m16/cloudmask/viirs_sample_2018_12_25.hdf5',\n",
       " '/Users/nizhao/xin/access/newdata/from_ben/to_ben/m16/cloudmask/viirs_sample_2018_08_15.hdf5',\n",
       " '/Users/nizhao/xin/access/newdata/from_ben/to_ben/m16/cloudmask/viirs_sample_2018_04_20.hdf5',\n",
       " '/Users/nizhao/xin/access/newdata/from_ben/to_ben/m16/cloudmask/viirs_sample_2018_03_25.hdf5',\n",
       " '/Users/nizhao/xin/access/newdata/from_ben/to_ben/m16/cloudmask/viirs_sample_2018_09_15.hdf5',\n",
       " '/Users/nizhao/xin/access/newdata/from_ben/to_ben/m16/cloudmask/viirs_sample_2018_05_20.hdf5',\n",
       " '/Users/nizhao/xin/access/newdata/from_ben/to_ben/m16/cloudmask/viirs_sample_2018_06_10.hdf5',\n",
       " '/Users/nizhao/xin/access/newdata/from_ben/to_ben/m16/cloudmask/viirs_sample_2018_03_05.hdf5',\n",
       " '/Users/nizhao/xin/access/newdata/from_ben/to_ben/m16/cloudmask/viirs_sample_2018_10_15.hdf5']"
      ]
     },
     "execution_count": 26,
     "metadata": {},
     "output_type": "execute_result"
    }
   ],
   "source": [
    "sample_list = glob.glob( '{}/*hdf5'.format(path_to_data) )\n",
    "\n",
    "sample_list"
   ]
  },
  {
   "cell_type": "code",
   "execution_count": 27,
   "id": "ee2d941f",
   "metadata": {},
   "outputs": [],
   "source": [
    "file = random.choice(sample_list)"
   ]
  },
  {
   "cell_type": "code",
   "execution_count": 28,
   "id": "f419b847",
   "metadata": {},
   "outputs": [
    {
     "name": "stdout",
     "output_type": "stream",
     "text": [
      "['/sample']\n"
     ]
    }
   ],
   "source": [
    "if path.exists(file):\n",
    "    with pd.HDFStore(file) as store:\n",
    "        print(store.keys())"
   ]
  },
  {
   "cell_type": "code",
   "execution_count": 29,
   "id": "335ae83f",
   "metadata": {},
   "outputs": [
    {
     "data": {
      "text/html": [
       "<div>\n",
       "<style scoped>\n",
       "    .dataframe tbody tr th:only-of-type {\n",
       "        vertical-align: middle;\n",
       "    }\n",
       "\n",
       "    .dataframe tbody tr th {\n",
       "        vertical-align: top;\n",
       "    }\n",
       "\n",
       "    .dataframe thead th {\n",
       "        text-align: right;\n",
       "    }\n",
       "</style>\n",
       "<table border=\"1\" class=\"dataframe\">\n",
       "  <thead>\n",
       "    <tr style=\"text-align: right;\">\n",
       "      <th></th>\n",
       "      <th>M01</th>\n",
       "      <th>M02</th>\n",
       "      <th>M03</th>\n",
       "      <th>M04</th>\n",
       "      <th>M05</th>\n",
       "      <th>M06</th>\n",
       "      <th>M07</th>\n",
       "      <th>M08</th>\n",
       "      <th>M09</th>\n",
       "      <th>M10</th>\n",
       "      <th>...</th>\n",
       "      <th>viirs_Cloud_Effective_Radius_37_PCL</th>\n",
       "      <th>viirs_Cloud_Water_Path</th>\n",
       "      <th>viirs_Cloud_Water_Path_PCL</th>\n",
       "      <th>viirs_Cloud_Mask</th>\n",
       "      <th>viirs_Surface</th>\n",
       "      <th>VNP02MOD_file</th>\n",
       "      <th>CLDPROP_L2_VIIRS_SNPP_file</th>\n",
       "      <th>along track idx</th>\n",
       "      <th>cross track idx</th>\n",
       "      <th>prediction</th>\n",
       "    </tr>\n",
       "  </thead>\n",
       "  <tbody>\n",
       "    <tr>\n",
       "      <th>0</th>\n",
       "      <td>0.243160</td>\n",
       "      <td>0.194600</td>\n",
       "      <td>0.148699</td>\n",
       "      <td>0.097740</td>\n",
       "      <td>0.066912</td>\n",
       "      <td>0.057636</td>\n",
       "      <td>0.049360</td>\n",
       "      <td>0.039664</td>\n",
       "      <td>0.000620</td>\n",
       "      <td>0.037225</td>\n",
       "      <td>...</td>\n",
       "      <td>-9999.00</td>\n",
       "      <td>7.0</td>\n",
       "      <td>-9999.0</td>\n",
       "      <td>1.0</td>\n",
       "      <td>0.0</td>\n",
       "      <td>VNP02MOD.A2018105.0412.001.2018105094912.nc</td>\n",
       "      <td>CLDPROP_L2_VIIRS_SNPP.A2018105.0412.011.201923...</td>\n",
       "      <td>3198.0</td>\n",
       "      <td>18.0</td>\n",
       "      <td>1</td>\n",
       "    </tr>\n",
       "    <tr>\n",
       "      <th>1</th>\n",
       "      <td>0.259233</td>\n",
       "      <td>0.224367</td>\n",
       "      <td>0.195220</td>\n",
       "      <td>0.156196</td>\n",
       "      <td>0.145640</td>\n",
       "      <td>0.140282</td>\n",
       "      <td>0.132885</td>\n",
       "      <td>0.124169</td>\n",
       "      <td>0.000580</td>\n",
       "      <td>0.097160</td>\n",
       "      <td>...</td>\n",
       "      <td>-9999.00</td>\n",
       "      <td>46.0</td>\n",
       "      <td>-9999.0</td>\n",
       "      <td>0.0</td>\n",
       "      <td>0.0</td>\n",
       "      <td>VNP02MOD.A2018105.2242.001.2018106042628.nc</td>\n",
       "      <td>CLDPROP_L2_VIIRS_SNPP.A2018105.2242.011.201923...</td>\n",
       "      <td>1507.0</td>\n",
       "      <td>1938.0</td>\n",
       "      <td>1</td>\n",
       "    </tr>\n",
       "    <tr>\n",
       "      <th>2</th>\n",
       "      <td>0.401434</td>\n",
       "      <td>0.372406</td>\n",
       "      <td>0.351395</td>\n",
       "      <td>0.328844</td>\n",
       "      <td>0.318949</td>\n",
       "      <td>0.154636</td>\n",
       "      <td>0.418088</td>\n",
       "      <td>0.375285</td>\n",
       "      <td>0.035545</td>\n",
       "      <td>0.245379</td>\n",
       "      <td>...</td>\n",
       "      <td>-9999.00</td>\n",
       "      <td>113.0</td>\n",
       "      <td>-9999.0</td>\n",
       "      <td>0.0</td>\n",
       "      <td>3.0</td>\n",
       "      <td>VNP02MOD.A2018105.1736.001.2018105235203.nc</td>\n",
       "      <td>CLDPROP_L2_VIIRS_SNPP.A2018105.1736.011.201923...</td>\n",
       "      <td>2307.0</td>\n",
       "      <td>1662.0</td>\n",
       "      <td>1</td>\n",
       "    </tr>\n",
       "    <tr>\n",
       "      <th>3</th>\n",
       "      <td>0.270568</td>\n",
       "      <td>0.254175</td>\n",
       "      <td>0.239521</td>\n",
       "      <td>0.216571</td>\n",
       "      <td>0.214731</td>\n",
       "      <td>0.145820</td>\n",
       "      <td>0.244139</td>\n",
       "      <td>0.206995</td>\n",
       "      <td>0.033486</td>\n",
       "      <td>0.144221</td>\n",
       "      <td>...</td>\n",
       "      <td>18.23</td>\n",
       "      <td>-9999.0</td>\n",
       "      <td>-9999.0</td>\n",
       "      <td>0.0</td>\n",
       "      <td>3.0</td>\n",
       "      <td>VNP02MOD.A2018105.0600.001.2018105132711.nc</td>\n",
       "      <td>CLDPROP_L2_VIIRS_SNPP.A2018105.0600.011.201923...</td>\n",
       "      <td>275.0</td>\n",
       "      <td>1336.0</td>\n",
       "      <td>1</td>\n",
       "    </tr>\n",
       "    <tr>\n",
       "      <th>4</th>\n",
       "      <td>0.172529</td>\n",
       "      <td>0.174228</td>\n",
       "      <td>0.174008</td>\n",
       "      <td>0.161353</td>\n",
       "      <td>0.178426</td>\n",
       "      <td>0.152417</td>\n",
       "      <td>0.191001</td>\n",
       "      <td>0.159774</td>\n",
       "      <td>0.026889</td>\n",
       "      <td>0.090823</td>\n",
       "      <td>...</td>\n",
       "      <td>-9999.00</td>\n",
       "      <td>907.0</td>\n",
       "      <td>-9999.0</td>\n",
       "      <td>0.0</td>\n",
       "      <td>0.0</td>\n",
       "      <td>VNP02MOD.A2018105.2224.001.2018106042406.nc</td>\n",
       "      <td>CLDPROP_L2_VIIRS_SNPP.A2018105.2224.011.201923...</td>\n",
       "      <td>2297.0</td>\n",
       "      <td>81.0</td>\n",
       "      <td>1</td>\n",
       "    </tr>\n",
       "    <tr>\n",
       "      <th>...</th>\n",
       "      <td>...</td>\n",
       "      <td>...</td>\n",
       "      <td>...</td>\n",
       "      <td>...</td>\n",
       "      <td>...</td>\n",
       "      <td>...</td>\n",
       "      <td>...</td>\n",
       "      <td>...</td>\n",
       "      <td>...</td>\n",
       "      <td>...</td>\n",
       "      <td>...</td>\n",
       "      <td>...</td>\n",
       "      <td>...</td>\n",
       "      <td>...</td>\n",
       "      <td>...</td>\n",
       "      <td>...</td>\n",
       "      <td>...</td>\n",
       "      <td>...</td>\n",
       "      <td>...</td>\n",
       "      <td>...</td>\n",
       "      <td>...</td>\n",
       "    </tr>\n",
       "    <tr>\n",
       "      <th>9995</th>\n",
       "      <td>0.287182</td>\n",
       "      <td>0.253455</td>\n",
       "      <td>0.218710</td>\n",
       "      <td>0.175148</td>\n",
       "      <td>0.150718</td>\n",
       "      <td>0.143641</td>\n",
       "      <td>0.136484</td>\n",
       "      <td>0.125248</td>\n",
       "      <td>0.063594</td>\n",
       "      <td>0.110834</td>\n",
       "      <td>...</td>\n",
       "      <td>-9999.00</td>\n",
       "      <td>18.0</td>\n",
       "      <td>-9999.0</td>\n",
       "      <td>0.0</td>\n",
       "      <td>0.0</td>\n",
       "      <td>VNP02MOD.A2018105.0730.001.2018105132715.nc</td>\n",
       "      <td>CLDPROP_L2_VIIRS_SNPP.A2018105.0730.011.201923...</td>\n",
       "      <td>1437.0</td>\n",
       "      <td>852.0</td>\n",
       "      <td>1</td>\n",
       "    </tr>\n",
       "    <tr>\n",
       "      <th>9996</th>\n",
       "      <td>0.267630</td>\n",
       "      <td>0.234603</td>\n",
       "      <td>0.203696</td>\n",
       "      <td>0.167271</td>\n",
       "      <td>0.153097</td>\n",
       "      <td>0.149918</td>\n",
       "      <td>0.150638</td>\n",
       "      <td>0.181045</td>\n",
       "      <td>0.001319</td>\n",
       "      <td>0.205255</td>\n",
       "      <td>...</td>\n",
       "      <td>-9999.00</td>\n",
       "      <td>19.0</td>\n",
       "      <td>-9999.0</td>\n",
       "      <td>0.0</td>\n",
       "      <td>0.0</td>\n",
       "      <td>VNP02MOD.A2018105.0548.001.2018105131722.nc</td>\n",
       "      <td>CLDPROP_L2_VIIRS_SNPP.A2018105.0548.011.201923...</td>\n",
       "      <td>487.0</td>\n",
       "      <td>1918.0</td>\n",
       "      <td>1</td>\n",
       "    </tr>\n",
       "    <tr>\n",
       "      <th>9997</th>\n",
       "      <td>0.118631</td>\n",
       "      <td>0.108475</td>\n",
       "      <td>0.091202</td>\n",
       "      <td>0.063914</td>\n",
       "      <td>0.049080</td>\n",
       "      <td>0.043342</td>\n",
       "      <td>0.033466</td>\n",
       "      <td>0.011195</td>\n",
       "      <td>0.000660</td>\n",
       "      <td>0.001959</td>\n",
       "      <td>...</td>\n",
       "      <td>-9999.00</td>\n",
       "      <td>-9999.0</td>\n",
       "      <td>-9999.0</td>\n",
       "      <td>3.0</td>\n",
       "      <td>3.0</td>\n",
       "      <td>VNP02MOD.A2018105.0754.001.2018105150005.nc</td>\n",
       "      <td>CLDPROP_L2_VIIRS_SNPP.A2018105.0754.011.201923...</td>\n",
       "      <td>450.0</td>\n",
       "      <td>27.0</td>\n",
       "      <td>1</td>\n",
       "    </tr>\n",
       "    <tr>\n",
       "      <th>9998</th>\n",
       "      <td>0.409011</td>\n",
       "      <td>0.398636</td>\n",
       "      <td>0.387880</td>\n",
       "      <td>0.364590</td>\n",
       "      <td>0.376385</td>\n",
       "      <td>0.150358</td>\n",
       "      <td>0.444977</td>\n",
       "      <td>0.412190</td>\n",
       "      <td>0.144520</td>\n",
       "      <td>0.199578</td>\n",
       "      <td>...</td>\n",
       "      <td>-9999.00</td>\n",
       "      <td>94.0</td>\n",
       "      <td>-9999.0</td>\n",
       "      <td>0.0</td>\n",
       "      <td>3.0</td>\n",
       "      <td>VNP02MOD.A2018105.1100.001.2018105163413.nc</td>\n",
       "      <td>CLDPROP_L2_VIIRS_SNPP.A2018105.1100.011.201923...</td>\n",
       "      <td>1711.0</td>\n",
       "      <td>3132.0</td>\n",
       "      <td>1</td>\n",
       "    </tr>\n",
       "    <tr>\n",
       "      <th>9999</th>\n",
       "      <td>0.188062</td>\n",
       "      <td>0.154456</td>\n",
       "      <td>0.126128</td>\n",
       "      <td>0.094061</td>\n",
       "      <td>0.074909</td>\n",
       "      <td>0.068732</td>\n",
       "      <td>0.063994</td>\n",
       "      <td>0.062834</td>\n",
       "      <td>0.000440</td>\n",
       "      <td>0.058156</td>\n",
       "      <td>...</td>\n",
       "      <td>14.47</td>\n",
       "      <td>-9999.0</td>\n",
       "      <td>7.0</td>\n",
       "      <td>1.0</td>\n",
       "      <td>0.0</td>\n",
       "      <td>VNP02MOD.A2018105.2100.001.2018106025035.nc</td>\n",
       "      <td>CLDPROP_L2_VIIRS_SNPP.A2018105.2100.011.201923...</td>\n",
       "      <td>1361.0</td>\n",
       "      <td>604.0</td>\n",
       "      <td>1</td>\n",
       "    </tr>\n",
       "  </tbody>\n",
       "</table>\n",
       "<p>10000 rows × 47 columns</p>\n",
       "</div>"
      ],
      "text/plain": [
       "           M01       M02       M03       M04       M05       M06       M07  \\\n",
       "0     0.243160  0.194600  0.148699  0.097740  0.066912  0.057636  0.049360   \n",
       "1     0.259233  0.224367  0.195220  0.156196  0.145640  0.140282  0.132885   \n",
       "2     0.401434  0.372406  0.351395  0.328844  0.318949  0.154636  0.418088   \n",
       "3     0.270568  0.254175  0.239521  0.216571  0.214731  0.145820  0.244139   \n",
       "4     0.172529  0.174228  0.174008  0.161353  0.178426  0.152417  0.191001   \n",
       "...        ...       ...       ...       ...       ...       ...       ...   \n",
       "9995  0.287182  0.253455  0.218710  0.175148  0.150718  0.143641  0.136484   \n",
       "9996  0.267630  0.234603  0.203696  0.167271  0.153097  0.149918  0.150638   \n",
       "9997  0.118631  0.108475  0.091202  0.063914  0.049080  0.043342  0.033466   \n",
       "9998  0.409011  0.398636  0.387880  0.364590  0.376385  0.150358  0.444977   \n",
       "9999  0.188062  0.154456  0.126128  0.094061  0.074909  0.068732  0.063994   \n",
       "\n",
       "           M08       M09       M10  ...  viirs_Cloud_Effective_Radius_37_PCL  \\\n",
       "0     0.039664  0.000620  0.037225  ...                             -9999.00   \n",
       "1     0.124169  0.000580  0.097160  ...                             -9999.00   \n",
       "2     0.375285  0.035545  0.245379  ...                             -9999.00   \n",
       "3     0.206995  0.033486  0.144221  ...                                18.23   \n",
       "4     0.159774  0.026889  0.090823  ...                             -9999.00   \n",
       "...        ...       ...       ...  ...                                  ...   \n",
       "9995  0.125248  0.063594  0.110834  ...                             -9999.00   \n",
       "9996  0.181045  0.001319  0.205255  ...                             -9999.00   \n",
       "9997  0.011195  0.000660  0.001959  ...                             -9999.00   \n",
       "9998  0.412190  0.144520  0.199578  ...                             -9999.00   \n",
       "9999  0.062834  0.000440  0.058156  ...                                14.47   \n",
       "\n",
       "      viirs_Cloud_Water_Path  viirs_Cloud_Water_Path_PCL  viirs_Cloud_Mask  \\\n",
       "0                        7.0                     -9999.0               1.0   \n",
       "1                       46.0                     -9999.0               0.0   \n",
       "2                      113.0                     -9999.0               0.0   \n",
       "3                    -9999.0                     -9999.0               0.0   \n",
       "4                      907.0                     -9999.0               0.0   \n",
       "...                      ...                         ...               ...   \n",
       "9995                    18.0                     -9999.0               0.0   \n",
       "9996                    19.0                     -9999.0               0.0   \n",
       "9997                 -9999.0                     -9999.0               3.0   \n",
       "9998                    94.0                     -9999.0               0.0   \n",
       "9999                 -9999.0                         7.0               1.0   \n",
       "\n",
       "      viirs_Surface                                VNP02MOD_file  \\\n",
       "0               0.0  VNP02MOD.A2018105.0412.001.2018105094912.nc   \n",
       "1               0.0  VNP02MOD.A2018105.2242.001.2018106042628.nc   \n",
       "2               3.0  VNP02MOD.A2018105.1736.001.2018105235203.nc   \n",
       "3               3.0  VNP02MOD.A2018105.0600.001.2018105132711.nc   \n",
       "4               0.0  VNP02MOD.A2018105.2224.001.2018106042406.nc   \n",
       "...             ...                                          ...   \n",
       "9995            0.0  VNP02MOD.A2018105.0730.001.2018105132715.nc   \n",
       "9996            0.0  VNP02MOD.A2018105.0548.001.2018105131722.nc   \n",
       "9997            3.0  VNP02MOD.A2018105.0754.001.2018105150005.nc   \n",
       "9998            3.0  VNP02MOD.A2018105.1100.001.2018105163413.nc   \n",
       "9999            0.0  VNP02MOD.A2018105.2100.001.2018106025035.nc   \n",
       "\n",
       "                             CLDPROP_L2_VIIRS_SNPP_file  along track idx  \\\n",
       "0     CLDPROP_L2_VIIRS_SNPP.A2018105.0412.011.201923...           3198.0   \n",
       "1     CLDPROP_L2_VIIRS_SNPP.A2018105.2242.011.201923...           1507.0   \n",
       "2     CLDPROP_L2_VIIRS_SNPP.A2018105.1736.011.201923...           2307.0   \n",
       "3     CLDPROP_L2_VIIRS_SNPP.A2018105.0600.011.201923...            275.0   \n",
       "4     CLDPROP_L2_VIIRS_SNPP.A2018105.2224.011.201923...           2297.0   \n",
       "...                                                 ...              ...   \n",
       "9995  CLDPROP_L2_VIIRS_SNPP.A2018105.0730.011.201923...           1437.0   \n",
       "9996  CLDPROP_L2_VIIRS_SNPP.A2018105.0548.011.201923...            487.0   \n",
       "9997  CLDPROP_L2_VIIRS_SNPP.A2018105.0754.011.201923...            450.0   \n",
       "9998  CLDPROP_L2_VIIRS_SNPP.A2018105.1100.011.201923...           1711.0   \n",
       "9999  CLDPROP_L2_VIIRS_SNPP.A2018105.2100.011.201923...           1361.0   \n",
       "\n",
       "      cross track idx  prediction  \n",
       "0                18.0           1  \n",
       "1              1938.0           1  \n",
       "2              1662.0           1  \n",
       "3              1336.0           1  \n",
       "4                81.0           1  \n",
       "...               ...         ...  \n",
       "9995            852.0           1  \n",
       "9996           1918.0           1  \n",
       "9997             27.0           1  \n",
       "9998           3132.0           1  \n",
       "9999            604.0           1  \n",
       "\n",
       "[10000 rows x 47 columns]"
      ]
     },
     "execution_count": 29,
     "metadata": {},
     "output_type": "execute_result"
    }
   ],
   "source": [
    "if path.exists(file):\n",
    "    with pd.HDFStore(file) as store:\n",
    "        df = store['sample']\n",
    "\n",
    "df"
   ]
  },
  {
   "cell_type": "code",
   "execution_count": 30,
   "id": "ec5d5b87",
   "metadata": {},
   "outputs": [
    {
     "data": {
      "text/plain": [
       "Index(['M01', 'M02', 'M03', 'M04', 'M05', 'M06', 'M07', 'M08', 'M09', 'M10',\n",
       "       'M11', 'M12', 'M13', 'M14', 'M15', 'M16', 'latitude', 'longitude',\n",
       "       'viirs_solar_zenith', 'viirs_sensor_zenith', 'viirs_solar_azimuth',\n",
       "       'viirs_sensor_azimuth', 'viirs_Cloud_Top_Temperature',\n",
       "       'viirs_Cloud_Top_Height', 'viirs_Cloud_Top_Pressure',\n",
       "       'viirs_Cloud_Phase_Cloud_Top_Properties',\n",
       "       'viirs_Cloud_Optical_Thickness', 'viirs_Cloud_Optical_Thickness_PCL',\n",
       "       'viirs_Cloud_Optical_Thickness_16',\n",
       "       'viirs_Cloud_Optical_Thickness_16_PCL',\n",
       "       'viirs_Cloud_Optical_Thickness_37',\n",
       "       'viirs_Cloud_Optical_Thickness_37_PCL', 'viirs_Cloud_Effective_Radius',\n",
       "       'viirs_Cloud_Effective_Radius_PCL', 'viirs_Cloud_Effective_Radius_16',\n",
       "       'viirs_Cloud_Effective_Radius_16_PCL',\n",
       "       'viirs_Cloud_Effective_Radius_37',\n",
       "       'viirs_Cloud_Effective_Radius_37_PCL', 'viirs_Cloud_Water_Path',\n",
       "       'viirs_Cloud_Water_Path_PCL', 'viirs_Cloud_Mask', 'viirs_Surface',\n",
       "       'VNP02MOD_file', 'CLDPROP_L2_VIIRS_SNPP_file', 'along track idx',\n",
       "       'cross track idx', 'prediction'],\n",
       "      dtype='object')"
      ]
     },
     "execution_count": 30,
     "metadata": {},
     "output_type": "execute_result"
    }
   ],
   "source": [
    "df.columns"
   ]
  },
  {
   "cell_type": "code",
   "execution_count": 31,
   "id": "1e27b3d7",
   "metadata": {},
   "outputs": [
    {
     "data": {
      "text/plain": [
       "1.0    4282\n",
       "0.0    3469\n",
       "2.0    2249\n",
       "Name: viirs_Cloud_Phase_Cloud_Top_Properties, dtype: int64"
      ]
     },
     "execution_count": 31,
     "metadata": {},
     "output_type": "execute_result"
    }
   ],
   "source": [
    "df['viirs_Cloud_Phase_Cloud_Top_Properties'].value_counts()"
   ]
  },
  {
   "cell_type": "code",
   "execution_count": 32,
   "id": "67226f39",
   "metadata": {},
   "outputs": [
    {
     "data": {
      "text/plain": [
       "0.0    6077\n",
       "3.0    3110\n",
       "1.0     454\n",
       "2.0     359\n",
       "Name: viirs_Cloud_Mask, dtype: int64"
      ]
     },
     "execution_count": 32,
     "metadata": {},
     "output_type": "execute_result"
    }
   ],
   "source": [
    "df['viirs_Cloud_Mask'].value_counts()"
   ]
  },
  {
   "cell_type": "code",
   "execution_count": null,
   "id": "8aa4ec83",
   "metadata": {},
   "outputs": [],
   "source": []
  },
  {
   "cell_type": "code",
   "execution_count": 33,
   "id": "58e1633b",
   "metadata": {},
   "outputs": [
    {
     "data": {
      "text/plain": [
       "1    6955\n",
       "0    3045\n",
       "Name: prediction, dtype: int64"
      ]
     },
     "execution_count": 33,
     "metadata": {},
     "output_type": "execute_result"
    }
   ],
   "source": [
    "df['prediction'].value_counts()"
   ]
  },
  {
   "cell_type": "code",
   "execution_count": null,
   "id": "6942a41c",
   "metadata": {},
   "outputs": [],
   "source": []
  },
  {
   "cell_type": "code",
   "execution_count": null,
   "id": "e64ed7dd",
   "metadata": {},
   "outputs": [],
   "source": []
  },
  {
   "cell_type": "code",
   "execution_count": 34,
   "id": "2993ace2",
   "metadata": {},
   "outputs": [],
   "source": [
    "df_cloudy = df[ df['viirs_Cloud_Mask'] < 2]"
   ]
  },
  {
   "cell_type": "code",
   "execution_count": 35,
   "id": "abdd9b0d",
   "metadata": {},
   "outputs": [
    {
     "data": {
      "text/plain": [
       "1.0    4282\n",
       "2.0    2249\n",
       "Name: viirs_Cloud_Phase_Cloud_Top_Properties, dtype: int64"
      ]
     },
     "execution_count": 35,
     "metadata": {},
     "output_type": "execute_result"
    }
   ],
   "source": [
    "df_cloudy['viirs_Cloud_Phase_Cloud_Top_Properties'].value_counts()"
   ]
  },
  {
   "cell_type": "code",
   "execution_count": 36,
   "id": "0c308b32",
   "metadata": {},
   "outputs": [
    {
     "data": {
      "text/plain": [
       "1    6243\n",
       "0     288\n",
       "Name: prediction, dtype: int64"
      ]
     },
     "execution_count": 36,
     "metadata": {},
     "output_type": "execute_result"
    }
   ],
   "source": [
    "df_cloudy['prediction'].value_counts()"
   ]
  },
  {
   "cell_type": "code",
   "execution_count": null,
   "id": "fd2fd88d",
   "metadata": {},
   "outputs": [],
   "source": []
  },
  {
   "cell_type": "code",
   "execution_count": 37,
   "id": "6e75a92a",
   "metadata": {},
   "outputs": [],
   "source": [
    "m1 = df['viirs_Cloud_Mask']\n",
    "m2 = df['prediction']\n",
    "\n",
    "# c1 = df[ (m1 < 2) & (m2 != 0) ].shape[0]\n",
    "# c2 = df[ (m1 < 2) & (m2 == 0) ].shape[0]\n",
    "# c3 = df[ (m1 >= 2) & (m2 != 0) ].shape[0]\n",
    "# c4 = df[ (m1 >= 2) & (m2 == 0) ].shape[0]\n",
    "\n",
    "c1 = df[ (m1 < 2) & (m2 == 1) ].shape[0] #cloudy\n",
    "c2 = df[ (m1 < 2) & (m2 == 0) ].shape[0]\n",
    "c3 = df[ (m1 >= 2) & (m2 == 1) ].shape[0]\n",
    "c4 = df[ (m1 >= 2) & (m2 == 0) ].shape[0] #clear"
   ]
  },
  {
   "cell_type": "code",
   "execution_count": 38,
   "id": "1190018d",
   "metadata": {},
   "outputs": [
    {
     "name": "stdout",
     "output_type": "stream",
     "text": [
      "[[ 712 2757]\n",
      " [6243  288]]\n"
     ]
    },
    {
     "data": {
      "image/png": "[encoded data removed]",
      "text/plain": [
       "<Figure size 640x480 with 1 Axes>"
      ]
     },
     "metadata": {},
     "output_type": "display_data"
    }
   ],
   "source": [
    "tot_counts = c1 + c2 + c3 + c4\n",
    "\n",
    "conf_arr = np.array([[ c3,   c4],\n",
    "                     [  c1,  c2]])\n",
    "\n",
    "print(conf_arr)\n",
    "\n",
    "conf_arr = 100. * conf_arr / tot_counts\n",
    "\n",
    "df_cm = pd.DataFrame(conf_arr, \n",
    "                  index = ['VIIRS CLDPROP Liquid', 'VIIRS CLDPROP Ice'],\n",
    "                  columns = ['VIIRS ACCESS Liquid', 'VIIRS ACCESS Ice'])\n",
    "\n",
    "fig = plt.figure(num=None, figsize=(8, 6), dpi=80, facecolor=fig_style_dict['facecolor'], edgecolor='k')\n",
    "\n",
    "plt.clf()\n",
    "\n",
    "ax = fig.add_subplot(111)\n",
    "\n",
    "ax.set_aspect(1)\n",
    "\n",
    "res = sns.heatmap(df_cm, annot=True, vmin=0.0, vmax=100.0, fmt='.2f', cmap=\"YlGnBu\",annot_kws={\"size\": fig_style_dict['heatmap_annot_font_size']},cbar=False)\n",
    "\n",
    "plt.xticks([0.5,1.5], ['VIIRS ACCESS Cloudy', 'VIIRS ACCESS Clear'],fontsize=fig_style_dict['label_font_size'])\n",
    "plt.yticks([1.5,0.5], ['VIIRS CLDPROP Cloudy','VIIRS CLDPROP Clear'],va='center',fontsize=fig_style_dict['label_font_size'])\n",
    "\n",
    "#plt.title('Accuracy :'+str(round((c1+c4)/tot_counts,2)),fontsize=fig_style_dict['title_font_size'])\n",
    "\n",
    "#plt.savefig(\"modis_deep_learning_cloud_phase_confusion_matrix_01.png\", bbox_inches='tight', dpi=100)\n",
    "\n",
    "plt.savefig('contingency_cloud_mask.png', dpi=150)\n",
    "\n",
    "plt.show()"
   ]
  },
  {
   "cell_type": "code",
   "execution_count": null,
   "id": "9cb11d88",
   "metadata": {},
   "outputs": [],
   "source": []
  },
  {
   "cell_type": "code",
   "execution_count": 115,
   "id": "1076013a",
   "metadata": {},
   "outputs": [],
   "source": [
    "m1 = df['viirs_Cloud_Phase_Cloud_Top_Properties']\n",
    "m2 = df['prediction']\n",
    "\n",
    "c1 = df[ (m1 == 1) & (m2 == 1) ].shape[0]\n",
    "c2 = df[ (m1 == 1) & (m2 == 2) ].shape[0]\n",
    "c3 = df[ (m1 == 2) & (m2 == 1) ].shape[0]\n",
    "c4 = df[ (m1 == 2) & (m2 == 2) ].shape[0]"
   ]
  },
  {
   "cell_type": "code",
   "execution_count": 116,
   "id": "68bfd1dc",
   "metadata": {},
   "outputs": [
    {
     "name": "stdout",
     "output_type": "stream",
     "text": [
      "[[ 854  702]\n",
      " [1987 1520]]\n"
     ]
    },
    {
     "data": {
      "image/png": "[encoded data removed]",
      "text/plain": [
       "<Figure size 640x480 with 1 Axes>"
      ]
     },
     "metadata": {},
     "output_type": "display_data"
    }
   ],
   "source": [
    "tot_counts = c1 + c2 + c3 + c4\n",
    "\n",
    "conf_arr = np.array([[ c3,   c4],\n",
    "                     [  c1,  c2]])\n",
    "\n",
    "print(conf_arr)\n",
    "\n",
    "conf_arr = 100. * conf_arr / tot_counts\n",
    "\n",
    "df_cm = pd.DataFrame(conf_arr, \n",
    "                  index = ['VIIRS CLDPROP Liquid', 'VIIRS CLDPROP Ice'],\n",
    "                  columns = ['VIIRS ACCESS Liquid', 'VIIRS ACCESS Ice'])\n",
    "\n",
    "fig = plt.figure(num=None, figsize=(8, 6), dpi=80, facecolor=fig_style_dict['facecolor'], edgecolor='k')\n",
    "\n",
    "plt.clf()\n",
    "\n",
    "ax = fig.add_subplot(111)\n",
    "\n",
    "ax.set_aspect(1)\n",
    "\n",
    "res = sns.heatmap(df_cm, annot=True, vmin=0.0, vmax=100.0, fmt='.2f', cmap=\"YlGnBu\",annot_kws={\"size\": fig_style_dict['heatmap_annot_font_size']},cbar=False)\n",
    "\n",
    "plt.xticks([0.5,1.5], ['VIIRS ACCESS Liquid', 'VIIRS ACCESS Ice'],fontsize=fig_style_dict['label_font_size'])\n",
    "plt.yticks([1.5,0.5], ['VIIRS CLDPROP Liquid','VIIRS CLDPROP Ice'],va='center',fontsize=fig_style_dict['label_font_size'])\n",
    "\n",
    "#plt.title('Accuracy :'+str(round((c1+c4)/tot_counts,2)),fontsize=fig_style_dict['title_font_size'])\n",
    "\n",
    "#plt.savefig(\"modis_deep_learning_cloud_phase_confusion_matrix_01.png\", bbox_inches='tight', dpi=100)\n",
    "\n",
    "plt.savefig('contingency_cloud_phase.png', dpi=150)\n",
    "\n",
    "plt.show()"
   ]
  },
  {
   "cell_type": "code",
   "execution_count": null,
   "id": "5a2151e4",
   "metadata": {},
   "outputs": [],
   "source": []
  },
  {
   "cell_type": "code",
   "execution_count": null,
   "id": "d2d0aea6",
   "metadata": {},
   "outputs": [],
   "source": []
  },
  {
   "cell_type": "code",
   "execution_count": 117,
   "id": "015505b0",
   "metadata": {},
   "outputs": [],
   "source": [
    "bins = np.arange(0,80,5)"
   ]
  },
  {
   "cell_type": "code",
   "execution_count": 118,
   "id": "10d58a45",
   "metadata": {},
   "outputs": [
    {
     "data": {
      "image/png": "[encoded data removed]",
      "text/plain": [
       "<Figure size 432x288 with 1 Axes>"
      ]
     },
     "metadata": {},
     "output_type": "display_data"
    }
   ],
   "source": [
    "cloudy = df['viirs_sensor_zenith'][ df['prediction'] != 0 ]\n",
    "#n_cloudy, bins_new, patches = plt.hist(cloudy,bins=bins)\n",
    "n_cloudy, bins_new, patches = plt.hist(cloudy,bins=bins,density=True)\n",
    "plt.xlabel(\"VIIRS Sensor Zenith\", fontsize=14)\n",
    "plt.savefig('cldprop_cloud_fraction.png', dpi=150)\n",
    "plt.show()\n",
    "plt.close()"
   ]
  },
  {
   "cell_type": "code",
   "execution_count": 119,
   "id": "cfd6fdf1",
   "metadata": {},
   "outputs": [
    {
     "data": {
      "image/png": "[encoded data removed]",
      "text/plain": [
       "<Figure size 432x288 with 1 Axes>"
      ]
     },
     "metadata": {},
     "output_type": "display_data"
    }
   ],
   "source": [
    "cloudy = df['viirs_sensor_zenith'][ df['viirs_Cloud_Mask'] < 2 ]\n",
    "#n_cloudy, bins_new, patches = plt.hist(cloudy,bins=bins)\n",
    "n_cloudy, bins_new, patches = plt.hist(cloudy,bins=bins,density=True)\n",
    "plt.xlabel(\"VIIRS Sensor Zenith\", fontsize=14)\n",
    "plt.savefig('dl_access_cloud_fraction.png', dpi=150)\n",
    "plt.show()\n",
    "plt.close()"
   ]
  },
  {
   "cell_type": "code",
   "execution_count": null,
   "id": "d82ce208",
   "metadata": {},
   "outputs": [],
   "source": []
  },
  {
   "cell_type": "code",
   "execution_count": null,
   "id": "e7b14da8",
   "metadata": {},
   "outputs": [],
   "source": []
  },
  {
   "cell_type": "code",
   "execution_count": null,
   "id": "8c5b6c65",
   "metadata": {},
   "outputs": [],
   "source": []
  },
  {
   "cell_type": "code",
   "execution_count": null,
   "id": "a4a17dd4",
   "metadata": {},
   "outputs": [],
   "source": []
  },
  {
   "cell_type": "code",
   "execution_count": null,
   "id": "22b4bfac",
   "metadata": {},
   "outputs": [],
   "source": []
  },
  {
   "cell_type": "code",
   "execution_count": 120,
   "id": "b652f81c",
   "metadata": {},
   "outputs": [
    {
     "name": "stdout",
     "output_type": "stream",
     "text": [
      "[357. 347. 367. 376. 361. 378. 361. 436. 493. 479. 600. 792. 730. 689.\n",
      "  36.]\n",
      "[243. 235. 255. 258. 244. 254. 239. 279. 360. 332. 426. 573. 501. 493.\n",
      "  25.]\n",
      "357.0 243.0\n",
      "347.0 235.0\n",
      "367.0 255.0\n",
      "376.0 258.0\n",
      "361.0 244.0\n",
      "378.0 254.0\n",
      "361.0 239.0\n",
      "436.0 279.0\n",
      "493.0 360.0\n",
      "479.0 332.0\n",
      "600.0 426.0\n",
      "792.0 573.0\n",
      "730.0 501.0\n",
      "689.0 493.0\n",
      "36.0 25.0\n",
      "[ 2.5  7.5 12.5 17.5 22.5 27.5 32.5 37.5 42.5 47.5 52.5 57.5 62.5 67.5\n",
      " 72.5]\n"
     ]
    },
    {
     "data": {
      "image/png": "[encoded data removed]",
      "text/plain": [
       "<Figure size 432x288 with 1 Axes>"
      ]
     },
     "metadata": {},
     "output_type": "display_data"
    }
   ],
   "source": [
    "cloudy = df['viirs_sensor_zenith'][ df['viirs_Cloud_Mask'] < 2 ]\n",
    "n_cloudy, bins_new, patches = plt.hist(cloudy,bins=bins)\n",
    "plt.close()\n",
    "\n",
    "liq = df['viirs_sensor_zenith'][ ( df['viirs_Cloud_Mask'] < 2 ) & (df['viirs_Cloud_Phase_Cloud_Top_Properties'] == 1) ]\n",
    "n_liquid, bins_new, patches = plt.hist(liq,bins=bins)\n",
    "plt.close()\n",
    "\n",
    "liquid_cloud_fraction_per_vza = [z/y for y, z in zip(n_cloudy, n_liquid)]\n",
    "\n",
    "print(n_cloudy)\n",
    "print(n_liquid)\n",
    "\n",
    "bins=np.arange(2.5,80,5)\n",
    "\n",
    "for i,j in zip(n_cloudy,n_liquid):\n",
    "    print(i,j)\n",
    "\n",
    "print(bins[:-1])\n",
    "\n",
    "plt.bar(bins[:-1],liquid_cloud_fraction_per_vza,5)\n",
    "\n",
    "#plt.plot(bins[:-1],liquid_cloud_fraction_per_vza,5)\n",
    "\n",
    "plt.xlim(0,70)\n",
    "plt.ylim(0,1)\n",
    "\n",
    "plt.xlabel('Sensor Zenith Angle')\n",
    "plt.ylabel('Liquid Cloud Fraction')\n",
    "\n",
    "plt.show()"
   ]
  },
  {
   "cell_type": "code",
   "execution_count": 121,
   "id": "562d10eb",
   "metadata": {},
   "outputs": [
    {
     "name": "stderr",
     "output_type": "stream",
     "text": [
      "<ipython-input-121-9c9bffabf54a>:9: RuntimeWarning: invalid value encountered in double_scalars\n",
      "  ice_cloud_fraction_per_vza = [z/y for y, z in zip(n_cloudy, n_liquid)]\n"
     ]
    },
    {
     "data": {
      "image/png": "[encoded data removed]",
      "text/plain": [
       "<Figure size 432x288 with 1 Axes>"
      ]
     },
     "metadata": {},
     "output_type": "display_data"
    }
   ],
   "source": [
    "cloudy = df['viirs_sensor_zenith'][ df['viirs_Cloud_Mask'] < 2 ]\n",
    "n_cloudy, bins_new, patches = plt.hist(cloudy,bins=bins)\n",
    "plt.close()\n",
    "\n",
    "liq = df['viirs_sensor_zenith'][ ( df['viirs_Cloud_Mask'] < 2 ) & (df['viirs_Cloud_Phase_Cloud_Top_Properties'] == 2) ]\n",
    "n_liquid, bins_new, patches = plt.hist(liq,bins=bins)\n",
    "plt.close()\n",
    "\n",
    "ice_cloud_fraction_per_vza = [z/y for y, z in zip(n_cloudy, n_liquid)]\n",
    "\n",
    "bins=np.arange(2.5,80,5)\n",
    "\n",
    "#plt.bar(bins[:-1],ice_cloud_fraction_per_vza,5)\n",
    "\n",
    "plt.plot(bins[:-1],liquid_cloud_fraction_per_vza,5)\n",
    "plt.plot(bins[:-1],ice_cloud_fraction_per_vza,5)\n",
    "\n",
    "blue_patch = mpatches.Patch(color=(0.2980392156862745, 0.4470588235294118, 0.6901960784313725), label='LIQUID')\n",
    "green_patch = mpatches.Patch(color=(0.3333333333333333, 0.6588235294117647, 0.40784313725490196), label='ICE')\n",
    "\n",
    "plt.legend(handles=[blue_patch,green_patch])\n",
    "\n",
    "plt.xlim(0,70)\n",
    "plt.ylim(0,1)\n",
    "\n",
    "plt.xlabel('Sensor Zenith Angle')\n",
    "plt.ylabel('Ice Cloud Fraction')\n",
    "\n",
    "plt.savefig('cldprop_cloud_phase_fraction.png', dpi=150)\n",
    "\n",
    "plt.show()"
   ]
  },
  {
   "cell_type": "code",
   "execution_count": null,
   "id": "86558b84",
   "metadata": {},
   "outputs": [],
   "source": []
  },
  {
   "cell_type": "code",
   "execution_count": null,
   "id": "22ccafa6",
   "metadata": {},
   "outputs": [],
   "source": []
  },
  {
   "cell_type": "code",
   "execution_count": null,
   "id": "ef328791",
   "metadata": {},
   "outputs": [],
   "source": []
  },
  {
   "cell_type": "code",
   "execution_count": null,
   "id": "df296380",
   "metadata": {},
   "outputs": [],
   "source": []
  },
  {
   "cell_type": "code",
   "execution_count": null,
   "id": "96cab466",
   "metadata": {},
   "outputs": [],
   "source": []
  },
  {
   "cell_type": "code",
   "execution_count": null,
   "id": "c8c956c5",
   "metadata": {},
   "outputs": [],
   "source": []
  },
  {
   "cell_type": "code",
   "execution_count": null,
   "id": "2a79ad3c",
   "metadata": {},
   "outputs": [],
   "source": []
  },
  {
   "cell_type": "code",
   "execution_count": null,
   "id": "c0b31f66",
   "metadata": {},
   "outputs": [],
   "source": []
  },
  {
   "cell_type": "code",
   "execution_count": 122,
   "id": "92435206",
   "metadata": {},
   "outputs": [
    {
     "name": "stderr",
     "output_type": "stream",
     "text": [
      "<ipython-input-122-323681fb0386>:9: RuntimeWarning: invalid value encountered in double_scalars\n",
      "  liquid_cloud_fraction_per_vza = [z/y for y, z in zip(n_cloudy, n_liquid)]\n"
     ]
    },
    {
     "data": {
      "image/png": "[encoded data removed]",
      "text/plain": [
       "<Figure size 432x288 with 1 Axes>"
      ]
     },
     "metadata": {},
     "output_type": "display_data"
    }
   ],
   "source": [
    "cloudy = df['viirs_sensor_zenith'][ df['prediction'] != 0 ]\n",
    "n_cloudy, bins_new, patches = plt.hist(cloudy,bins=bins)\n",
    "plt.close()\n",
    "\n",
    "liq = df['viirs_sensor_zenith'][ ( df['prediction'] != 0 ) & (df['prediction'] == 1) ]\n",
    "n_liquid, bins_new, patches = plt.hist(liq,bins=bins)\n",
    "plt.close()\n",
    "\n",
    "liquid_cloud_fraction_per_vza = [z/y for y, z in zip(n_cloudy, n_liquid)]\n",
    "\n",
    "bins=np.arange(2.5,80,5)\n",
    "\n",
    "plt.bar(bins[:-1],liquid_cloud_fraction_per_vza,5)\n",
    "\n",
    "#plt.plot(bins[:-1],liquid_cloud_fraction_per_vza,5)\n",
    "\n",
    "plt.xlim(0,70)\n",
    "plt.ylim(0,1)\n",
    "\n",
    "plt.xlabel('Sensor Zenith Angle')\n",
    "plt.ylabel('Liquid Cloud Fraction')\n",
    "\n",
    "plt.show()"
   ]
  },
  {
   "cell_type": "code",
   "execution_count": 123,
   "id": "ffa8694e",
   "metadata": {},
   "outputs": [
    {
     "name": "stderr",
     "output_type": "stream",
     "text": [
      "<ipython-input-123-2f064567681a>:9: RuntimeWarning: invalid value encountered in double_scalars\n",
      "  liquid_cloud_fraction_per_vza = [z/y for y, z in zip(n_cloudy, n_liquid)]\n"
     ]
    },
    {
     "data": {
      "image/png": "[encoded data removed]",
      "text/plain": [
       "<Figure size 432x288 with 1 Axes>"
      ]
     },
     "metadata": {},
     "output_type": "display_data"
    }
   ],
   "source": [
    "cloudy = df['viirs_sensor_zenith'][ df['prediction'] != 0 ]\n",
    "n_cloudy, bins_new, patches = plt.hist(cloudy,bins=bins)\n",
    "plt.close()\n",
    "\n",
    "liq = df['viirs_sensor_zenith'][ ( df['prediction'] != 0 ) & (df['prediction'] == 2) ]\n",
    "n_liquid, bins_new, patches = plt.hist(liq,bins=bins)\n",
    "plt.close()\n",
    "\n",
    "liquid_cloud_fraction_per_vza = [z/y for y, z in zip(n_cloudy, n_liquid)]\n",
    "\n",
    "bins=np.arange(2.5,80,5)\n",
    "\n",
    "#plt.bar(bins[:-1],liquid_cloud_fraction_per_vza,5)\n",
    "\n",
    "plt.plot(bins[:-1],liquid_cloud_fraction_per_vza,5)\n",
    "plt.plot(bins[:-1],ice_cloud_fraction_per_vza,5)\n",
    "\n",
    "plt.xlim(0,70)\n",
    "plt.ylim(0,1)\n",
    "\n",
    "blue_patch = mpatches.Patch(color=(0.2980392156862745, 0.4470588235294118, 0.6901960784313725), label='LIQUID')\n",
    "green_patch = mpatches.Patch(color=(0.3333333333333333, 0.6588235294117647, 0.40784313725490196), label='ICE')\n",
    "\n",
    "plt.legend(handles=[blue_patch,green_patch])\n",
    "\n",
    "plt.xlabel('Sensor Zenith Angle')\n",
    "plt.ylabel('Ice Cloud Fraction')\n",
    "\n",
    "plt.savefig('dl_access_cloud_phase_fraction.png', dpi=150)\n",
    "\n",
    "plt.show()"
   ]
  },
  {
   "cell_type": "code",
   "execution_count": null,
   "id": "ab868d03",
   "metadata": {},
   "outputs": [],
   "source": []
  },
  {
   "cell_type": "code",
   "execution_count": null,
   "id": "da870346",
   "metadata": {},
   "outputs": [],
   "source": []
  },
  {
   "cell_type": "code",
   "execution_count": null,
   "id": "be997573",
   "metadata": {},
   "outputs": [],
   "source": []
  },
  {
   "cell_type": "code",
   "execution_count": null,
   "id": "f538dba1",
   "metadata": {},
   "outputs": [],
   "source": []
  },
  {
   "cell_type": "code",
   "execution_count": null,
   "id": "3ea8c974",
   "metadata": {},
   "outputs": [],
   "source": []
  },
  {
   "cell_type": "code",
   "execution_count": null,
   "id": "8dcf9d73",
   "metadata": {},
   "outputs": [],
   "source": []
  }
 ],
 "metadata": {
  "kernelspec": {
   "display_name": "Python 3",
   "language": "python",
   "name": "python3"
  },
  "language_info": {
   "codemirror_mode": {
    "name": "ipython",
    "version": 3
   },
   "file_extension": ".py",
   "mimetype": "text/x-python",
   "name": "python",
   "nbconvert_exporter": "python",
   "pygments_lexer": "ipython3",
   "version": "3.8.8"
  }
 },
 "nbformat": 4,
 "nbformat_minor": 5
}
