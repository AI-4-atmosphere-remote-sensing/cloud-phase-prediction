{
 "cells": [
  {
   "cell_type": "markdown",
   "id": "6542b2b0",
   "metadata": {},
   "source": [
    "<div class=\"alert alert-info\">\n",
    "<center>\n",
    "<h1 style=\"font-size:22px\">UMBC ACCESS Project Evaluation</h1>\n",
    "<br>\n",
    "Benjamin H.G. Marchant <br>\n",
    "benjamin.marchant@nasa.gov <br>\n",
    "marchant.benjamin01@gmail.com <br>\n",
    "</center>\n",
    "</div>"
   ]
  },
  {
   "cell_type": "code",
   "execution_count": 1,
   "id": "786ba1c1",
   "metadata": {},
   "outputs": [],
   "source": [
    "from os import path\n",
    "\n",
    "import glob\n",
    "import random\n",
    "import pandas as pd\n",
    "import matplotlib.pyplot as plt\n",
    "import matplotlib.cm as cm\n",
    "import matplotlib.patches as mpatches\n",
    "import numpy as np\n",
    "import seaborn as sns; sns.set()"
   ]
  },
  {
   "cell_type": "code",
   "execution_count": 2,
   "id": "e0b1e056",
   "metadata": {},
   "outputs": [],
   "source": [
    "fig_style_dict = {}\n",
    "\n",
    "fig_style_dict['fig_type'] = 'analysis'\n",
    "\n",
    "if fig_style_dict['fig_type'] == 'talk':\n",
    "    fig_style_dict['facecolor'] = '#E8E8E8'\n",
    "    fig_style_dict['label_font_size'] = 18\n",
    "    fig_style_dict['title_font_size'] = 22\n",
    "    fig_style_dict['heatmap_annot_font_size'] = 22\n",
    "else:\n",
    "    fig_style_dict['facecolor'] = 'white'\n",
    "    fig_style_dict['label_font_size'] = 12\n",
    "    fig_style_dict['title_font_size'] = 14\n",
    "    fig_style_dict['heatmap_annot_font_size'] = 14"
   ]
  },
  {
   "cell_type": "code",
   "execution_count": 3,
   "id": "e3fa317b",
   "metadata": {},
   "outputs": [],
   "source": [
    "path_to_data = '/Users/nizhao/xin/access/newdata/from_ben/to_ben/m16/'"
   ]
  },
  {
   "cell_type": "code",
   "execution_count": 4,
   "id": "e0c3f77d",
   "metadata": {},
   "outputs": [
    {
     "data": {
      "text/plain": [
       "['/Users/nizhao/xin/access/newdata/from_ben/to_ben/m16/viirs_sample_2018_09_20.hdf5',\n",
       " '/Users/nizhao/xin/access/newdata/from_ben/to_ben/m16/viirs_sample_2018_05_15.hdf5',\n",
       " '/Users/nizhao/xin/access/newdata/from_ben/to_ben/m16/viirs_sample_2018_06_05.hdf5',\n",
       " '/Users/nizhao/xin/access/newdata/from_ben/to_ben/m16/viirs_sample_2018_03_10.hdf5',\n",
       " '/Users/nizhao/xin/access/newdata/from_ben/to_ben/m16/viirs_sample_2018_10_20.hdf5',\n",
       " '/Users/nizhao/xin/access/newdata/from_ben/to_ben/m16/viirs_sample_2018_06_25.hdf5',\n",
       " '/Users/nizhao/xin/access/newdata/from_ben/to_ben/m16/viirs_sample_2018_01_20.hdf5',\n",
       " '/Users/nizhao/xin/access/newdata/from_ben/to_ben/m16/viirs_sample_2018_11_20.hdf5',\n",
       " '/Users/nizhao/xin/access/newdata/from_ben/to_ben/m16/viirs_sample_2018_07_25.hdf5',\n",
       " '/Users/nizhao/xin/access/newdata/from_ben/to_ben/m16/viirs_sample_2018_08_20.hdf5',\n",
       " '/Users/nizhao/xin/access/newdata/from_ben/to_ben/m16/viirs_sample_2018_04_15.hdf5',\n",
       " '/Users/nizhao/xin/access/newdata/from_ben/to_ben/m16/viirs_sample_2018_07_05.hdf5',\n",
       " '/Users/nizhao/xin/access/newdata/from_ben/to_ben/m16/viirs_sample_2018_02_10.hdf5',\n",
       " '/Users/nizhao/xin/access/newdata/from_ben/to_ben/m16/viirs_sample_2018_12_10.hdf5',\n",
       " '/Users/nizhao/xin/access/newdata/from_ben/to_ben/m16/viirs_sample_2018_03_20.hdf5',\n",
       " '/Users/nizhao/xin/access/newdata/from_ben/to_ben/m16/viirs_sample_2018_09_10.hdf5',\n",
       " '/Users/nizhao/xin/access/newdata/from_ben/to_ben/m16/viirs_sample_2018_05_25.hdf5',\n",
       " '/Users/nizhao/xin/access/newdata/from_ben/to_ben/m16/viirs_sample_2018_05_05.hdf5',\n",
       " '/Users/nizhao/xin/access/newdata/from_ben/to_ben/m16/viirs_sample_2018_06_15.hdf5',\n",
       " '/Users/nizhao/xin/access/newdata/from_ben/to_ben/m16/viirs_sample_2018_10_10.hdf5',\n",
       " '/Users/nizhao/xin/access/newdata/from_ben/to_ben/m16/viirs_sample_2018_04_05.hdf5',\n",
       " '/Users/nizhao/xin/access/newdata/from_ben/to_ben/m16/viirs_sample_2018_07_15.hdf5',\n",
       " '/Users/nizhao/xin/access/newdata/from_ben/to_ben/m16/viirs_sample_2018_01_10.hdf5',\n",
       " '/Users/nizhao/xin/access/newdata/from_ben/to_ben/m16/viirs_sample_2018_11_10.hdf5',\n",
       " '/Users/nizhao/xin/access/newdata/from_ben/to_ben/m16/viirs_sample_2018_02_20.hdf5',\n",
       " '/Users/nizhao/xin/access/newdata/from_ben/to_ben/m16/viirs_sample_2018_12_20.hdf5',\n",
       " '/Users/nizhao/xin/access/newdata/from_ben/to_ben/m16/viirs_sample_2018_08_10.hdf5',\n",
       " '/Users/nizhao/xin/access/newdata/from_ben/to_ben/m16/viirs_sample_2018_04_25.hdf5',\n",
       " '/Users/nizhao/xin/access/newdata/from_ben/to_ben/m16/viirs_sample_2018_01_25.hdf5',\n",
       " '/Users/nizhao/xin/access/newdata/from_ben/to_ben/m16/viirs_sample_2018_11_25.hdf5',\n",
       " '/Users/nizhao/xin/access/newdata/from_ben/to_ben/m16/viirs_sample_2018_07_20.hdf5',\n",
       " '/Users/nizhao/xin/access/newdata/from_ben/to_ben/m16/viirs_sample_2018_08_05.hdf5',\n",
       " '/Users/nizhao/xin/access/newdata/from_ben/to_ben/m16/viirs_sample_2018_08_25.hdf5',\n",
       " '/Users/nizhao/xin/access/newdata/from_ben/to_ben/m16/viirs_sample_2018_04_10.hdf5',\n",
       " '/Users/nizhao/xin/access/newdata/from_ben/to_ben/m16/viirs_sample_2018_02_15.hdf5',\n",
       " '/Users/nizhao/xin/access/newdata/from_ben/to_ben/m16/viirs_sample_2018_12_15.hdf5',\n",
       " '/Users/nizhao/xin/access/newdata/from_ben/to_ben/m16/viirs_sample_2018_01_05.hdf5',\n",
       " '/Users/nizhao/xin/access/newdata/from_ben/to_ben/m16/viirs_sample_2018_11_05.hdf5',\n",
       " '/Users/nizhao/xin/access/newdata/from_ben/to_ben/m16/viirs_sample_2018_09_25.hdf5',\n",
       " '/Users/nizhao/xin/access/newdata/from_ben/to_ben/m16/viirs_sample_2018_05_10.hdf5',\n",
       " '/Users/nizhao/xin/access/newdata/from_ben/to_ben/m16/viirs_sample_2018_03_15.hdf5',\n",
       " '/Users/nizhao/xin/access/newdata/from_ben/to_ben/m16/viirs_sample_2018_10_05.hdf5',\n",
       " '/Users/nizhao/xin/access/newdata/from_ben/to_ben/m16/viirs_sample_2018_10_25.hdf5',\n",
       " '/Users/nizhao/xin/access/newdata/from_ben/to_ben/m16/viirs_sample_2018_06_20.hdf5',\n",
       " '/Users/nizhao/xin/access/newdata/from_ben/to_ben/m16/viirs_sample_2018_09_05.hdf5',\n",
       " '/Users/nizhao/xin/access/newdata/from_ben/to_ben/m16/viirs_sample_2018_07_10.hdf5',\n",
       " '/Users/nizhao/xin/access/newdata/from_ben/to_ben/m16/viirs_sample_2018_02_05.hdf5',\n",
       " '/Users/nizhao/xin/access/newdata/from_ben/to_ben/m16/viirs_sample_2018_12_05.hdf5',\n",
       " '/Users/nizhao/xin/access/newdata/from_ben/to_ben/m16/viirs_sample_2018_01_15.hdf5',\n",
       " '/Users/nizhao/xin/access/newdata/from_ben/to_ben/m16/viirs_sample_2018_11_15.hdf5',\n",
       " '/Users/nizhao/xin/access/newdata/from_ben/to_ben/m16/viirs_sample_2018_02_25.hdf5',\n",
       " '/Users/nizhao/xin/access/newdata/from_ben/to_ben/m16/viirs_sample_2018_12_25.hdf5',\n",
       " '/Users/nizhao/xin/access/newdata/from_ben/to_ben/m16/viirs_sample_2018_08_15.hdf5',\n",
       " '/Users/nizhao/xin/access/newdata/from_ben/to_ben/m16/viirs_sample_2018_04_20.hdf5',\n",
       " '/Users/nizhao/xin/access/newdata/from_ben/to_ben/m16/viirs_sample_2018_03_25.hdf5',\n",
       " '/Users/nizhao/xin/access/newdata/from_ben/to_ben/m16/viirs_sample_2018_09_15.hdf5',\n",
       " '/Users/nizhao/xin/access/newdata/from_ben/to_ben/m16/viirs_sample_2018_05_20.hdf5',\n",
       " '/Users/nizhao/xin/access/newdata/from_ben/to_ben/m16/viirs_sample_2018_06_10.hdf5',\n",
       " '/Users/nizhao/xin/access/newdata/from_ben/to_ben/m16/viirs_sample_2018_03_05.hdf5',\n",
       " '/Users/nizhao/xin/access/newdata/from_ben/to_ben/m16/viirs_sample_2018_10_15.hdf5']"
      ]
     },
     "execution_count": 4,
     "metadata": {},
     "output_type": "execute_result"
    }
   ],
   "source": [
    "sample_list = glob.glob( '{}/*hdf5'.format(path_to_data) )\n",
    "\n",
    "sample_list"
   ]
  },
  {
   "cell_type": "code",
   "execution_count": 5,
   "id": "59064fdf-2227-4be7-80e9-a8b65834354c",
   "metadata": {},
   "outputs": [],
   "source": [
    "# test_files = glob.glob('{}/*hdf5'.format(path_to_data))\n",
    "# combine_file = '/Users/nizhao/xin/access/newdata/from_ben/to_ben/combined.hdf5'\n",
    "# dfs = []\n",
    "# for test_file in test_files:\n",
    "#   with pd.HDFStore(test_file) as store:\n",
    "#     df = store['sample']\n",
    "#     df['viirs_Cloud_Phase_Cloud_Top_Properties'].value_counts()\n",
    "#     dfs.append(df)\n",
    "#     #data.to_hdf(combine_file, key='sample', mode='a',append=True)\n",
    "# df = pd.concat(dfs)\n",
    "# df.to_hdf(combine_file, key='sample', mode='w')"
   ]
  },
  {
   "cell_type": "code",
   "execution_count": 6,
   "id": "647688e9-9c3a-4e0d-a5ef-9cb31fcbc899",
   "metadata": {},
   "outputs": [],
   "source": [
    "# df"
   ]
  },
  {
   "cell_type": "code",
   "execution_count": 7,
   "id": "ee2d941f",
   "metadata": {},
   "outputs": [],
   "source": [
    "# file = random.choice(sample_list)\n",
    "file = '/Users/nizhao/xin/access/newdata/from_ben/to_ben/combined.hdf5'"
   ]
  },
  {
   "cell_type": "code",
   "execution_count": 8,
   "id": "f419b847",
   "metadata": {},
   "outputs": [
    {
     "name": "stdout",
     "output_type": "stream",
     "text": [
      "['/sample']\n"
     ]
    }
   ],
   "source": [
    "if path.exists(file):\n",
    "    with pd.HDFStore(file) as store:\n",
    "        print(store.keys())"
   ]
  },
  {
   "cell_type": "code",
   "execution_count": 9,
   "id": "335ae83f",
   "metadata": {},
   "outputs": [
    {
     "data": {
      "text/html": [
       "<div>\n",
       "<style scoped>\n",
       "    .dataframe tbody tr th:only-of-type {\n",
       "        vertical-align: middle;\n",
       "    }\n",
       "\n",
       "    .dataframe tbody tr th {\n",
       "        vertical-align: top;\n",
       "    }\n",
       "\n",
       "    .dataframe thead th {\n",
       "        text-align: right;\n",
       "    }\n",
       "</style>\n",
       "<table border=\"1\" class=\"dataframe\">\n",
       "  <thead>\n",
       "    <tr style=\"text-align: right;\">\n",
       "      <th></th>\n",
       "      <th>M01</th>\n",
       "      <th>M02</th>\n",
       "      <th>M03</th>\n",
       "      <th>M04</th>\n",
       "      <th>M05</th>\n",
       "      <th>M06</th>\n",
       "      <th>M07</th>\n",
       "      <th>M08</th>\n",
       "      <th>M09</th>\n",
       "      <th>M10</th>\n",
       "      <th>...</th>\n",
       "      <th>viirs_Cloud_Effective_Radius_37_PCL</th>\n",
       "      <th>viirs_Cloud_Water_Path</th>\n",
       "      <th>viirs_Cloud_Water_Path_PCL</th>\n",
       "      <th>viirs_Cloud_Mask</th>\n",
       "      <th>viirs_Surface</th>\n",
       "      <th>VNP02MOD_file</th>\n",
       "      <th>CLDPROP_L2_VIIRS_SNPP_file</th>\n",
       "      <th>along track idx</th>\n",
       "      <th>cross track idx</th>\n",
       "      <th>prediction</th>\n",
       "    </tr>\n",
       "  </thead>\n",
       "  <tbody>\n",
       "    <tr>\n",
       "      <th>0</th>\n",
       "      <td>0.332103</td>\n",
       "      <td>0.328145</td>\n",
       "      <td>0.322767</td>\n",
       "      <td>0.302315</td>\n",
       "      <td>0.315550</td>\n",
       "      <td>0.149978</td>\n",
       "      <td>0.330004</td>\n",
       "      <td>0.288701</td>\n",
       "      <td>0.085245</td>\n",
       "      <td>0.126428</td>\n",
       "      <td>...</td>\n",
       "      <td>-9999.0</td>\n",
       "      <td>494.0</td>\n",
       "      <td>-9999.0</td>\n",
       "      <td>0.0</td>\n",
       "      <td>3.0</td>\n",
       "      <td>VNP02MOD.A2018263.1006.001.2018263205108.nc</td>\n",
       "      <td>CLDPROP_L2_VIIRS_SNPP.A2018263.1006.011.201923...</td>\n",
       "      <td>2309.0</td>\n",
       "      <td>873.0</td>\n",
       "      <td>2</td>\n",
       "    </tr>\n",
       "    <tr>\n",
       "      <th>1</th>\n",
       "      <td>0.261332</td>\n",
       "      <td>0.259953</td>\n",
       "      <td>0.256254</td>\n",
       "      <td>0.236942</td>\n",
       "      <td>0.249417</td>\n",
       "      <td>0.158675</td>\n",
       "      <td>0.247218</td>\n",
       "      <td>0.132166</td>\n",
       "      <td>0.013315</td>\n",
       "      <td>0.023550</td>\n",
       "      <td>...</td>\n",
       "      <td>-9999.0</td>\n",
       "      <td>-9999.0</td>\n",
       "      <td>-9999.0</td>\n",
       "      <td>3.0</td>\n",
       "      <td>0.0</td>\n",
       "      <td>VNP02MOD.A2018263.0606.001.2018263174451.nc</td>\n",
       "      <td>CLDPROP_L2_VIIRS_SNPP.A2018263.0606.011.201923...</td>\n",
       "      <td>2664.0</td>\n",
       "      <td>250.0</td>\n",
       "      <td>0</td>\n",
       "    </tr>\n",
       "    <tr>\n",
       "      <th>2</th>\n",
       "      <td>0.179266</td>\n",
       "      <td>0.167951</td>\n",
       "      <td>0.155196</td>\n",
       "      <td>0.133265</td>\n",
       "      <td>0.136504</td>\n",
       "      <td>0.141502</td>\n",
       "      <td>0.142161</td>\n",
       "      <td>0.139063</td>\n",
       "      <td>0.009516</td>\n",
       "      <td>0.113613</td>\n",
       "      <td>...</td>\n",
       "      <td>-9999.0</td>\n",
       "      <td>58.0</td>\n",
       "      <td>-9999.0</td>\n",
       "      <td>0.0</td>\n",
       "      <td>0.0</td>\n",
       "      <td>VNP02MOD.A2018263.0424.001.2018263165218.nc</td>\n",
       "      <td>CLDPROP_L2_VIIRS_SNPP.A2018263.0424.011.201923...</td>\n",
       "      <td>995.0</td>\n",
       "      <td>1918.0</td>\n",
       "      <td>1</td>\n",
       "    </tr>\n",
       "    <tr>\n",
       "      <th>3</th>\n",
       "      <td>0.446896</td>\n",
       "      <td>0.432322</td>\n",
       "      <td>0.428044</td>\n",
       "      <td>0.420127</td>\n",
       "      <td>0.429183</td>\n",
       "      <td>0.146080</td>\n",
       "      <td>0.586638</td>\n",
       "      <td>0.540697</td>\n",
       "      <td>0.003439</td>\n",
       "      <td>0.372666</td>\n",
       "      <td>...</td>\n",
       "      <td>-9999.0</td>\n",
       "      <td>121.0</td>\n",
       "      <td>-9999.0</td>\n",
       "      <td>0.0</td>\n",
       "      <td>3.0</td>\n",
       "      <td>VNP02MOD.A2018263.0442.001.2018263174034.nc</td>\n",
       "      <td>CLDPROP_L2_VIIRS_SNPP.A2018263.0442.011.201923...</td>\n",
       "      <td>449.0</td>\n",
       "      <td>2148.0</td>\n",
       "      <td>1</td>\n",
       "    </tr>\n",
       "    <tr>\n",
       "      <th>4</th>\n",
       "      <td>0.087484</td>\n",
       "      <td>0.071650</td>\n",
       "      <td>0.056677</td>\n",
       "      <td>0.040863</td>\n",
       "      <td>0.030487</td>\n",
       "      <td>0.029228</td>\n",
       "      <td>0.027329</td>\n",
       "      <td>0.025330</td>\n",
       "      <td>0.000800</td>\n",
       "      <td>0.022811</td>\n",
       "      <td>...</td>\n",
       "      <td>-9999.0</td>\n",
       "      <td>-9999.0</td>\n",
       "      <td>3.0</td>\n",
       "      <td>0.0</td>\n",
       "      <td>0.0</td>\n",
       "      <td>VNP02MOD.A2018263.0824.001.2018263164633.nc</td>\n",
       "      <td>CLDPROP_L2_VIIRS_SNPP.A2018263.0824.011.201923...</td>\n",
       "      <td>3116.0</td>\n",
       "      <td>1469.0</td>\n",
       "      <td>1</td>\n",
       "    </tr>\n",
       "    <tr>\n",
       "      <th>...</th>\n",
       "      <td>...</td>\n",
       "      <td>...</td>\n",
       "      <td>...</td>\n",
       "      <td>...</td>\n",
       "      <td>...</td>\n",
       "      <td>...</td>\n",
       "      <td>...</td>\n",
       "      <td>...</td>\n",
       "      <td>...</td>\n",
       "      <td>...</td>\n",
       "      <td>...</td>\n",
       "      <td>...</td>\n",
       "      <td>...</td>\n",
       "      <td>...</td>\n",
       "      <td>...</td>\n",
       "      <td>...</td>\n",
       "      <td>...</td>\n",
       "      <td>...</td>\n",
       "      <td>...</td>\n",
       "      <td>...</td>\n",
       "      <td>...</td>\n",
       "    </tr>\n",
       "    <tr>\n",
       "      <th>9995</th>\n",
       "      <td>0.249497</td>\n",
       "      <td>0.224467</td>\n",
       "      <td>0.202017</td>\n",
       "      <td>0.178087</td>\n",
       "      <td>0.164932</td>\n",
       "      <td>0.153077</td>\n",
       "      <td>0.249017</td>\n",
       "      <td>0.225747</td>\n",
       "      <td>0.003858</td>\n",
       "      <td>0.157235</td>\n",
       "      <td>...</td>\n",
       "      <td>-9999.0</td>\n",
       "      <td>46.0</td>\n",
       "      <td>-9999.0</td>\n",
       "      <td>1.0</td>\n",
       "      <td>3.0</td>\n",
       "      <td>VNP02MOD.A2018288.1200.001.2018289014732.nc</td>\n",
       "      <td>CLDPROP_L2_VIIRS_SNPP.A2018288.1200.011.201923...</td>\n",
       "      <td>2883.0</td>\n",
       "      <td>1396.0</td>\n",
       "      <td>1</td>\n",
       "    </tr>\n",
       "    <tr>\n",
       "      <th>9996</th>\n",
       "      <td>0.218750</td>\n",
       "      <td>0.190222</td>\n",
       "      <td>0.164532</td>\n",
       "      <td>0.132545</td>\n",
       "      <td>0.116372</td>\n",
       "      <td>0.112953</td>\n",
       "      <td>0.108935</td>\n",
       "      <td>0.100998</td>\n",
       "      <td>0.022331</td>\n",
       "      <td>0.085605</td>\n",
       "      <td>...</td>\n",
       "      <td>-9999.0</td>\n",
       "      <td>13.0</td>\n",
       "      <td>-9999.0</td>\n",
       "      <td>0.0</td>\n",
       "      <td>0.0</td>\n",
       "      <td>VNP02MOD.A2018288.0142.001.2018288061752.nc</td>\n",
       "      <td>CLDPROP_L2_VIIRS_SNPP.A2018288.0142.011.201923...</td>\n",
       "      <td>492.0</td>\n",
       "      <td>1299.0</td>\n",
       "      <td>1</td>\n",
       "    </tr>\n",
       "    <tr>\n",
       "      <th>9997</th>\n",
       "      <td>0.129567</td>\n",
       "      <td>0.099379</td>\n",
       "      <td>0.071970</td>\n",
       "      <td>0.041923</td>\n",
       "      <td>0.022711</td>\n",
       "      <td>0.017473</td>\n",
       "      <td>0.012975</td>\n",
       "      <td>0.008257</td>\n",
       "      <td>0.000200</td>\n",
       "      <td>0.006757</td>\n",
       "      <td>...</td>\n",
       "      <td>-9999.0</td>\n",
       "      <td>-9999.0</td>\n",
       "      <td>-9999.0</td>\n",
       "      <td>3.0</td>\n",
       "      <td>0.0</td>\n",
       "      <td>VNP02MOD.A2018288.2218.001.2018289100909.nc</td>\n",
       "      <td>CLDPROP_L2_VIIRS_SNPP.A2018288.2218.011.201923...</td>\n",
       "      <td>2865.0</td>\n",
       "      <td>1191.0</td>\n",
       "      <td>0</td>\n",
       "    </tr>\n",
       "    <tr>\n",
       "      <th>9998</th>\n",
       "      <td>0.160894</td>\n",
       "      <td>0.139423</td>\n",
       "      <td>0.116052</td>\n",
       "      <td>0.083705</td>\n",
       "      <td>0.074589</td>\n",
       "      <td>0.074129</td>\n",
       "      <td>0.070151</td>\n",
       "      <td>0.067212</td>\n",
       "      <td>0.010676</td>\n",
       "      <td>0.060875</td>\n",
       "      <td>...</td>\n",
       "      <td>-9999.0</td>\n",
       "      <td>5.0</td>\n",
       "      <td>-9999.0</td>\n",
       "      <td>0.0</td>\n",
       "      <td>0.0</td>\n",
       "      <td>VNP02MOD.A2018288.0818.001.2018288143736.nc</td>\n",
       "      <td>CLDPROP_L2_VIIRS_SNPP.A2018288.0818.011.201923...</td>\n",
       "      <td>938.0</td>\n",
       "      <td>590.0</td>\n",
       "      <td>1</td>\n",
       "    </tr>\n",
       "    <tr>\n",
       "      <th>9999</th>\n",
       "      <td>0.161134</td>\n",
       "      <td>0.127927</td>\n",
       "      <td>0.098739</td>\n",
       "      <td>0.063634</td>\n",
       "      <td>0.041143</td>\n",
       "      <td>0.034906</td>\n",
       "      <td>0.029928</td>\n",
       "      <td>0.024630</td>\n",
       "      <td>0.000720</td>\n",
       "      <td>0.023490</td>\n",
       "      <td>...</td>\n",
       "      <td>-9999.0</td>\n",
       "      <td>-9999.0</td>\n",
       "      <td>-9999.0</td>\n",
       "      <td>2.0</td>\n",
       "      <td>0.0</td>\n",
       "      <td>VNP02MOD.A2018288.2030.001.2018289132847.nc</td>\n",
       "      <td>CLDPROP_L2_VIIRS_SNPP.A2018288.2030.011.201923...</td>\n",
       "      <td>1192.0</td>\n",
       "      <td>2448.0</td>\n",
       "      <td>1</td>\n",
       "    </tr>\n",
       "  </tbody>\n",
       "</table>\n",
       "<p>600000 rows × 47 columns</p>\n",
       "</div>"
      ],
      "text/plain": [
       "           M01       M02       M03       M04       M05       M06       M07  \\\n",
       "0     0.332103  0.328145  0.322767  0.302315  0.315550  0.149978  0.330004   \n",
       "1     0.261332  0.259953  0.256254  0.236942  0.249417  0.158675  0.247218   \n",
       "2     0.179266  0.167951  0.155196  0.133265  0.136504  0.141502  0.142161   \n",
       "3     0.446896  0.432322  0.428044  0.420127  0.429183  0.146080  0.586638   \n",
       "4     0.087484  0.071650  0.056677  0.040863  0.030487  0.029228  0.027329   \n",
       "...        ...       ...       ...       ...       ...       ...       ...   \n",
       "9995  0.249497  0.224467  0.202017  0.178087  0.164932  0.153077  0.249017   \n",
       "9996  0.218750  0.190222  0.164532  0.132545  0.116372  0.112953  0.108935   \n",
       "9997  0.129567  0.099379  0.071970  0.041923  0.022711  0.017473  0.012975   \n",
       "9998  0.160894  0.139423  0.116052  0.083705  0.074589  0.074129  0.070151   \n",
       "9999  0.161134  0.127927  0.098739  0.063634  0.041143  0.034906  0.029928   \n",
       "\n",
       "           M08       M09       M10  ...  viirs_Cloud_Effective_Radius_37_PCL  \\\n",
       "0     0.288701  0.085245  0.126428  ...                              -9999.0   \n",
       "1     0.132166  0.013315  0.023550  ...                              -9999.0   \n",
       "2     0.139063  0.009516  0.113613  ...                              -9999.0   \n",
       "3     0.540697  0.003439  0.372666  ...                              -9999.0   \n",
       "4     0.025330  0.000800  0.022811  ...                              -9999.0   \n",
       "...        ...       ...       ...  ...                                  ...   \n",
       "9995  0.225747  0.003858  0.157235  ...                              -9999.0   \n",
       "9996  0.100998  0.022331  0.085605  ...                              -9999.0   \n",
       "9997  0.008257  0.000200  0.006757  ...                              -9999.0   \n",
       "9998  0.067212  0.010676  0.060875  ...                              -9999.0   \n",
       "9999  0.024630  0.000720  0.023490  ...                              -9999.0   \n",
       "\n",
       "      viirs_Cloud_Water_Path  viirs_Cloud_Water_Path_PCL  viirs_Cloud_Mask  \\\n",
       "0                      494.0                     -9999.0               0.0   \n",
       "1                    -9999.0                     -9999.0               3.0   \n",
       "2                       58.0                     -9999.0               0.0   \n",
       "3                      121.0                     -9999.0               0.0   \n",
       "4                    -9999.0                         3.0               0.0   \n",
       "...                      ...                         ...               ...   \n",
       "9995                    46.0                     -9999.0               1.0   \n",
       "9996                    13.0                     -9999.0               0.0   \n",
       "9997                 -9999.0                     -9999.0               3.0   \n",
       "9998                     5.0                     -9999.0               0.0   \n",
       "9999                 -9999.0                     -9999.0               2.0   \n",
       "\n",
       "      viirs_Surface                                VNP02MOD_file  \\\n",
       "0               3.0  VNP02MOD.A2018263.1006.001.2018263205108.nc   \n",
       "1               0.0  VNP02MOD.A2018263.0606.001.2018263174451.nc   \n",
       "2               0.0  VNP02MOD.A2018263.0424.001.2018263165218.nc   \n",
       "3               3.0  VNP02MOD.A2018263.0442.001.2018263174034.nc   \n",
       "4               0.0  VNP02MOD.A2018263.0824.001.2018263164633.nc   \n",
       "...             ...                                          ...   \n",
       "9995            3.0  VNP02MOD.A2018288.1200.001.2018289014732.nc   \n",
       "9996            0.0  VNP02MOD.A2018288.0142.001.2018288061752.nc   \n",
       "9997            0.0  VNP02MOD.A2018288.2218.001.2018289100909.nc   \n",
       "9998            0.0  VNP02MOD.A2018288.0818.001.2018288143736.nc   \n",
       "9999            0.0  VNP02MOD.A2018288.2030.001.2018289132847.nc   \n",
       "\n",
       "                             CLDPROP_L2_VIIRS_SNPP_file  along track idx  \\\n",
       "0     CLDPROP_L2_VIIRS_SNPP.A2018263.1006.011.201923...           2309.0   \n",
       "1     CLDPROP_L2_VIIRS_SNPP.A2018263.0606.011.201923...           2664.0   \n",
       "2     CLDPROP_L2_VIIRS_SNPP.A2018263.0424.011.201923...            995.0   \n",
       "3     CLDPROP_L2_VIIRS_SNPP.A2018263.0442.011.201923...            449.0   \n",
       "4     CLDPROP_L2_VIIRS_SNPP.A2018263.0824.011.201923...           3116.0   \n",
       "...                                                 ...              ...   \n",
       "9995  CLDPROP_L2_VIIRS_SNPP.A2018288.1200.011.201923...           2883.0   \n",
       "9996  CLDPROP_L2_VIIRS_SNPP.A2018288.0142.011.201923...            492.0   \n",
       "9997  CLDPROP_L2_VIIRS_SNPP.A2018288.2218.011.201923...           2865.0   \n",
       "9998  CLDPROP_L2_VIIRS_SNPP.A2018288.0818.011.201923...            938.0   \n",
       "9999  CLDPROP_L2_VIIRS_SNPP.A2018288.2030.011.201923...           1192.0   \n",
       "\n",
       "      cross track idx  prediction  \n",
       "0               873.0           2  \n",
       "1               250.0           0  \n",
       "2              1918.0           1  \n",
       "3              2148.0           1  \n",
       "4              1469.0           1  \n",
       "...               ...         ...  \n",
       "9995           1396.0           1  \n",
       "9996           1299.0           1  \n",
       "9997           1191.0           0  \n",
       "9998            590.0           1  \n",
       "9999           2448.0           1  \n",
       "\n",
       "[600000 rows x 47 columns]"
      ]
     },
     "execution_count": 9,
     "metadata": {},
     "output_type": "execute_result"
    }
   ],
   "source": [
    "if path.exists(file):\n",
    "    with pd.HDFStore(file) as store:\n",
    "        df = store['sample']\n",
    "\n",
    "df"
   ]
  },
  {
   "cell_type": "code",
   "execution_count": 10,
   "id": "ec5d5b87",
   "metadata": {},
   "outputs": [
    {
     "data": {
      "text/plain": [
       "Index(['M01', 'M02', 'M03', 'M04', 'M05', 'M06', 'M07', 'M08', 'M09', 'M10',\n",
       "       'M11', 'M12', 'M13', 'M14', 'M15', 'M16', 'latitude', 'longitude',\n",
       "       'viirs_solar_zenith', 'viirs_sensor_zenith', 'viirs_solar_azimuth',\n",
       "       'viirs_sensor_azimuth', 'viirs_Cloud_Top_Temperature',\n",
       "       'viirs_Cloud_Top_Height', 'viirs_Cloud_Top_Pressure',\n",
       "       'viirs_Cloud_Phase_Cloud_Top_Properties',\n",
       "       'viirs_Cloud_Optical_Thickness', 'viirs_Cloud_Optical_Thickness_PCL',\n",
       "       'viirs_Cloud_Optical_Thickness_16',\n",
       "       'viirs_Cloud_Optical_Thickness_16_PCL',\n",
       "       'viirs_Cloud_Optical_Thickness_37',\n",
       "       'viirs_Cloud_Optical_Thickness_37_PCL', 'viirs_Cloud_Effective_Radius',\n",
       "       'viirs_Cloud_Effective_Radius_PCL', 'viirs_Cloud_Effective_Radius_16',\n",
       "       'viirs_Cloud_Effective_Radius_16_PCL',\n",
       "       'viirs_Cloud_Effective_Radius_37',\n",
       "       'viirs_Cloud_Effective_Radius_37_PCL', 'viirs_Cloud_Water_Path',\n",
       "       'viirs_Cloud_Water_Path_PCL', 'viirs_Cloud_Mask', 'viirs_Surface',\n",
       "       'VNP02MOD_file', 'CLDPROP_L2_VIIRS_SNPP_file', 'along track idx',\n",
       "       'cross track idx', 'prediction'],\n",
       "      dtype='object')"
      ]
     },
     "execution_count": 10,
     "metadata": {},
     "output_type": "execute_result"
    }
   ],
   "source": [
    "df.columns"
   ]
  },
  {
   "cell_type": "code",
   "execution_count": 11,
   "id": "1e27b3d7",
   "metadata": {},
   "outputs": [
    {
     "data": {
      "text/plain": [
       " 1.0       282360\n",
       " 0.0       189994\n",
       " 2.0       127417\n",
       " 127.0        225\n",
       "-9999.0         4\n",
       "Name: viirs_Cloud_Phase_Cloud_Top_Properties, dtype: int64"
      ]
     },
     "execution_count": 11,
     "metadata": {},
     "output_type": "execute_result"
    }
   ],
   "source": [
    "df['viirs_Cloud_Phase_Cloud_Top_Properties'].value_counts()"
   ]
  },
  {
   "cell_type": "code",
   "execution_count": 12,
   "id": "67226f39",
   "metadata": {},
   "outputs": [
    {
     "data": {
      "text/plain": [
       " 0.0       381906\n",
       " 3.0       168335\n",
       " 1.0        28098\n",
       " 2.0        21657\n",
       "-9999.0         4\n",
       "Name: viirs_Cloud_Mask, dtype: int64"
      ]
     },
     "execution_count": 12,
     "metadata": {},
     "output_type": "execute_result"
    }
   ],
   "source": [
    "df['viirs_Cloud_Mask'].value_counts()"
   ]
  },
  {
   "cell_type": "code",
   "execution_count": null,
   "id": "8aa4ec83",
   "metadata": {},
   "outputs": [],
   "source": []
  },
  {
   "cell_type": "code",
   "execution_count": 13,
   "id": "58e1633b",
   "metadata": {},
   "outputs": [
    {
     "data": {
      "text/plain": [
       "1    311603\n",
       "0    171369\n",
       "2    117028\n",
       "Name: prediction, dtype: int64"
      ]
     },
     "execution_count": 13,
     "metadata": {},
     "output_type": "execute_result"
    }
   ],
   "source": [
    "df['prediction'].value_counts()"
   ]
  },
  {
   "cell_type": "code",
   "execution_count": 14,
   "id": "6942a41c",
   "metadata": {},
   "outputs": [
    {
     "data": {
      "text/plain": [
       " 0.0       410186\n",
       " 3.0        99631\n",
       " 2.0        77560\n",
       " 1.0        12619\n",
       "-9999.0         4\n",
       "Name: viirs_Surface, dtype: int64"
      ]
     },
     "execution_count": 14,
     "metadata": {},
     "output_type": "execute_result"
    }
   ],
   "source": [
    "df['viirs_Surface'].value_counts()"
   ]
  },
  {
   "cell_type": "code",
   "execution_count": 15,
   "id": "a211c90e-48f5-43f9-904a-61b2df535ba4",
   "metadata": {},
   "outputs": [],
   "source": [
    "df = df[df['viirs_Surface'] == 3]"
   ]
  },
  {
   "cell_type": "code",
   "execution_count": 16,
   "id": "e64ed7dd",
   "metadata": {},
   "outputs": [
    {
     "data": {
      "text/plain": [
       "3.0    99631\n",
       "Name: viirs_Surface, dtype: int64"
      ]
     },
     "execution_count": 16,
     "metadata": {},
     "output_type": "execute_result"
    }
   ],
   "source": [
    "df['viirs_Surface'].value_counts()"
   ]
  },
  {
   "cell_type": "code",
   "execution_count": null,
   "id": "9c40233f-02ae-4680-a362-549c218c9f2e",
   "metadata": {},
   "outputs": [],
   "source": []
  },
  {
   "cell_type": "code",
   "execution_count": 17,
   "id": "2993ace2",
   "metadata": {},
   "outputs": [],
   "source": [
    "df_cloudy = df[ df['viirs_Cloud_Mask'] < 2]"
   ]
  },
  {
   "cell_type": "code",
   "execution_count": 18,
   "id": "abdd9b0d",
   "metadata": {},
   "outputs": [
    {
     "data": {
      "text/plain": [
       "1.0    39893\n",
       "2.0    22691\n",
       "Name: viirs_Cloud_Phase_Cloud_Top_Properties, dtype: int64"
      ]
     },
     "execution_count": 18,
     "metadata": {},
     "output_type": "execute_result"
    }
   ],
   "source": [
    "df_cloudy['viirs_Cloud_Phase_Cloud_Top_Properties'].value_counts()"
   ]
  },
  {
   "cell_type": "code",
   "execution_count": 19,
   "id": "0c308b32",
   "metadata": {},
   "outputs": [
    {
     "data": {
      "text/plain": [
       "1    40449\n",
       "2    20010\n",
       "0     2125\n",
       "Name: prediction, dtype: int64"
      ]
     },
     "execution_count": 19,
     "metadata": {},
     "output_type": "execute_result"
    }
   ],
   "source": [
    "df_cloudy['prediction'].value_counts()"
   ]
  },
  {
   "cell_type": "code",
   "execution_count": null,
   "id": "fd2fd88d",
   "metadata": {},
   "outputs": [],
   "source": []
  },
  {
   "cell_type": "code",
   "execution_count": 20,
   "id": "6e75a92a",
   "metadata": {},
   "outputs": [],
   "source": [
    "m1 = df['viirs_Cloud_Mask']\n",
    "m2 = df['prediction']\n",
    "\n",
    "#weak lable\n",
    "c1 = df[ (m1 < 2) & (m2 != 0) ].shape[0]\n",
    "c2 = df[ (m1 < 2) & (m2 == 0) ].shape[0]\n",
    "c3 = df[ (m1 >= 2) & (m2 != 0) ].shape[0]\n",
    "c4 = df[ (m1 >= 2) & (m2 == 0) ].shape[0]\n",
    "\n",
    "#cloud mask\n",
    "# c1 = df[ (m1 < 2) & (m2 == 1) ].shape[0] #cloudy\n",
    "# c2 = df[ (m1 < 2) & (m2 == 0) ].shape[0]\n",
    "# c3 = df[ (m1 >= 2) & (m2 == 1) ].shape[0]\n",
    "# c4 = df[ (m1 >= 2) & (m2 == 0) ].shape[0] #clear"
   ]
  },
  {
   "cell_type": "code",
   "execution_count": 21,
   "id": "1190018d",
   "metadata": {},
   "outputs": [
    {
     "name": "stdout",
     "output_type": "stream",
     "text": [
      "[[ 4274 32773]\n",
      " [60459  2125]]\n"
     ]
    },
    {
     "data": {
      "image/png": "[encoded data removed]",
      "text/plain": [
       "<Figure size 640x480 with 1 Axes>"
      ]
     },
     "metadata": {},
     "output_type": "display_data"
    }
   ],
   "source": [
    "tot_counts = c1 + c2 + c3 + c4\n",
    "\n",
    "conf_arr = np.array([[ c3,   c4],\n",
    "                     [  c1,  c2]])\n",
    "\n",
    "print(conf_arr)\n",
    "\n",
    "conf_arr = 100. * conf_arr / tot_counts\n",
    "\n",
    "df_cm = pd.DataFrame(conf_arr, \n",
    "                  index = ['VIIRS CLDPROP Liquid', 'VIIRS CLDPROP Ice'],\n",
    "                  columns = ['VIIRS ACCESS Liquid', 'VIIRS ACCESS Ice'])\n",
    "\n",
    "fig = plt.figure(num=None, figsize=(8, 6), dpi=80, facecolor=fig_style_dict['facecolor'], edgecolor='k')\n",
    "\n",
    "plt.clf()\n",
    "\n",
    "ax = fig.add_subplot(111)\n",
    "\n",
    "ax.set_aspect(1)\n",
    "\n",
    "res = sns.heatmap(df_cm, annot=True, vmin=0.0, vmax=100.0, fmt='.2f', cmap=\"YlGnBu\",annot_kws={\"size\": fig_style_dict['heatmap_annot_font_size']},cbar=False)\n",
    "\n",
    "plt.xticks([0.5,1.5], ['VIIRS ACCESS Cloudy', 'VIIRS ACCESS Clear'],fontsize=fig_style_dict['label_font_size'])\n",
    "plt.yticks([1.5,0.5], ['VIIRS CLDPROP Cloudy','VIIRS CLDPROP Clear'],va='center',fontsize=fig_style_dict['label_font_size'])\n",
    "\n",
    "#plt.title('Accuracy :'+str(round((c1+c4)/tot_counts,2)),fontsize=fig_style_dict['title_font_size'])\n",
    "\n",
    "#plt.savefig(\"modis_deep_learning_cloud_phase_confusion_matrix_01.png\", bbox_inches='tight', dpi=100)\n",
    "\n",
    "plt.savefig('contingency_cloud_mask.png', dpi=150)\n",
    "\n",
    "plt.show()"
   ]
  },
  {
   "cell_type": "code",
   "execution_count": null,
   "id": "9cb11d88",
   "metadata": {},
   "outputs": [],
   "source": []
  },
  {
   "cell_type": "code",
   "execution_count": 22,
   "id": "1076013a",
   "metadata": {},
   "outputs": [],
   "source": [
    "m1 = df['viirs_Cloud_Phase_Cloud_Top_Properties']\n",
    "m2 = df['prediction']\n",
    "\n",
    "c1 = df[ (m1 == 1) & (m2 == 1) ].shape[0]\n",
    "c2 = df[ (m1 == 1) & (m2 == 2) ].shape[0]\n",
    "c3 = df[ (m1 == 2) & (m2 == 1) ].shape[0]\n",
    "c4 = df[ (m1 == 2) & (m2 == 2) ].shape[0]"
   ]
  },
  {
   "cell_type": "code",
   "execution_count": 23,
   "id": "68bfd1dc",
   "metadata": {},
   "outputs": [
    {
     "name": "stdout",
     "output_type": "stream",
     "text": [
      "[[ 4633 17762]\n",
      " [35816  2248]]\n"
     ]
    },
    {
     "data": {
      "image/png": "[encoded data removed]",
      "text/plain": [
       "<Figure size 640x480 with 1 Axes>"
      ]
     },
     "metadata": {},
     "output_type": "display_data"
    }
   ],
   "source": [
    "tot_counts = c1 + c2 + c3 + c4\n",
    "\n",
    "conf_arr = np.array([[ c3,   c4],\n",
    "                     [  c1,  c2]])\n",
    "\n",
    "print(conf_arr)\n",
    "\n",
    "conf_arr = 100. * conf_arr / tot_counts\n",
    "\n",
    "df_cm = pd.DataFrame(conf_arr, \n",
    "                  index = ['VIIRS CLDPROP Liquid', 'VIIRS CLDPROP Ice'],\n",
    "                  columns = ['VIIRS ACCESS Liquid', 'VIIRS ACCESS Ice'])\n",
    "\n",
    "fig = plt.figure(num=None, figsize=(8, 6), dpi=80, facecolor=fig_style_dict['facecolor'], edgecolor='k')\n",
    "\n",
    "plt.clf()\n",
    "\n",
    "ax = fig.add_subplot(111)\n",
    "\n",
    "ax.set_aspect(1)\n",
    "\n",
    "res = sns.heatmap(df_cm, annot=True, vmin=0.0, vmax=100.0, fmt='.2f', cmap=\"YlGnBu\",annot_kws={\"size\": fig_style_dict['heatmap_annot_font_size']},cbar=False)\n",
    "\n",
    "plt.xticks([0.5,1.5], ['VIIRS ACCESS Liquid', 'VIIRS ACCESS Ice'],fontsize=fig_style_dict['label_font_size'])\n",
    "plt.yticks([1.5,0.5], ['VIIRS CLDPROP Liquid','VIIRS CLDPROP Ice'],va='center',fontsize=fig_style_dict['label_font_size'])\n",
    "\n",
    "#plt.title('Accuracy :'+str(round((c1+c4)/tot_counts,2)),fontsize=fig_style_dict['title_font_size'])\n",
    "\n",
    "#plt.savefig(\"modis_deep_learning_cloud_phase_confusion_matrix_01.png\", bbox_inches='tight', dpi=100)\n",
    "\n",
    "plt.savefig('contingency_cloud_phase.png', dpi=150)\n",
    "\n",
    "plt.show()"
   ]
  },
  {
   "cell_type": "code",
   "execution_count": null,
   "id": "5a2151e4",
   "metadata": {},
   "outputs": [],
   "source": []
  },
  {
   "cell_type": "code",
   "execution_count": null,
   "id": "d2d0aea6",
   "metadata": {},
   "outputs": [],
   "source": []
  },
  {
   "cell_type": "code",
   "execution_count": 24,
   "id": "015505b0",
   "metadata": {},
   "outputs": [],
   "source": [
    "bins = np.arange(0,80,5)"
   ]
  },
  {
   "cell_type": "code",
   "execution_count": 25,
   "id": "10d58a45",
   "metadata": {},
   "outputs": [
    {
     "data": {
      "image/png": "[encoded data removed]",
      "text/plain": [
       "<Figure size 432x288 with 1 Axes>"
      ]
     },
     "metadata": {},
     "output_type": "display_data"
    }
   ],
   "source": [
    "# distribution plots \n",
    "cloudy = df['viirs_sensor_zenith'][ df['prediction'] != 0 ]\n",
    "#n_cloudy, bins_new, patches = plt.hist(cloudy,bins=bins)\n",
    "n_cloudy, bins_new, patches = plt.hist(cloudy,bins=bins,density=True)\n",
    "plt.xlabel(\"VIIRS Sensor Zenith\", fontsize=14)\n",
    "plt.savefig('cldprop_cloud_fraction.png', dpi=150)\n",
    "plt.show()\n",
    "plt.close()\n"
   ]
  },
  {
   "cell_type": "code",
   "execution_count": 26,
   "id": "cfd6fdf1",
   "metadata": {},
   "outputs": [
    {
     "data": {
      "image/png": "[encoded data removed]",
      "text/plain": [
       "<Figure size 432x288 with 1 Axes>"
      ]
     },
     "metadata": {},
     "output_type": "display_data"
    }
   ],
   "source": [
    "cloudy = df['viirs_sensor_zenith'][ df['viirs_Cloud_Mask'] < 2 ]\n",
    "#n_cloudy, bins_new, patches = plt.hist(cloudy,bins=bins)\n",
    "n_cloudy, bins_new, patches = plt.hist(cloudy,bins=bins,density=True)\n",
    "plt.xlabel(\"VIIRS Sensor Zenith\", fontsize=14)\n",
    "plt.savefig('dl_access_cloud_fraction.png', dpi=150)\n",
    "plt.show()\n",
    "plt.close()"
   ]
  },
  {
   "cell_type": "code",
   "execution_count": null,
   "id": "d82ce208",
   "metadata": {},
   "outputs": [],
   "source": []
  },
  {
   "cell_type": "code",
   "execution_count": null,
   "id": "e7b14da8",
   "metadata": {},
   "outputs": [],
   "source": []
  },
  {
   "cell_type": "code",
   "execution_count": null,
   "id": "8c5b6c65",
   "metadata": {},
   "outputs": [],
   "source": []
  },
  {
   "cell_type": "code",
   "execution_count": null,
   "id": "a4a17dd4",
   "metadata": {},
   "outputs": [],
   "source": []
  },
  {
   "cell_type": "code",
   "execution_count": null,
   "id": "22b4bfac",
   "metadata": {},
   "outputs": [],
   "source": []
  },
  {
   "cell_type": "code",
   "execution_count": 27,
   "id": "b652f81c",
   "metadata": {},
   "outputs": [
    {
     "name": "stdout",
     "output_type": "stream",
     "text": [
      "[3334. 3339. 3469. 3336. 3387. 3235. 3265. 4151. 4377. 4434. 5514. 6999.\n",
      " 7002. 6585.  157.]\n",
      "[2049. 2116. 2169. 2105. 2158. 2064. 2079. 2640. 2795. 2779. 3483. 4537.\n",
      " 4520. 4299.  100.]\n",
      "3334.0 2049.0\n",
      "3339.0 2116.0\n",
      "3469.0 2169.0\n",
      "3336.0 2105.0\n",
      "3387.0 2158.0\n",
      "3235.0 2064.0\n",
      "3265.0 2079.0\n",
      "4151.0 2640.0\n",
      "4377.0 2795.0\n",
      "4434.0 2779.0\n",
      "5514.0 3483.0\n",
      "6999.0 4537.0\n",
      "7002.0 4520.0\n",
      "6585.0 4299.0\n",
      "157.0 100.0\n",
      "[ 2.5  7.5 12.5 17.5 22.5 27.5 32.5 37.5 42.5 47.5 52.5 57.5 62.5 67.5\n",
      " 72.5]\n"
     ]
    },
    {
     "data": {
      "image/png": "[encoded data removed]",
      "text/plain": [
       "<Figure size 432x288 with 1 Axes>"
      ]
     },
     "metadata": {},
     "output_type": "display_data"
    }
   ],
   "source": [
    "cloudy = df['viirs_sensor_zenith'][ df['viirs_Cloud_Mask'] < 2 ]\n",
    "n_cloudy, bins_new, patches = plt.hist(cloudy,bins=bins)\n",
    "plt.close()\n",
    "\n",
    "liq = df['viirs_sensor_zenith'][ ( df['viirs_Cloud_Mask'] < 2 ) & (df['viirs_Cloud_Phase_Cloud_Top_Properties'] == 1) ]\n",
    "n_liquid, bins_new, patches = plt.hist(liq,bins=bins)\n",
    "plt.close()\n",
    "\n",
    "liquid_cloud_fraction_per_vza = [z/y for y, z in zip(n_cloudy, n_liquid)]\n",
    "\n",
    "print(n_cloudy)\n",
    "print(n_liquid)\n",
    "\n",
    "bins=np.arange(2.5,80,5)\n",
    "\n",
    "for i,j in zip(n_cloudy,n_liquid):\n",
    "    print(i,j)\n",
    "\n",
    "print(bins[:-1])\n",
    "\n",
    "plt.bar(bins[:-1],liquid_cloud_fraction_per_vza,5)\n",
    "\n",
    "#plt.plot(bins[:-1],liquid_cloud_fraction_per_vza,5)\n",
    "\n",
    "plt.xlim(0,70)\n",
    "plt.ylim(0,1)\n",
    "\n",
    "plt.xlabel('Sensor Zenith Angle')\n",
    "plt.ylabel('Liquid Cloud Fraction')\n",
    "\n",
    "plt.show()"
   ]
  },
  {
   "cell_type": "code",
   "execution_count": 28,
   "id": "562d10eb",
   "metadata": {},
   "outputs": [
    {
     "name": "stderr",
     "output_type": "stream",
     "text": [
      "<ipython-input-28-9c9bffabf54a>:9: RuntimeWarning: invalid value encountered in double_scalars\n",
      "  ice_cloud_fraction_per_vza = [z/y for y, z in zip(n_cloudy, n_liquid)]\n"
     ]
    },
    {
     "data": {
      "image/png": "[encoded data removed]",
      "text/plain": [
       "<Figure size 432x288 with 1 Axes>"
      ]
     },
     "metadata": {},
     "output_type": "display_data"
    }
   ],
   "source": [
    "cloudy = df['viirs_sensor_zenith'][ df['viirs_Cloud_Mask'] < 2 ]\n",
    "n_cloudy, bins_new, patches = plt.hist(cloudy,bins=bins)\n",
    "plt.close()\n",
    "\n",
    "liq = df['viirs_sensor_zenith'][ ( df['viirs_Cloud_Mask'] < 2 ) & (df['viirs_Cloud_Phase_Cloud_Top_Properties'] == 2) ]\n",
    "n_liquid, bins_new, patches = plt.hist(liq,bins=bins)\n",
    "plt.close()\n",
    "\n",
    "ice_cloud_fraction_per_vza = [z/y for y, z in zip(n_cloudy, n_liquid)]\n",
    "\n",
    "bins=np.arange(2.5,80,5)\n",
    "\n",
    "#plt.bar(bins[:-1],ice_cloud_fraction_per_vza,5)\n",
    "\n",
    "plt.plot(bins[:-1],liquid_cloud_fraction_per_vza,5)\n",
    "plt.plot(bins[:-1],ice_cloud_fraction_per_vza,5)\n",
    "\n",
    "blue_patch = mpatches.Patch(color=(0.2980392156862745, 0.4470588235294118, 0.6901960784313725), label='LIQUID')\n",
    "green_patch = mpatches.Patch(color=(0.3333333333333333, 0.6588235294117647, 0.40784313725490196), label='ICE')\n",
    "\n",
    "plt.legend(handles=[blue_patch,green_patch])\n",
    "\n",
    "plt.xlim(0,70)\n",
    "plt.ylim(0,1)\n",
    "\n",
    "plt.xlabel('Sensor Zenith Angle')\n",
    "plt.ylabel('Ice Cloud Fraction')\n",
    "\n",
    "plt.savefig('cldprop_cloud_phase_fraction.png', dpi=150)\n",
    "\n",
    "plt.show()"
   ]
  },
  {
   "cell_type": "code",
   "execution_count": null,
   "id": "86558b84",
   "metadata": {},
   "outputs": [],
   "source": []
  },
  {
   "cell_type": "code",
   "execution_count": null,
   "id": "22ccafa6",
   "metadata": {},
   "outputs": [],
   "source": []
  },
  {
   "cell_type": "code",
   "execution_count": null,
   "id": "ef328791",
   "metadata": {},
   "outputs": [],
   "source": []
  },
  {
   "cell_type": "code",
   "execution_count": null,
   "id": "df296380",
   "metadata": {},
   "outputs": [],
   "source": []
  },
  {
   "cell_type": "code",
   "execution_count": null,
   "id": "96cab466",
   "metadata": {},
   "outputs": [],
   "source": []
  },
  {
   "cell_type": "code",
   "execution_count": null,
   "id": "c8c956c5",
   "metadata": {},
   "outputs": [],
   "source": []
  },
  {
   "cell_type": "code",
   "execution_count": null,
   "id": "2a79ad3c",
   "metadata": {},
   "outputs": [],
   "source": []
  },
  {
   "cell_type": "code",
   "execution_count": null,
   "id": "c0b31f66",
   "metadata": {},
   "outputs": [],
   "source": []
  },
  {
   "cell_type": "code",
   "execution_count": 29,
   "id": "92435206",
   "metadata": {},
   "outputs": [
    {
     "name": "stderr",
     "output_type": "stream",
     "text": [
      "<ipython-input-29-323681fb0386>:9: RuntimeWarning: invalid value encountered in double_scalars\n",
      "  liquid_cloud_fraction_per_vza = [z/y for y, z in zip(n_cloudy, n_liquid)]\n"
     ]
    },
    {
     "data": {
      "image/png": "[encoded data removed]",
      "text/plain": [
       "<Figure size 432x288 with 1 Axes>"
      ]
     },
     "metadata": {},
     "output_type": "display_data"
    }
   ],
   "source": [
    "cloudy = df['viirs_sensor_zenith'][ df['prediction'] != 0 ]\n",
    "n_cloudy, bins_new, patches = plt.hist(cloudy,bins=bins)\n",
    "plt.close()\n",
    "\n",
    "liq = df['viirs_sensor_zenith'][ ( df['prediction'] != 0 ) & (df['prediction'] == 1) ]\n",
    "n_liquid, bins_new, patches = plt.hist(liq,bins=bins)\n",
    "plt.close()\n",
    "\n",
    "liquid_cloud_fraction_per_vza = [z/y for y, z in zip(n_cloudy, n_liquid)]\n",
    "\n",
    "bins=np.arange(2.5,80,5)\n",
    "\n",
    "plt.bar(bins[:-1],liquid_cloud_fraction_per_vza,5)\n",
    "\n",
    "#plt.plot(bins[:-1],liquid_cloud_fraction_per_vza,5)\n",
    "\n",
    "plt.xlim(0,70)\n",
    "plt.ylim(0,1)\n",
    "\n",
    "plt.xlabel('Sensor Zenith Angle')\n",
    "plt.ylabel('Liquid Cloud Fraction')\n",
    "\n",
    "plt.show()"
   ]
  },
  {
   "cell_type": "code",
   "execution_count": 30,
   "id": "ffa8694e",
   "metadata": {},
   "outputs": [
    {
     "name": "stderr",
     "output_type": "stream",
     "text": [
      "<ipython-input-30-2f064567681a>:9: RuntimeWarning: invalid value encountered in double_scalars\n",
      "  liquid_cloud_fraction_per_vza = [z/y for y, z in zip(n_cloudy, n_liquid)]\n"
     ]
    },
    {
     "data": {
      "image/png": "[encoded data removed]",
      "text/plain": [
       "<Figure size 432x288 with 1 Axes>"
      ]
     },
     "metadata": {},
     "output_type": "display_data"
    }
   ],
   "source": [
    "cloudy = df['viirs_sensor_zenith'][ df['prediction'] != 0 ]\n",
    "n_cloudy, bins_new, patches = plt.hist(cloudy,bins=bins)\n",
    "plt.close()\n",
    "\n",
    "liq = df['viirs_sensor_zenith'][ ( df['prediction'] != 0 ) & (df['prediction'] == 2) ]\n",
    "n_liquid, bins_new, patches = plt.hist(liq,bins=bins)\n",
    "plt.close()\n",
    "\n",
    "liquid_cloud_fraction_per_vza = [z/y for y, z in zip(n_cloudy, n_liquid)]\n",
    "\n",
    "bins=np.arange(2.5,80,5)\n",
    "\n",
    "#plt.bar(bins[:-1],liquid_cloud_fraction_per_vza,5)\n",
    "\n",
    "plt.plot(bins[:-1],liquid_cloud_fraction_per_vza,5)\n",
    "plt.plot(bins[:-1],ice_cloud_fraction_per_vza,5)\n",
    "\n",
    "plt.xlim(0,70)\n",
    "plt.ylim(0,1)\n",
    "\n",
    "blue_patch = mpatches.Patch(color=(0.2980392156862745, 0.4470588235294118, 0.6901960784313725), label='LIQUID')\n",
    "green_patch = mpatches.Patch(color=(0.3333333333333333, 0.6588235294117647, 0.40784313725490196), label='ICE')\n",
    "\n",
    "plt.legend(handles=[blue_patch,green_patch])\n",
    "\n",
    "plt.xlabel('Sensor Zenith Angle')\n",
    "plt.ylabel('Ice Cloud Fraction')\n",
    "\n",
    "plt.savefig('dl_access_cloud_phase_fraction.png', dpi=150)\n",
    "\n",
    "plt.show()"
   ]
  },
  {
   "cell_type": "code",
   "execution_count": null,
   "id": "ab868d03",
   "metadata": {},
   "outputs": [],
   "source": []
  },
  {
   "cell_type": "code",
   "execution_count": null,
   "id": "da870346",
   "metadata": {},
   "outputs": [],
   "source": []
  },
  {
   "cell_type": "code",
   "execution_count": null,
   "id": "be997573",
   "metadata": {},
   "outputs": [],
   "source": []
  },
  {
   "cell_type": "code",
   "execution_count": null,
   "id": "f538dba1",
   "metadata": {},
   "outputs": [],
   "source": []
  },
  {
   "cell_type": "code",
   "execution_count": null,
   "id": "3ea8c974",
   "metadata": {},
   "outputs": [],
   "source": []
  },
  {
   "cell_type": "code",
   "execution_count": null,
   "id": "8dcf9d73",
   "metadata": {},
   "outputs": [],
   "source": []
  }
 ],
 "metadata": {
  "kernelspec": {
   "display_name": "Python 3",
   "language": "python",
   "name": "python3"
  },
  "language_info": {
   "codemirror_mode": {
    "name": "ipython",
    "version": 3
   },
   "file_extension": ".py",
   "mimetype": "text/x-python",
   "name": "python",
   "nbconvert_exporter": "python",
   "pygments_lexer": "ipython3",
   "version": "3.8.8"
  }
 },
 "nbformat": 4,
 "nbformat_minor": 5
}
