{
 "cells": [
  {
   "cell_type": "markdown",
   "id": "6542b2b0",
   "metadata": {},
   "source": [
    "<div class=\"alert alert-info\">\n",
    "<center>\n",
    "<h1 style=\"font-size:22px\">UMBC ACCESS Project Evaluation</h1>\n",
    "<br>\n",
    "Benjamin H.G. Marchant <br>\n",
    "benjamin.marchant@nasa.gov <br>\n",
    "marchant.benjamin01@gmail.com <br>\n",
    "</center>\n",
    "</div>"
   ]
  },
  {
   "cell_type": "code",
   "execution_count": 23,
   "id": "786ba1c1",
   "metadata": {},
   "outputs": [],
   "source": [
    "from os import path\n",
    "\n",
    "import glob\n",
    "import random\n",
    "import pandas as pd\n",
    "import matplotlib.pyplot as plt\n",
    "import matplotlib.cm as cm\n",
    "import matplotlib.patches as mpatches\n",
    "import numpy as np\n",
    "import seaborn as sns; sns.set()"
   ]
  },
  {
   "cell_type": "code",
   "execution_count": 24,
   "id": "e0b1e056",
   "metadata": {},
   "outputs": [],
   "source": [
    "fig_style_dict = {}\n",
    "\n",
    "fig_style_dict['fig_type'] = 'analysis'\n",
    "\n",
    "if fig_style_dict['fig_type'] == 'talk':\n",
    "    fig_style_dict['facecolor'] = '#E8E8E8'\n",
    "    fig_style_dict['label_font_size'] = 18\n",
    "    fig_style_dict['title_font_size'] = 22\n",
    "    fig_style_dict['heatmap_annot_font_size'] = 22\n",
    "else:\n",
    "    fig_style_dict['facecolor'] = 'white'\n",
    "    fig_style_dict['label_font_size'] = 12\n",
    "    fig_style_dict['title_font_size'] = 14\n",
    "    fig_style_dict['heatmap_annot_font_size'] = 14"
   ]
  },
  {
   "cell_type": "code",
   "execution_count": 25,
   "id": "e3fa317b",
   "metadata": {},
   "outputs": [],
   "source": [
    "path_to_data = '/Users/nizhao/xin/access/newdata/from_ben/to_ben/m16/cloudmask/'"
   ]
  },
  {
   "cell_type": "code",
   "execution_count": 39,
   "id": "e0c3f77d",
   "metadata": {},
   "outputs": [
    {
     "data": {
      "text/plain": [
       "['/Users/nizhao/xin/access/newdata/from_ben/to_ben/m16/cloudmask/viirs_sample_2018_09_20.hdf5',\n",
       " '/Users/nizhao/xin/access/newdata/from_ben/to_ben/m16/cloudmask/viirs_sample_2018_05_15.hdf5',\n",
       " '/Users/nizhao/xin/access/newdata/from_ben/to_ben/m16/cloudmask/viirs_sample_2018_06_05.hdf5',\n",
       " '/Users/nizhao/xin/access/newdata/from_ben/to_ben/m16/cloudmask/viirs_sample_2018_03_10.hdf5',\n",
       " '/Users/nizhao/xin/access/newdata/from_ben/to_ben/m16/cloudmask/viirs_sample_2018_10_20.hdf5',\n",
       " '/Users/nizhao/xin/access/newdata/from_ben/to_ben/m16/cloudmask/viirs_sample_2018_06_25.hdf5',\n",
       " '/Users/nizhao/xin/access/newdata/from_ben/to_ben/m16/cloudmask/viirs_sample_2018_01_20.hdf5',\n",
       " '/Users/nizhao/xin/access/newdata/from_ben/to_ben/m16/cloudmask/viirs_sample_2018_11_20.hdf5',\n",
       " '/Users/nizhao/xin/access/newdata/from_ben/to_ben/m16/cloudmask/viirs_sample_2018_07_25.hdf5',\n",
       " '/Users/nizhao/xin/access/newdata/from_ben/to_ben/m16/cloudmask/viirs_sample_2018_08_20.hdf5',\n",
       " '/Users/nizhao/xin/access/newdata/from_ben/to_ben/m16/cloudmask/viirs_sample_2018_04_15.hdf5',\n",
       " '/Users/nizhao/xin/access/newdata/from_ben/to_ben/m16/cloudmask/viirs_sample_2018_07_05.hdf5',\n",
       " '/Users/nizhao/xin/access/newdata/from_ben/to_ben/m16/cloudmask/viirs_sample_2018_02_10.hdf5',\n",
       " '/Users/nizhao/xin/access/newdata/from_ben/to_ben/m16/cloudmask/viirs_sample_2018_12_10.hdf5',\n",
       " '/Users/nizhao/xin/access/newdata/from_ben/to_ben/m16/cloudmask/viirs_sample_2018_03_20.hdf5',\n",
       " '/Users/nizhao/xin/access/newdata/from_ben/to_ben/m16/cloudmask/viirs_sample_2018_09_10.hdf5',\n",
       " '/Users/nizhao/xin/access/newdata/from_ben/to_ben/m16/cloudmask/viirs_sample_2018_05_25.hdf5',\n",
       " '/Users/nizhao/xin/access/newdata/from_ben/to_ben/m16/cloudmask/viirs_sample_2018_05_05.hdf5',\n",
       " '/Users/nizhao/xin/access/newdata/from_ben/to_ben/m16/cloudmask/viirs_sample_2018_06_15.hdf5',\n",
       " '/Users/nizhao/xin/access/newdata/from_ben/to_ben/m16/cloudmask/viirs_sample_2018_10_10.hdf5',\n",
       " '/Users/nizhao/xin/access/newdata/from_ben/to_ben/m16/cloudmask/viirs_sample_2018_04_05.hdf5',\n",
       " '/Users/nizhao/xin/access/newdata/from_ben/to_ben/m16/cloudmask/viirs_sample_2018_07_15.hdf5',\n",
       " '/Users/nizhao/xin/access/newdata/from_ben/to_ben/m16/cloudmask/viirs_sample_2018_01_10.hdf5',\n",
       " '/Users/nizhao/xin/access/newdata/from_ben/to_ben/m16/cloudmask/viirs_sample_2018_11_10.hdf5',\n",
       " '/Users/nizhao/xin/access/newdata/from_ben/to_ben/m16/cloudmask/viirs_sample_2018_02_20.hdf5',\n",
       " '/Users/nizhao/xin/access/newdata/from_ben/to_ben/m16/cloudmask/viirs_sample_2018_12_20.hdf5',\n",
       " '/Users/nizhao/xin/access/newdata/from_ben/to_ben/m16/cloudmask/viirs_sample_2018_08_10.hdf5',\n",
       " '/Users/nizhao/xin/access/newdata/from_ben/to_ben/m16/cloudmask/viirs_sample_2018_04_25.hdf5',\n",
       " '/Users/nizhao/xin/access/newdata/from_ben/to_ben/m16/cloudmask/viirs_sample_2018_01_25.hdf5',\n",
       " '/Users/nizhao/xin/access/newdata/from_ben/to_ben/m16/cloudmask/viirs_sample_2018_11_25.hdf5',\n",
       " '/Users/nizhao/xin/access/newdata/from_ben/to_ben/m16/cloudmask/viirs_sample_2018_07_20.hdf5',\n",
       " '/Users/nizhao/xin/access/newdata/from_ben/to_ben/m16/cloudmask/viirs_sample_2018_08_05.hdf5',\n",
       " '/Users/nizhao/xin/access/newdata/from_ben/to_ben/m16/cloudmask/viirs_sample_2018_08_25.hdf5',\n",
       " '/Users/nizhao/xin/access/newdata/from_ben/to_ben/m16/cloudmask/viirs_sample_2018_04_10.hdf5',\n",
       " '/Users/nizhao/xin/access/newdata/from_ben/to_ben/m16/cloudmask/viirs_sample_2018_02_15.hdf5',\n",
       " '/Users/nizhao/xin/access/newdata/from_ben/to_ben/m16/cloudmask/viirs_sample_2018_12_15.hdf5',\n",
       " '/Users/nizhao/xin/access/newdata/from_ben/to_ben/m16/cloudmask/viirs_sample_2018_01_05.hdf5',\n",
       " '/Users/nizhao/xin/access/newdata/from_ben/to_ben/m16/cloudmask/viirs_sample_2018_11_05.hdf5',\n",
       " '/Users/nizhao/xin/access/newdata/from_ben/to_ben/m16/cloudmask/viirs_sample_2018_09_25.hdf5',\n",
       " '/Users/nizhao/xin/access/newdata/from_ben/to_ben/m16/cloudmask/viirs_sample_2018_05_10.hdf5',\n",
       " '/Users/nizhao/xin/access/newdata/from_ben/to_ben/m16/cloudmask/viirs_sample_2018_03_15.hdf5',\n",
       " '/Users/nizhao/xin/access/newdata/from_ben/to_ben/m16/cloudmask/viirs_sample_2018_10_05.hdf5',\n",
       " '/Users/nizhao/xin/access/newdata/from_ben/to_ben/m16/cloudmask/viirs_sample_2018_10_25.hdf5',\n",
       " '/Users/nizhao/xin/access/newdata/from_ben/to_ben/m16/cloudmask/viirs_sample_2018_06_20.hdf5',\n",
       " '/Users/nizhao/xin/access/newdata/from_ben/to_ben/m16/cloudmask/viirs_sample_2018_09_05.hdf5',\n",
       " '/Users/nizhao/xin/access/newdata/from_ben/to_ben/m16/cloudmask/viirs_sample_2018_07_10.hdf5',\n",
       " '/Users/nizhao/xin/access/newdata/from_ben/to_ben/m16/cloudmask/viirs_sample_2018_02_05.hdf5',\n",
       " '/Users/nizhao/xin/access/newdata/from_ben/to_ben/m16/cloudmask/viirs_sample_2018_12_05.hdf5',\n",
       " '/Users/nizhao/xin/access/newdata/from_ben/to_ben/m16/cloudmask/viirs_sample_2018_01_15.hdf5',\n",
       " '/Users/nizhao/xin/access/newdata/from_ben/to_ben/m16/cloudmask/viirs_sample_2018_11_15.hdf5',\n",
       " '/Users/nizhao/xin/access/newdata/from_ben/to_ben/m16/cloudmask/viirs_sample_2018_02_25.hdf5',\n",
       " '/Users/nizhao/xin/access/newdata/from_ben/to_ben/m16/cloudmask/viirs_sample_2018_12_25.hdf5',\n",
       " '/Users/nizhao/xin/access/newdata/from_ben/to_ben/m16/cloudmask/viirs_sample_2018_08_15.hdf5',\n",
       " '/Users/nizhao/xin/access/newdata/from_ben/to_ben/m16/cloudmask/viirs_sample_2018_04_20.hdf5',\n",
       " '/Users/nizhao/xin/access/newdata/from_ben/to_ben/m16/cloudmask/viirs_sample_2018_03_25.hdf5',\n",
       " '/Users/nizhao/xin/access/newdata/from_ben/to_ben/m16/cloudmask/viirs_sample_2018_09_15.hdf5',\n",
       " '/Users/nizhao/xin/access/newdata/from_ben/to_ben/m16/cloudmask/viirs_sample_2018_05_20.hdf5',\n",
       " '/Users/nizhao/xin/access/newdata/from_ben/to_ben/m16/cloudmask/viirs_sample_2018_06_10.hdf5',\n",
       " '/Users/nizhao/xin/access/newdata/from_ben/to_ben/m16/cloudmask/viirs_sample_2018_03_05.hdf5',\n",
       " '/Users/nizhao/xin/access/newdata/from_ben/to_ben/m16/cloudmask/viirs_sample_2018_10_15.hdf5']"
      ]
     },
     "execution_count": 39,
     "metadata": {},
     "output_type": "execute_result"
    }
   ],
   "source": [
    "sample_list = glob.glob( '{}/*hdf5'.format(path_to_data) )\n",
    "\n",
    "sample_list"
   ]
  },
  {
   "cell_type": "code",
   "execution_count": 40,
   "id": "ee2d941f",
   "metadata": {},
   "outputs": [],
   "source": [
    "file = random.choice(sample_list)"
   ]
  },
  {
   "cell_type": "code",
   "execution_count": 41,
   "id": "f419b847",
   "metadata": {},
   "outputs": [
    {
     "name": "stdout",
     "output_type": "stream",
     "text": [
      "['/sample']\n"
     ]
    }
   ],
   "source": [
    "if path.exists(file):\n",
    "    with pd.HDFStore(file) as store:\n",
    "        print(store.keys())"
   ]
  },
  {
   "cell_type": "code",
   "execution_count": 42,
   "id": "335ae83f",
   "metadata": {},
   "outputs": [
    {
     "data": {
      "text/html": [
       "<div>\n",
       "<style scoped>\n",
       "    .dataframe tbody tr th:only-of-type {\n",
       "        vertical-align: middle;\n",
       "    }\n",
       "\n",
       "    .dataframe tbody tr th {\n",
       "        vertical-align: top;\n",
       "    }\n",
       "\n",
       "    .dataframe thead th {\n",
       "        text-align: right;\n",
       "    }\n",
       "</style>\n",
       "<table border=\"1\" class=\"dataframe\">\n",
       "  <thead>\n",
       "    <tr style=\"text-align: right;\">\n",
       "      <th></th>\n",
       "      <th>M01</th>\n",
       "      <th>M02</th>\n",
       "      <th>M03</th>\n",
       "      <th>M04</th>\n",
       "      <th>M05</th>\n",
       "      <th>M06</th>\n",
       "      <th>M07</th>\n",
       "      <th>M08</th>\n",
       "      <th>M09</th>\n",
       "      <th>M10</th>\n",
       "      <th>...</th>\n",
       "      <th>viirs_Cloud_Effective_Radius_37_PCL</th>\n",
       "      <th>viirs_Cloud_Water_Path</th>\n",
       "      <th>viirs_Cloud_Water_Path_PCL</th>\n",
       "      <th>viirs_Cloud_Mask</th>\n",
       "      <th>viirs_Surface</th>\n",
       "      <th>VNP02MOD_file</th>\n",
       "      <th>CLDPROP_L2_VIIRS_SNPP_file</th>\n",
       "      <th>along track idx</th>\n",
       "      <th>cross track idx</th>\n",
       "      <th>prediction</th>\n",
       "    </tr>\n",
       "  </thead>\n",
       "  <tbody>\n",
       "    <tr>\n",
       "      <th>0</th>\n",
       "      <td>0.568486</td>\n",
       "      <td>0.557030</td>\n",
       "      <td>0.539158</td>\n",
       "      <td>0.478163</td>\n",
       "      <td>0.506251</td>\n",
       "      <td>0.139522</td>\n",
       "      <td>0.525183</td>\n",
       "      <td>0.464409</td>\n",
       "      <td>0.009076</td>\n",
       "      <td>0.362630</td>\n",
       "      <td>...</td>\n",
       "      <td>-9999.0</td>\n",
       "      <td>161.0</td>\n",
       "      <td>-9999.0</td>\n",
       "      <td>0.0</td>\n",
       "      <td>0.0</td>\n",
       "      <td>VNP02MOD.A2018319.0148.001.2018319080442.nc</td>\n",
       "      <td>CLDPROP_L2_VIIRS_SNPP.A2018319.0148.011.201923...</td>\n",
       "      <td>1789.0</td>\n",
       "      <td>2744.0</td>\n",
       "      <td>1</td>\n",
       "    </tr>\n",
       "    <tr>\n",
       "      <th>1</th>\n",
       "      <td>0.313191</td>\n",
       "      <td>0.299457</td>\n",
       "      <td>0.281124</td>\n",
       "      <td>0.239261</td>\n",
       "      <td>0.252736</td>\n",
       "      <td>0.147019</td>\n",
       "      <td>0.271268</td>\n",
       "      <td>0.252596</td>\n",
       "      <td>0.069072</td>\n",
       "      <td>0.217250</td>\n",
       "      <td>...</td>\n",
       "      <td>-9999.0</td>\n",
       "      <td>-9999.0</td>\n",
       "      <td>-9999.0</td>\n",
       "      <td>0.0</td>\n",
       "      <td>0.0</td>\n",
       "      <td>VNP02MOD.A2018319.0512.001.2018319115201.nc</td>\n",
       "      <td>CLDPROP_L2_VIIRS_SNPP.A2018319.0512.011.201923...</td>\n",
       "      <td>2350.0</td>\n",
       "      <td>733.0</td>\n",
       "      <td>1</td>\n",
       "    </tr>\n",
       "    <tr>\n",
       "      <th>2</th>\n",
       "      <td>0.381123</td>\n",
       "      <td>0.369927</td>\n",
       "      <td>0.359352</td>\n",
       "      <td>0.328664</td>\n",
       "      <td>0.334322</td>\n",
       "      <td>0.149218</td>\n",
       "      <td>0.320028</td>\n",
       "      <td>0.240301</td>\n",
       "      <td>0.001679</td>\n",
       "      <td>0.174328</td>\n",
       "      <td>...</td>\n",
       "      <td>-9999.0</td>\n",
       "      <td>33.0</td>\n",
       "      <td>-9999.0</td>\n",
       "      <td>0.0</td>\n",
       "      <td>0.0</td>\n",
       "      <td>VNP02MOD.A2018319.2348.001.2018320055102.nc</td>\n",
       "      <td>CLDPROP_L2_VIIRS_SNPP.A2018319.2348.011.201923...</td>\n",
       "      <td>1931.0</td>\n",
       "      <td>1587.0</td>\n",
       "      <td>1</td>\n",
       "    </tr>\n",
       "    <tr>\n",
       "      <th>3</th>\n",
       "      <td>0.376445</td>\n",
       "      <td>0.366229</td>\n",
       "      <td>0.357753</td>\n",
       "      <td>0.330564</td>\n",
       "      <td>0.346177</td>\n",
       "      <td>0.144840</td>\n",
       "      <td>0.364890</td>\n",
       "      <td>0.344298</td>\n",
       "      <td>0.078568</td>\n",
       "      <td>0.222368</td>\n",
       "      <td>...</td>\n",
       "      <td>-9999.0</td>\n",
       "      <td>89.0</td>\n",
       "      <td>-9999.0</td>\n",
       "      <td>0.0</td>\n",
       "      <td>0.0</td>\n",
       "      <td>VNP02MOD.A2018319.0330.001.2018319100053.nc</td>\n",
       "      <td>CLDPROP_L2_VIIRS_SNPP.A2018319.0330.011.201923...</td>\n",
       "      <td>1080.0</td>\n",
       "      <td>2920.0</td>\n",
       "      <td>1</td>\n",
       "    </tr>\n",
       "    <tr>\n",
       "      <th>4</th>\n",
       "      <td>0.173309</td>\n",
       "      <td>0.131786</td>\n",
       "      <td>0.095541</td>\n",
       "      <td>0.054897</td>\n",
       "      <td>0.026989</td>\n",
       "      <td>0.019372</td>\n",
       "      <td>0.012975</td>\n",
       "      <td>0.006797</td>\n",
       "      <td>0.001719</td>\n",
       "      <td>0.004658</td>\n",
       "      <td>...</td>\n",
       "      <td>-9999.0</td>\n",
       "      <td>-9999.0</td>\n",
       "      <td>-9999.0</td>\n",
       "      <td>3.0</td>\n",
       "      <td>0.0</td>\n",
       "      <td>VNP02MOD.A2018319.0854.001.2018319145839.nc</td>\n",
       "      <td>CLDPROP_L2_VIIRS_SNPP.A2018319.0854.011.201923...</td>\n",
       "      <td>1676.0</td>\n",
       "      <td>1482.0</td>\n",
       "      <td>0</td>\n",
       "    </tr>\n",
       "    <tr>\n",
       "      <th>...</th>\n",
       "      <td>...</td>\n",
       "      <td>...</td>\n",
       "      <td>...</td>\n",
       "      <td>...</td>\n",
       "      <td>...</td>\n",
       "      <td>...</td>\n",
       "      <td>...</td>\n",
       "      <td>...</td>\n",
       "      <td>...</td>\n",
       "      <td>...</td>\n",
       "      <td>...</td>\n",
       "      <td>...</td>\n",
       "      <td>...</td>\n",
       "      <td>...</td>\n",
       "      <td>...</td>\n",
       "      <td>...</td>\n",
       "      <td>...</td>\n",
       "      <td>...</td>\n",
       "      <td>...</td>\n",
       "      <td>...</td>\n",
       "      <td>...</td>\n",
       "    </tr>\n",
       "    <tr>\n",
       "      <th>9995</th>\n",
       "      <td>0.192341</td>\n",
       "      <td>0.155656</td>\n",
       "      <td>0.118871</td>\n",
       "      <td>0.074829</td>\n",
       "      <td>0.046201</td>\n",
       "      <td>0.037924</td>\n",
       "      <td>0.029988</td>\n",
       "      <td>0.020751</td>\n",
       "      <td>0.005258</td>\n",
       "      <td>0.016373</td>\n",
       "      <td>...</td>\n",
       "      <td>-9999.0</td>\n",
       "      <td>-9999.0</td>\n",
       "      <td>-9999.0</td>\n",
       "      <td>1.0</td>\n",
       "      <td>0.0</td>\n",
       "      <td>VNP02MOD.A2018319.0524.001.2018319115221.nc</td>\n",
       "      <td>CLDPROP_L2_VIIRS_SNPP.A2018319.0524.011.201923...</td>\n",
       "      <td>24.0</td>\n",
       "      <td>1064.0</td>\n",
       "      <td>0</td>\n",
       "    </tr>\n",
       "    <tr>\n",
       "      <th>9996</th>\n",
       "      <td>0.367109</td>\n",
       "      <td>0.344678</td>\n",
       "      <td>0.328545</td>\n",
       "      <td>0.307473</td>\n",
       "      <td>0.297957</td>\n",
       "      <td>0.150078</td>\n",
       "      <td>0.411850</td>\n",
       "      <td>0.374965</td>\n",
       "      <td>0.159894</td>\n",
       "      <td>0.203656</td>\n",
       "      <td>...</td>\n",
       "      <td>-9999.0</td>\n",
       "      <td>66.0</td>\n",
       "      <td>-9999.0</td>\n",
       "      <td>0.0</td>\n",
       "      <td>3.0</td>\n",
       "      <td>VNP02MOD.A2018319.0530.001.2018319115202.nc</td>\n",
       "      <td>CLDPROP_L2_VIIRS_SNPP.A2018319.0530.011.201923...</td>\n",
       "      <td>2022.0</td>\n",
       "      <td>2404.0</td>\n",
       "      <td>1</td>\n",
       "    </tr>\n",
       "    <tr>\n",
       "      <th>9997</th>\n",
       "      <td>0.185164</td>\n",
       "      <td>0.150858</td>\n",
       "      <td>0.122589</td>\n",
       "      <td>0.091662</td>\n",
       "      <td>0.069431</td>\n",
       "      <td>0.064094</td>\n",
       "      <td>0.060515</td>\n",
       "      <td>0.059695</td>\n",
       "      <td>0.001239</td>\n",
       "      <td>0.061894</td>\n",
       "      <td>...</td>\n",
       "      <td>-9999.0</td>\n",
       "      <td>8.0</td>\n",
       "      <td>-9999.0</td>\n",
       "      <td>0.0</td>\n",
       "      <td>0.0</td>\n",
       "      <td>VNP02MOD.A2018319.1900.001.2018320011737.nc</td>\n",
       "      <td>CLDPROP_L2_VIIRS_SNPP.A2018319.1900.011.201923...</td>\n",
       "      <td>356.0</td>\n",
       "      <td>1822.0</td>\n",
       "      <td>1</td>\n",
       "    </tr>\n",
       "    <tr>\n",
       "      <th>9998</th>\n",
       "      <td>0.331383</td>\n",
       "      <td>0.311512</td>\n",
       "      <td>0.297377</td>\n",
       "      <td>0.286282</td>\n",
       "      <td>0.274147</td>\n",
       "      <td>0.143321</td>\n",
       "      <td>0.421646</td>\n",
       "      <td>0.391878</td>\n",
       "      <td>0.025749</td>\n",
       "      <td>0.293459</td>\n",
       "      <td>...</td>\n",
       "      <td>-9999.0</td>\n",
       "      <td>41.0</td>\n",
       "      <td>-9999.0</td>\n",
       "      <td>0.0</td>\n",
       "      <td>3.0</td>\n",
       "      <td>VNP02MOD.A2018319.1724.001.2018319231558.nc</td>\n",
       "      <td>CLDPROP_L2_VIIRS_SNPP.A2018319.1724.011.201923...</td>\n",
       "      <td>1576.0</td>\n",
       "      <td>305.0</td>\n",
       "      <td>1</td>\n",
       "    </tr>\n",
       "    <tr>\n",
       "      <th>9999</th>\n",
       "      <td>0.294139</td>\n",
       "      <td>0.237762</td>\n",
       "      <td>0.182105</td>\n",
       "      <td>0.114933</td>\n",
       "      <td>0.067912</td>\n",
       "      <td>0.052658</td>\n",
       "      <td>0.039124</td>\n",
       "      <td>0.023050</td>\n",
       "      <td>0.001100</td>\n",
       "      <td>0.018752</td>\n",
       "      <td>...</td>\n",
       "      <td>-9999.0</td>\n",
       "      <td>-9999.0</td>\n",
       "      <td>-9999.0</td>\n",
       "      <td>3.0</td>\n",
       "      <td>0.0</td>\n",
       "      <td>VNP02MOD.A2018319.1030.001.2018319162801.nc</td>\n",
       "      <td>CLDPROP_L2_VIIRS_SNPP.A2018319.1030.011.201923...</td>\n",
       "      <td>1152.0</td>\n",
       "      <td>2910.0</td>\n",
       "      <td>0</td>\n",
       "    </tr>\n",
       "  </tbody>\n",
       "</table>\n",
       "<p>10000 rows × 47 columns</p>\n",
       "</div>"
      ],
      "text/plain": [
       "           M01       M02       M03       M04       M05       M06       M07  \\\n",
       "0     0.568486  0.557030  0.539158  0.478163  0.506251  0.139522  0.525183   \n",
       "1     0.313191  0.299457  0.281124  0.239261  0.252736  0.147019  0.271268   \n",
       "2     0.381123  0.369927  0.359352  0.328664  0.334322  0.149218  0.320028   \n",
       "3     0.376445  0.366229  0.357753  0.330564  0.346177  0.144840  0.364890   \n",
       "4     0.173309  0.131786  0.095541  0.054897  0.026989  0.019372  0.012975   \n",
       "...        ...       ...       ...       ...       ...       ...       ...   \n",
       "9995  0.192341  0.155656  0.118871  0.074829  0.046201  0.037924  0.029988   \n",
       "9996  0.367109  0.344678  0.328545  0.307473  0.297957  0.150078  0.411850   \n",
       "9997  0.185164  0.150858  0.122589  0.091662  0.069431  0.064094  0.060515   \n",
       "9998  0.331383  0.311512  0.297377  0.286282  0.274147  0.143321  0.421646   \n",
       "9999  0.294139  0.237762  0.182105  0.114933  0.067912  0.052658  0.039124   \n",
       "\n",
       "           M08       M09       M10  ...  viirs_Cloud_Effective_Radius_37_PCL  \\\n",
       "0     0.464409  0.009076  0.362630  ...                              -9999.0   \n",
       "1     0.252596  0.069072  0.217250  ...                              -9999.0   \n",
       "2     0.240301  0.001679  0.174328  ...                              -9999.0   \n",
       "3     0.344298  0.078568  0.222368  ...                              -9999.0   \n",
       "4     0.006797  0.001719  0.004658  ...                              -9999.0   \n",
       "...        ...       ...       ...  ...                                  ...   \n",
       "9995  0.020751  0.005258  0.016373  ...                              -9999.0   \n",
       "9996  0.374965  0.159894  0.203656  ...                              -9999.0   \n",
       "9997  0.059695  0.001239  0.061894  ...                              -9999.0   \n",
       "9998  0.391878  0.025749  0.293459  ...                              -9999.0   \n",
       "9999  0.023050  0.001100  0.018752  ...                              -9999.0   \n",
       "\n",
       "      viirs_Cloud_Water_Path  viirs_Cloud_Water_Path_PCL  viirs_Cloud_Mask  \\\n",
       "0                      161.0                     -9999.0               0.0   \n",
       "1                    -9999.0                     -9999.0               0.0   \n",
       "2                       33.0                     -9999.0               0.0   \n",
       "3                       89.0                     -9999.0               0.0   \n",
       "4                    -9999.0                     -9999.0               3.0   \n",
       "...                      ...                         ...               ...   \n",
       "9995                 -9999.0                     -9999.0               1.0   \n",
       "9996                    66.0                     -9999.0               0.0   \n",
       "9997                     8.0                     -9999.0               0.0   \n",
       "9998                    41.0                     -9999.0               0.0   \n",
       "9999                 -9999.0                     -9999.0               3.0   \n",
       "\n",
       "      viirs_Surface                                VNP02MOD_file  \\\n",
       "0               0.0  VNP02MOD.A2018319.0148.001.2018319080442.nc   \n",
       "1               0.0  VNP02MOD.A2018319.0512.001.2018319115201.nc   \n",
       "2               0.0  VNP02MOD.A2018319.2348.001.2018320055102.nc   \n",
       "3               0.0  VNP02MOD.A2018319.0330.001.2018319100053.nc   \n",
       "4               0.0  VNP02MOD.A2018319.0854.001.2018319145839.nc   \n",
       "...             ...                                          ...   \n",
       "9995            0.0  VNP02MOD.A2018319.0524.001.2018319115221.nc   \n",
       "9996            3.0  VNP02MOD.A2018319.0530.001.2018319115202.nc   \n",
       "9997            0.0  VNP02MOD.A2018319.1900.001.2018320011737.nc   \n",
       "9998            3.0  VNP02MOD.A2018319.1724.001.2018319231558.nc   \n",
       "9999            0.0  VNP02MOD.A2018319.1030.001.2018319162801.nc   \n",
       "\n",
       "                             CLDPROP_L2_VIIRS_SNPP_file  along track idx  \\\n",
       "0     CLDPROP_L2_VIIRS_SNPP.A2018319.0148.011.201923...           1789.0   \n",
       "1     CLDPROP_L2_VIIRS_SNPP.A2018319.0512.011.201923...           2350.0   \n",
       "2     CLDPROP_L2_VIIRS_SNPP.A2018319.2348.011.201923...           1931.0   \n",
       "3     CLDPROP_L2_VIIRS_SNPP.A2018319.0330.011.201923...           1080.0   \n",
       "4     CLDPROP_L2_VIIRS_SNPP.A2018319.0854.011.201923...           1676.0   \n",
       "...                                                 ...              ...   \n",
       "9995  CLDPROP_L2_VIIRS_SNPP.A2018319.0524.011.201923...             24.0   \n",
       "9996  CLDPROP_L2_VIIRS_SNPP.A2018319.0530.011.201923...           2022.0   \n",
       "9997  CLDPROP_L2_VIIRS_SNPP.A2018319.1900.011.201923...            356.0   \n",
       "9998  CLDPROP_L2_VIIRS_SNPP.A2018319.1724.011.201923...           1576.0   \n",
       "9999  CLDPROP_L2_VIIRS_SNPP.A2018319.1030.011.201923...           1152.0   \n",
       "\n",
       "      cross track idx  prediction  \n",
       "0              2744.0           1  \n",
       "1               733.0           1  \n",
       "2              1587.0           1  \n",
       "3              2920.0           1  \n",
       "4              1482.0           0  \n",
       "...               ...         ...  \n",
       "9995           1064.0           0  \n",
       "9996           2404.0           1  \n",
       "9997           1822.0           1  \n",
       "9998            305.0           1  \n",
       "9999           2910.0           0  \n",
       "\n",
       "[10000 rows x 47 columns]"
      ]
     },
     "execution_count": 42,
     "metadata": {},
     "output_type": "execute_result"
    }
   ],
   "source": [
    "if path.exists(file):\n",
    "    with pd.HDFStore(file) as store:\n",
    "        df = store['sample']\n",
    "\n",
    "df"
   ]
  },
  {
   "cell_type": "code",
   "execution_count": 43,
   "id": "ec5d5b87",
   "metadata": {},
   "outputs": [
    {
     "data": {
      "text/plain": [
       "Index(['M01', 'M02', 'M03', 'M04', 'M05', 'M06', 'M07', 'M08', 'M09', 'M10',\n",
       "       'M11', 'M12', 'M13', 'M14', 'M15', 'M16', 'latitude', 'longitude',\n",
       "       'viirs_solar_zenith', 'viirs_sensor_zenith', 'viirs_solar_azimuth',\n",
       "       'viirs_sensor_azimuth', 'viirs_Cloud_Top_Temperature',\n",
       "       'viirs_Cloud_Top_Height', 'viirs_Cloud_Top_Pressure',\n",
       "       'viirs_Cloud_Phase_Cloud_Top_Properties',\n",
       "       'viirs_Cloud_Optical_Thickness', 'viirs_Cloud_Optical_Thickness_PCL',\n",
       "       'viirs_Cloud_Optical_Thickness_16',\n",
       "       'viirs_Cloud_Optical_Thickness_16_PCL',\n",
       "       'viirs_Cloud_Optical_Thickness_37',\n",
       "       'viirs_Cloud_Optical_Thickness_37_PCL', 'viirs_Cloud_Effective_Radius',\n",
       "       'viirs_Cloud_Effective_Radius_PCL', 'viirs_Cloud_Effective_Radius_16',\n",
       "       'viirs_Cloud_Effective_Radius_16_PCL',\n",
       "       'viirs_Cloud_Effective_Radius_37',\n",
       "       'viirs_Cloud_Effective_Radius_37_PCL', 'viirs_Cloud_Water_Path',\n",
       "       'viirs_Cloud_Water_Path_PCL', 'viirs_Cloud_Mask', 'viirs_Surface',\n",
       "       'VNP02MOD_file', 'CLDPROP_L2_VIIRS_SNPP_file', 'along track idx',\n",
       "       'cross track idx', 'prediction'],\n",
       "      dtype='object')"
      ]
     },
     "execution_count": 43,
     "metadata": {},
     "output_type": "execute_result"
    }
   ],
   "source": [
    "df.columns"
   ]
  },
  {
   "cell_type": "code",
   "execution_count": 44,
   "id": "1e27b3d7",
   "metadata": {},
   "outputs": [
    {
     "data": {
      "text/plain": [
       "1.0    4576\n",
       "0.0    2938\n",
       "2.0    2486\n",
       "Name: viirs_Cloud_Phase_Cloud_Top_Properties, dtype: int64"
      ]
     },
     "execution_count": 44,
     "metadata": {},
     "output_type": "execute_result"
    }
   ],
   "source": [
    "df['viirs_Cloud_Phase_Cloud_Top_Properties'].value_counts()"
   ]
  },
  {
   "cell_type": "code",
   "execution_count": 45,
   "id": "67226f39",
   "metadata": {},
   "outputs": [
    {
     "data": {
      "text/plain": [
       "0.0    6515\n",
       "3.0    2560\n",
       "1.0     547\n",
       "2.0     378\n",
       "Name: viirs_Cloud_Mask, dtype: int64"
      ]
     },
     "execution_count": 45,
     "metadata": {},
     "output_type": "execute_result"
    }
   ],
   "source": [
    "df['viirs_Cloud_Mask'].value_counts()"
   ]
  },
  {
   "cell_type": "code",
   "execution_count": null,
   "id": "8aa4ec83",
   "metadata": {},
   "outputs": [],
   "source": []
  },
  {
   "cell_type": "code",
   "execution_count": 46,
   "id": "58e1633b",
   "metadata": {},
   "outputs": [
    {
     "data": {
      "text/plain": [
       "1    7192\n",
       "0    2808\n",
       "Name: prediction, dtype: int64"
      ]
     },
     "execution_count": 46,
     "metadata": {},
     "output_type": "execute_result"
    }
   ],
   "source": [
    "df['prediction'].value_counts()"
   ]
  },
  {
   "cell_type": "code",
   "execution_count": null,
   "id": "6942a41c",
   "metadata": {},
   "outputs": [],
   "source": []
  },
  {
   "cell_type": "code",
   "execution_count": null,
   "id": "e64ed7dd",
   "metadata": {},
   "outputs": [],
   "source": []
  },
  {
   "cell_type": "code",
   "execution_count": 47,
   "id": "2993ace2",
   "metadata": {},
   "outputs": [],
   "source": [
    "df_cloudy = df[ df['viirs_Cloud_Mask'] < 2]"
   ]
  },
  {
   "cell_type": "code",
   "execution_count": 48,
   "id": "abdd9b0d",
   "metadata": {},
   "outputs": [
    {
     "data": {
      "text/plain": [
       "1.0    4576\n",
       "2.0    2486\n",
       "Name: viirs_Cloud_Phase_Cloud_Top_Properties, dtype: int64"
      ]
     },
     "execution_count": 48,
     "metadata": {},
     "output_type": "execute_result"
    }
   ],
   "source": [
    "df_cloudy['viirs_Cloud_Phase_Cloud_Top_Properties'].value_counts()"
   ]
  },
  {
   "cell_type": "code",
   "execution_count": 49,
   "id": "0c308b32",
   "metadata": {},
   "outputs": [
    {
     "data": {
      "text/plain": [
       "1    6796\n",
       "0     266\n",
       "Name: prediction, dtype: int64"
      ]
     },
     "execution_count": 49,
     "metadata": {},
     "output_type": "execute_result"
    }
   ],
   "source": [
    "df_cloudy['prediction'].value_counts()"
   ]
  },
  {
   "cell_type": "code",
   "execution_count": null,
   "id": "fd2fd88d",
   "metadata": {},
   "outputs": [],
   "source": []
  },
  {
   "cell_type": "code",
   "execution_count": 50,
   "id": "6e75a92a",
   "metadata": {},
   "outputs": [],
   "source": [
    "m1 = df['viirs_Cloud_Mask']\n",
    "m2 = df['prediction']\n",
    "\n",
    "# c1 = df[ (m1 < 2) & (m2 != 0) ].shape[0]\n",
    "# c2 = df[ (m1 < 2) & (m2 == 0) ].shape[0]\n",
    "# c3 = df[ (m1 >= 2) & (m2 != 0) ].shape[0]\n",
    "# c4 = df[ (m1 >= 2) & (m2 == 0) ].shape[0]\n",
    "\n",
    "c1 = df[ (m1 < 2) & (m2 == 1) ].shape[0] #cloudy\n",
    "c2 = df[ (m1 < 2) & (m2 == 0) ].shape[0]\n",
    "c3 = df[ (m1 >= 2) & (m2 == 1) ].shape[0]\n",
    "c4 = df[ (m1 >= 2) & (m2 == 0) ].shape[0] #clear"
   ]
  },
  {
   "cell_type": "code",
   "execution_count": 51,
   "id": "1190018d",
   "metadata": {},
   "outputs": [
    {
     "name": "stdout",
     "output_type": "stream",
     "text": [
      "[[ 396 2542]\n",
      " [6796  266]]\n"
     ]
    },
    {
     "data": {
      "image/png": "[encoded data removed]",
      "text/plain": [
       "<Figure size 640x480 with 1 Axes>"
      ]
     },
     "metadata": {},
     "output_type": "display_data"
    }
   ],
   "source": [
    "tot_counts = c1 + c2 + c3 + c4\n",
    "\n",
    "conf_arr = np.array([[ c3,   c4],\n",
    "                     [  c1,  c2]])\n",
    "\n",
    "print(conf_arr)\n",
    "\n",
    "conf_arr = 100. * conf_arr / tot_counts\n",
    "\n",
    "df_cm = pd.DataFrame(conf_arr, \n",
    "                  index = ['VIIRS CLDPROP Liquid', 'VIIRS CLDPROP Ice'],\n",
    "                  columns = ['VIIRS ACCESS Liquid', 'VIIRS ACCESS Ice'])\n",
    "\n",
    "fig = plt.figure(num=None, figsize=(8, 6), dpi=80, facecolor=fig_style_dict['facecolor'], edgecolor='k')\n",
    "\n",
    "plt.clf()\n",
    "\n",
    "ax = fig.add_subplot(111)\n",
    "\n",
    "ax.set_aspect(1)\n",
    "\n",
    "res = sns.heatmap(df_cm, annot=True, vmin=0.0, vmax=100.0, fmt='.2f', cmap=\"YlGnBu\",annot_kws={\"size\": fig_style_dict['heatmap_annot_font_size']},cbar=False)\n",
    "\n",
    "plt.xticks([0.5,1.5], ['VIIRS ACCESS Cloudy', 'VIIRS ACCESS Clear'],fontsize=fig_style_dict['label_font_size'])\n",
    "plt.yticks([1.5,0.5], ['VIIRS CLDPROP Cloudy','VIIRS CLDPROP Clear'],va='center',fontsize=fig_style_dict['label_font_size'])\n",
    "\n",
    "#plt.title('Accuracy :'+str(round((c1+c4)/tot_counts,2)),fontsize=fig_style_dict['title_font_size'])\n",
    "\n",
    "#plt.savefig(\"modis_deep_learning_cloud_phase_confusion_matrix_01.png\", bbox_inches='tight', dpi=100)\n",
    "\n",
    "plt.savefig('contingency_cloud_mask.png', dpi=150)\n",
    "\n",
    "plt.show()"
   ]
  },
  {
   "cell_type": "code",
   "execution_count": null,
   "id": "9cb11d88",
   "metadata": {},
   "outputs": [],
   "source": []
  },
  {
   "cell_type": "code",
   "execution_count": 115,
   "id": "1076013a",
   "metadata": {},
   "outputs": [],
   "source": [
    "m1 = df['viirs_Cloud_Phase_Cloud_Top_Properties']\n",
    "m2 = df['prediction']\n",
    "\n",
    "c1 = df[ (m1 == 1) & (m2 == 1) ].shape[0]\n",
    "c2 = df[ (m1 == 1) & (m2 == 2) ].shape[0]\n",
    "c3 = df[ (m1 == 2) & (m2 == 1) ].shape[0]\n",
    "c4 = df[ (m1 == 2) & (m2 == 2) ].shape[0]"
   ]
  },
  {
   "cell_type": "code",
   "execution_count": 116,
   "id": "68bfd1dc",
   "metadata": {},
   "outputs": [
    {
     "name": "stdout",
     "output_type": "stream",
     "text": [
      "[[ 854  702]\n",
      " [1987 1520]]\n"
     ]
    },
    {
     "data": {
      "image/png": "[encoded data removed]",
      "text/plain": [
       "<Figure size 640x480 with 1 Axes>"
      ]
     },
     "metadata": {},
     "output_type": "display_data"
    }
   ],
   "source": [
    "tot_counts = c1 + c2 + c3 + c4\n",
    "\n",
    "conf_arr = np.array([[ c3,   c4],\n",
    "                     [  c1,  c2]])\n",
    "\n",
    "print(conf_arr)\n",
    "\n",
    "conf_arr = 100. * conf_arr / tot_counts\n",
    "\n",
    "df_cm = pd.DataFrame(conf_arr, \n",
    "                  index = ['VIIRS CLDPROP Liquid', 'VIIRS CLDPROP Ice'],\n",
    "                  columns = ['VIIRS ACCESS Liquid', 'VIIRS ACCESS Ice'])\n",
    "\n",
    "fig = plt.figure(num=None, figsize=(8, 6), dpi=80, facecolor=fig_style_dict['facecolor'], edgecolor='k')\n",
    "\n",
    "plt.clf()\n",
    "\n",
    "ax = fig.add_subplot(111)\n",
    "\n",
    "ax.set_aspect(1)\n",
    "\n",
    "res = sns.heatmap(df_cm, annot=True, vmin=0.0, vmax=100.0, fmt='.2f', cmap=\"YlGnBu\",annot_kws={\"size\": fig_style_dict['heatmap_annot_font_size']},cbar=False)\n",
    "\n",
    "plt.xticks([0.5,1.5], ['VIIRS ACCESS Liquid', 'VIIRS ACCESS Ice'],fontsize=fig_style_dict['label_font_size'])\n",
    "plt.yticks([1.5,0.5], ['VIIRS CLDPROP Liquid','VIIRS CLDPROP Ice'],va='center',fontsize=fig_style_dict['label_font_size'])\n",
    "\n",
    "#plt.title('Accuracy :'+str(round((c1+c4)/tot_counts,2)),fontsize=fig_style_dict['title_font_size'])\n",
    "\n",
    "#plt.savefig(\"modis_deep_learning_cloud_phase_confusion_matrix_01.png\", bbox_inches='tight', dpi=100)\n",
    "\n",
    "plt.savefig('contingency_cloud_phase.png', dpi=150)\n",
    "\n",
    "plt.show()"
   ]
  },
  {
   "cell_type": "code",
   "execution_count": null,
   "id": "5a2151e4",
   "metadata": {},
   "outputs": [],
   "source": []
  },
  {
   "cell_type": "code",
   "execution_count": null,
   "id": "d2d0aea6",
   "metadata": {},
   "outputs": [],
   "source": []
  },
  {
   "cell_type": "code",
   "execution_count": 117,
   "id": "015505b0",
   "metadata": {},
   "outputs": [],
   "source": [
    "bins = np.arange(0,80,5)"
   ]
  },
  {
   "cell_type": "code",
   "execution_count": 118,
   "id": "10d58a45",
   "metadata": {},
   "outputs": [
    {
     "data": {
      "image/png": "[encoded data removed]",
      "text/plain": [
       "<Figure size 432x288 with 1 Axes>"
      ]
     },
     "metadata": {},
     "output_type": "display_data"
    }
   ],
   "source": [
    "cloudy = df['viirs_sensor_zenith'][ df['prediction'] != 0 ]\n",
    "#n_cloudy, bins_new, patches = plt.hist(cloudy,bins=bins)\n",
    "n_cloudy, bins_new, patches = plt.hist(cloudy,bins=bins,density=True)\n",
    "plt.xlabel(\"VIIRS Sensor Zenith\", fontsize=14)\n",
    "plt.savefig('cldprop_cloud_fraction.png', dpi=150)\n",
    "plt.show()\n",
    "plt.close()"
   ]
  },
  {
   "cell_type": "code",
   "execution_count": 119,
   "id": "cfd6fdf1",
   "metadata": {},
   "outputs": [
    {
     "data": {
      "image/png": "[encoded data removed]",
      "text/plain": [
       "<Figure size 432x288 with 1 Axes>"
      ]
     },
     "metadata": {},
     "output_type": "display_data"
    }
   ],
   "source": [
    "cloudy = df['viirs_sensor_zenith'][ df['viirs_Cloud_Mask'] < 2 ]\n",
    "#n_cloudy, bins_new, patches = plt.hist(cloudy,bins=bins)\n",
    "n_cloudy, bins_new, patches = plt.hist(cloudy,bins=bins,density=True)\n",
    "plt.xlabel(\"VIIRS Sensor Zenith\", fontsize=14)\n",
    "plt.savefig('dl_access_cloud_fraction.png', dpi=150)\n",
    "plt.show()\n",
    "plt.close()"
   ]
  },
  {
   "cell_type": "code",
   "execution_count": null,
   "id": "d82ce208",
   "metadata": {},
   "outputs": [],
   "source": []
  },
  {
   "cell_type": "code",
   "execution_count": null,
   "id": "e7b14da8",
   "metadata": {},
   "outputs": [],
   "source": []
  },
  {
   "cell_type": "code",
   "execution_count": null,
   "id": "8c5b6c65",
   "metadata": {},
   "outputs": [],
   "source": []
  },
  {
   "cell_type": "code",
   "execution_count": null,
   "id": "a4a17dd4",
   "metadata": {},
   "outputs": [],
   "source": []
  },
  {
   "cell_type": "code",
   "execution_count": null,
   "id": "22b4bfac",
   "metadata": {},
   "outputs": [],
   "source": []
  },
  {
   "cell_type": "code",
   "execution_count": 120,
   "id": "b652f81c",
   "metadata": {},
   "outputs": [
    {
     "name": "stdout",
     "output_type": "stream",
     "text": [
      "[357. 347. 367. 376. 361. 378. 361. 436. 493. 479. 600. 792. 730. 689.\n",
      "  36.]\n",
      "[243. 235. 255. 258. 244. 254. 239. 279. 360. 332. 426. 573. 501. 493.\n",
      "  25.]\n",
      "357.0 243.0\n",
      "347.0 235.0\n",
      "367.0 255.0\n",
      "376.0 258.0\n",
      "361.0 244.0\n",
      "378.0 254.0\n",
      "361.0 239.0\n",
      "436.0 279.0\n",
      "493.0 360.0\n",
      "479.0 332.0\n",
      "600.0 426.0\n",
      "792.0 573.0\n",
      "730.0 501.0\n",
      "689.0 493.0\n",
      "36.0 25.0\n",
      "[ 2.5  7.5 12.5 17.5 22.5 27.5 32.5 37.5 42.5 47.5 52.5 57.5 62.5 67.5\n",
      " 72.5]\n"
     ]
    },
    {
     "data": {
      "image/png": "[encoded data removed]",
      "text/plain": [
       "<Figure size 432x288 with 1 Axes>"
      ]
     },
     "metadata": {},
     "output_type": "display_data"
    }
   ],
   "source": [
    "cloudy = df['viirs_sensor_zenith'][ df['viirs_Cloud_Mask'] < 2 ]\n",
    "n_cloudy, bins_new, patches = plt.hist(cloudy,bins=bins)\n",
    "plt.close()\n",
    "\n",
    "liq = df['viirs_sensor_zenith'][ ( df['viirs_Cloud_Mask'] < 2 ) & (df['viirs_Cloud_Phase_Cloud_Top_Properties'] == 1) ]\n",
    "n_liquid, bins_new, patches = plt.hist(liq,bins=bins)\n",
    "plt.close()\n",
    "\n",
    "liquid_cloud_fraction_per_vza = [z/y for y, z in zip(n_cloudy, n_liquid)]\n",
    "\n",
    "print(n_cloudy)\n",
    "print(n_liquid)\n",
    "\n",
    "bins=np.arange(2.5,80,5)\n",
    "\n",
    "for i,j in zip(n_cloudy,n_liquid):\n",
    "    print(i,j)\n",
    "\n",
    "print(bins[:-1])\n",
    "\n",
    "plt.bar(bins[:-1],liquid_cloud_fraction_per_vza,5)\n",
    "\n",
    "#plt.plot(bins[:-1],liquid_cloud_fraction_per_vza,5)\n",
    "\n",
    "plt.xlim(0,70)\n",
    "plt.ylim(0,1)\n",
    "\n",
    "plt.xlabel('Sensor Zenith Angle')\n",
    "plt.ylabel('Liquid Cloud Fraction')\n",
    "\n",
    "plt.show()"
   ]
  },
  {
   "cell_type": "code",
   "execution_count": 121,
   "id": "562d10eb",
   "metadata": {},
   "outputs": [
    {
     "name": "stderr",
     "output_type": "stream",
     "text": [
      "<ipython-input-121-9c9bffabf54a>:9: RuntimeWarning: invalid value encountered in double_scalars\n",
      "  ice_cloud_fraction_per_vza = [z/y for y, z in zip(n_cloudy, n_liquid)]\n"
     ]
    },
    {
     "data": {
      "image/png": "[encoded data removed]",
      "text/plain": [
       "<Figure size 432x288 with 1 Axes>"
      ]
     },
     "metadata": {},
     "output_type": "display_data"
    }
   ],
   "source": [
    "cloudy = df['viirs_sensor_zenith'][ df['viirs_Cloud_Mask'] < 2 ]\n",
    "n_cloudy, bins_new, patches = plt.hist(cloudy,bins=bins)\n",
    "plt.close()\n",
    "\n",
    "liq = df['viirs_sensor_zenith'][ ( df['viirs_Cloud_Mask'] < 2 ) & (df['viirs_Cloud_Phase_Cloud_Top_Properties'] == 2) ]\n",
    "n_liquid, bins_new, patches = plt.hist(liq,bins=bins)\n",
    "plt.close()\n",
    "\n",
    "ice_cloud_fraction_per_vza = [z/y for y, z in zip(n_cloudy, n_liquid)]\n",
    "\n",
    "bins=np.arange(2.5,80,5)\n",
    "\n",
    "#plt.bar(bins[:-1],ice_cloud_fraction_per_vza,5)\n",
    "\n",
    "plt.plot(bins[:-1],liquid_cloud_fraction_per_vza,5)\n",
    "plt.plot(bins[:-1],ice_cloud_fraction_per_vza,5)\n",
    "\n",
    "blue_patch = mpatches.Patch(color=(0.2980392156862745, 0.4470588235294118, 0.6901960784313725), label='LIQUID')\n",
    "green_patch = mpatches.Patch(color=(0.3333333333333333, 0.6588235294117647, 0.40784313725490196), label='ICE')\n",
    "\n",
    "plt.legend(handles=[blue_patch,green_patch])\n",
    "\n",
    "plt.xlim(0,70)\n",
    "plt.ylim(0,1)\n",
    "\n",
    "plt.xlabel('Sensor Zenith Angle')\n",
    "plt.ylabel('Ice Cloud Fraction')\n",
    "\n",
    "plt.savefig('cldprop_cloud_phase_fraction.png', dpi=150)\n",
    "\n",
    "plt.show()"
   ]
  },
  {
   "cell_type": "code",
   "execution_count": null,
   "id": "86558b84",
   "metadata": {},
   "outputs": [],
   "source": []
  },
  {
   "cell_type": "code",
   "execution_count": null,
   "id": "22ccafa6",
   "metadata": {},
   "outputs": [],
   "source": []
  },
  {
   "cell_type": "code",
   "execution_count": null,
   "id": "ef328791",
   "metadata": {},
   "outputs": [],
   "source": []
  },
  {
   "cell_type": "code",
   "execution_count": null,
   "id": "df296380",
   "metadata": {},
   "outputs": [],
   "source": []
  },
  {
   "cell_type": "code",
   "execution_count": null,
   "id": "96cab466",
   "metadata": {},
   "outputs": [],
   "source": []
  },
  {
   "cell_type": "code",
   "execution_count": null,
   "id": "c8c956c5",
   "metadata": {},
   "outputs": [],
   "source": []
  },
  {
   "cell_type": "code",
   "execution_count": null,
   "id": "2a79ad3c",
   "metadata": {},
   "outputs": [],
   "source": []
  },
  {
   "cell_type": "code",
   "execution_count": null,
   "id": "c0b31f66",
   "metadata": {},
   "outputs": [],
   "source": []
  },
  {
   "cell_type": "code",
   "execution_count": 122,
   "id": "92435206",
   "metadata": {},
   "outputs": [
    {
     "name": "stderr",
     "output_type": "stream",
     "text": [
      "<ipython-input-122-323681fb0386>:9: RuntimeWarning: invalid value encountered in double_scalars\n",
      "  liquid_cloud_fraction_per_vza = [z/y for y, z in zip(n_cloudy, n_liquid)]\n"
     ]
    },
    {
     "data": {
      "image/png": "[encoded data removed]",
      "text/plain": [
       "<Figure size 432x288 with 1 Axes>"
      ]
     },
     "metadata": {},
     "output_type": "display_data"
    }
   ],
   "source": [
    "cloudy = df['viirs_sensor_zenith'][ df['prediction'] != 0 ]\n",
    "n_cloudy, bins_new, patches = plt.hist(cloudy,bins=bins)\n",
    "plt.close()\n",
    "\n",
    "liq = df['viirs_sensor_zenith'][ ( df['prediction'] != 0 ) & (df['prediction'] == 1) ]\n",
    "n_liquid, bins_new, patches = plt.hist(liq,bins=bins)\n",
    "plt.close()\n",
    "\n",
    "liquid_cloud_fraction_per_vza = [z/y for y, z in zip(n_cloudy, n_liquid)]\n",
    "\n",
    "bins=np.arange(2.5,80,5)\n",
    "\n",
    "plt.bar(bins[:-1],liquid_cloud_fraction_per_vza,5)\n",
    "\n",
    "#plt.plot(bins[:-1],liquid_cloud_fraction_per_vza,5)\n",
    "\n",
    "plt.xlim(0,70)\n",
    "plt.ylim(0,1)\n",
    "\n",
    "plt.xlabel('Sensor Zenith Angle')\n",
    "plt.ylabel('Liquid Cloud Fraction')\n",
    "\n",
    "plt.show()"
   ]
  },
  {
   "cell_type": "code",
   "execution_count": 123,
   "id": "ffa8694e",
   "metadata": {},
   "outputs": [
    {
     "name": "stderr",
     "output_type": "stream",
     "text": [
      "<ipython-input-123-2f064567681a>:9: RuntimeWarning: invalid value encountered in double_scalars\n",
      "  liquid_cloud_fraction_per_vza = [z/y for y, z in zip(n_cloudy, n_liquid)]\n"
     ]
    },
    {
     "data": {
      "image/png": "[encoded data removed]",
      "text/plain": [
       "<Figure size 432x288 with 1 Axes>"
      ]
     },
     "metadata": {},
     "output_type": "display_data"
    }
   ],
   "source": [
    "cloudy = df['viirs_sensor_zenith'][ df['prediction'] != 0 ]\n",
    "n_cloudy, bins_new, patches = plt.hist(cloudy,bins=bins)\n",
    "plt.close()\n",
    "\n",
    "liq = df['viirs_sensor_zenith'][ ( df['prediction'] != 0 ) & (df['prediction'] == 2) ]\n",
    "n_liquid, bins_new, patches = plt.hist(liq,bins=bins)\n",
    "plt.close()\n",
    "\n",
    "liquid_cloud_fraction_per_vza = [z/y for y, z in zip(n_cloudy, n_liquid)]\n",
    "\n",
    "bins=np.arange(2.5,80,5)\n",
    "\n",
    "#plt.bar(bins[:-1],liquid_cloud_fraction_per_vza,5)\n",
    "\n",
    "plt.plot(bins[:-1],liquid_cloud_fraction_per_vza,5)\n",
    "plt.plot(bins[:-1],ice_cloud_fraction_per_vza,5)\n",
    "\n",
    "plt.xlim(0,70)\n",
    "plt.ylim(0,1)\n",
    "\n",
    "blue_patch = mpatches.Patch(color=(0.2980392156862745, 0.4470588235294118, 0.6901960784313725), label='LIQUID')\n",
    "green_patch = mpatches.Patch(color=(0.3333333333333333, 0.6588235294117647, 0.40784313725490196), label='ICE')\n",
    "\n",
    "plt.legend(handles=[blue_patch,green_patch])\n",
    "\n",
    "plt.xlabel('Sensor Zenith Angle')\n",
    "plt.ylabel('Ice Cloud Fraction')\n",
    "\n",
    "plt.savefig('dl_access_cloud_phase_fraction.png', dpi=150)\n",
    "\n",
    "plt.show()"
   ]
  },
  {
   "cell_type": "code",
   "execution_count": null,
   "id": "ab868d03",
   "metadata": {},
   "outputs": [],
   "source": []
  },
  {
   "cell_type": "code",
   "execution_count": null,
   "id": "da870346",
   "metadata": {},
   "outputs": [],
   "source": []
  },
  {
   "cell_type": "code",
   "execution_count": null,
   "id": "be997573",
   "metadata": {},
   "outputs": [],
   "source": []
  },
  {
   "cell_type": "code",
   "execution_count": null,
   "id": "f538dba1",
   "metadata": {},
   "outputs": [],
   "source": []
  },
  {
   "cell_type": "code",
   "execution_count": null,
   "id": "3ea8c974",
   "metadata": {},
   "outputs": [],
   "source": []
  },
  {
   "cell_type": "code",
   "execution_count": null,
   "id": "8dcf9d73",
   "metadata": {},
   "outputs": [],
   "source": []
  }
 ],
 "metadata": {
  "kernelspec": {
   "display_name": "Python 3",
   "language": "python",
   "name": "python3"
  },
  "language_info": {
   "codemirror_mode": {
    "name": "ipython",
    "version": 3
   },
   "file_extension": ".py",
   "mimetype": "text/x-python",
   "name": "python",
   "nbconvert_exporter": "python",
   "pygments_lexer": "ipython3",
   "version": "3.8.8"
  }
 },
 "nbformat": 4,
 "nbformat_minor": 5
}
