{
 "cells": [
  {
   "cell_type": "markdown",
   "id": "6542b2b0",
   "metadata": {},
   "source": [
    "<div class=\"alert alert-info\">\n",
    "<center>\n",
    "<h1 style=\"font-size:22px\">UMBC ACCESS Project Evaluation</h1>\n",
    "<br>\n",
    "Benjamin H.G. Marchant <br>\n",
    "benjamin.marchant@nasa.gov <br>\n",
    "marchant.benjamin01@gmail.com <br>\n",
    "</center>\n",
    "</div>"
   ]
  },
  {
   "cell_type": "code",
   "execution_count": 1,
   "id": "786ba1c1",
   "metadata": {},
   "outputs": [],
   "source": [
    "from os import path\n",
    "\n",
    "import glob\n",
    "import random\n",
    "import pandas as pd\n",
    "import matplotlib.pyplot as plt\n",
    "import matplotlib.cm as cm\n",
    "import matplotlib.patches as mpatches\n",
    "import numpy as np\n",
    "import seaborn as sns; sns.set()"
   ]
  },
  {
   "cell_type": "code",
   "execution_count": 2,
   "id": "e0b1e056",
   "metadata": {},
   "outputs": [],
   "source": [
    "fig_style_dict = {}\n",
    "\n",
    "fig_style_dict['fig_type'] = 'analysis'\n",
    "\n",
    "if fig_style_dict['fig_type'] == 'talk':\n",
    "    fig_style_dict['facecolor'] = '#E8E8E8'\n",
    "    fig_style_dict['label_font_size'] = 18\n",
    "    fig_style_dict['title_font_size'] = 22\n",
    "    fig_style_dict['heatmap_annot_font_size'] = 22\n",
    "else:\n",
    "    fig_style_dict['facecolor'] = 'white'\n",
    "    fig_style_dict['label_font_size'] = 12\n",
    "    fig_style_dict['title_font_size'] = 14\n",
    "    fig_style_dict['heatmap_annot_font_size'] = 14"
   ]
  },
  {
   "cell_type": "code",
   "execution_count": 3,
   "id": "e3fa317b",
   "metadata": {},
   "outputs": [],
   "source": [
    "#path_to_data = '/Users/nizhao/xin/access/newdata/from_ben/to_ben/m16/'\n",
    "path_to_data = '/Users/nizhao/xin/access/newdata/from_ben/test/out_m16/'"
   ]
  },
  {
   "cell_type": "code",
   "execution_count": 4,
   "id": "e0c3f77d",
   "metadata": {},
   "outputs": [
    {
     "data": {
      "text/plain": [
       "['/Users/nizhao/xin/access/newdata/from_ben/test/out_m16/viirs_sample_2018_10_20.hdf5',\n",
       " '/Users/nizhao/xin/access/newdata/from_ben/test/out_m16/viirs_sample_2018_11_20.hdf5',\n",
       " '/Users/nizhao/xin/access/newdata/from_ben/test/out_m16/viirs_sample_2018_12_10.hdf5',\n",
       " '/Users/nizhao/xin/access/newdata/from_ben/test/out_m16/viirs_sample_2018_10_10.hdf5',\n",
       " '/Users/nizhao/xin/access/newdata/from_ben/test/out_m16/viirs_sample_2018_11_10.hdf5',\n",
       " '/Users/nizhao/xin/access/newdata/from_ben/test/out_m16/viirs_sample_2018_12_20.hdf5',\n",
       " '/Users/nizhao/xin/access/newdata/from_ben/test/out_m16/viirs_sample_2018_11_25.hdf5',\n",
       " '/Users/nizhao/xin/access/newdata/from_ben/test/out_m16/viirs_sample_2018_12_15.hdf5',\n",
       " '/Users/nizhao/xin/access/newdata/from_ben/test/out_m16/viirs_sample_2018_11_05.hdf5',\n",
       " '/Users/nizhao/xin/access/newdata/from_ben/test/out_m16/viirs_sample_2018_10_05.hdf5',\n",
       " '/Users/nizhao/xin/access/newdata/from_ben/test/out_m16/viirs_sample_2018_10_25.hdf5',\n",
       " '/Users/nizhao/xin/access/newdata/from_ben/test/out_m16/viirs_sample_2018_12_05.hdf5',\n",
       " '/Users/nizhao/xin/access/newdata/from_ben/test/out_m16/viirs_sample_2018_11_15.hdf5',\n",
       " '/Users/nizhao/xin/access/newdata/from_ben/test/out_m16/viirs_sample_2018_12_25.hdf5',\n",
       " '/Users/nizhao/xin/access/newdata/from_ben/test/out_m16/viirs_sample_2018_10_15.hdf5']"
      ]
     },
     "execution_count": 4,
     "metadata": {},
     "output_type": "execute_result"
    }
   ],
   "source": [
    "sample_list = glob.glob( '{}/*hdf5'.format(path_to_data) )\n",
    "\n",
    "sample_list"
   ]
  },
  {
   "cell_type": "code",
   "execution_count": 5,
   "id": "59064fdf-2227-4be7-80e9-a8b65834354c",
   "metadata": {},
   "outputs": [],
   "source": [
    "test_files = glob.glob('{}/*hdf5'.format(path_to_data))\n",
    "combine_file = '/Users/nizhao/xin/access/newdata/from_ben/to_ben/combined.hdf5'\n",
    "dfs = []\n",
    "for test_file in test_files:\n",
    "  with pd.HDFStore(test_file) as store:\n",
    "    df = store['sample']\n",
    "    df['viirs_Cloud_Phase_Cloud_Top_Properties'].value_counts()\n",
    "    dfs.append(df)\n",
    "    #data.to_hdf(combine_file, key='sample', mode='a',append=True)\n",
    "df = pd.concat(dfs)\n",
    "df.to_hdf(combine_file, key='sample', mode='w')"
   ]
  },
  {
   "cell_type": "code",
   "execution_count": 6,
   "id": "647688e9-9c3a-4e0d-a5ef-9cb31fcbc899",
   "metadata": {},
   "outputs": [
    {
     "data": {
      "text/html": [
       "<div>\n",
       "<style scoped>\n",
       "    .dataframe tbody tr th:only-of-type {\n",
       "        vertical-align: middle;\n",
       "    }\n",
       "\n",
       "    .dataframe tbody tr th {\n",
       "        vertical-align: top;\n",
       "    }\n",
       "\n",
       "    .dataframe thead th {\n",
       "        text-align: right;\n",
       "    }\n",
       "</style>\n",
       "<table border=\"1\" class=\"dataframe\">\n",
       "  <thead>\n",
       "    <tr style=\"text-align: right;\">\n",
       "      <th></th>\n",
       "      <th>M01</th>\n",
       "      <th>M02</th>\n",
       "      <th>M03</th>\n",
       "      <th>M04</th>\n",
       "      <th>M05</th>\n",
       "      <th>M06</th>\n",
       "      <th>M07</th>\n",
       "      <th>M08</th>\n",
       "      <th>M09</th>\n",
       "      <th>M10</th>\n",
       "      <th>...</th>\n",
       "      <th>viirs_Cloud_Effective_Radius_37_PCL</th>\n",
       "      <th>viirs_Cloud_Water_Path</th>\n",
       "      <th>viirs_Cloud_Water_Path_PCL</th>\n",
       "      <th>viirs_Cloud_Mask</th>\n",
       "      <th>viirs_Surface</th>\n",
       "      <th>VNP02MOD_file</th>\n",
       "      <th>CLDPROP_L2_VIIRS_SNPP_file</th>\n",
       "      <th>along track idx</th>\n",
       "      <th>cross track idx</th>\n",
       "      <th>prediction</th>\n",
       "    </tr>\n",
       "  </thead>\n",
       "  <tbody>\n",
       "    <tr>\n",
       "      <th>0</th>\n",
       "      <td>0.115292</td>\n",
       "      <td>0.095401</td>\n",
       "      <td>0.076968</td>\n",
       "      <td>0.058096</td>\n",
       "      <td>0.053398</td>\n",
       "      <td>0.062094</td>\n",
       "      <td>0.073830</td>\n",
       "      <td>0.104237</td>\n",
       "      <td>0.004118</td>\n",
       "      <td>0.107216</td>\n",
       "      <td>...</td>\n",
       "      <td>-9999.0</td>\n",
       "      <td>-9999.0</td>\n",
       "      <td>-9999.0</td>\n",
       "      <td>3.0</td>\n",
       "      <td>3.0</td>\n",
       "      <td>VNP02MOD.A2018293.0354.001.2018293132900.nc</td>\n",
       "      <td>CLDPROP_L2_VIIRS_SNPP.A2018293.0354.011.201923...</td>\n",
       "      <td>3228.0</td>\n",
       "      <td>878.0</td>\n",
       "      <td>0</td>\n",
       "    </tr>\n",
       "    <tr>\n",
       "      <th>1</th>\n",
       "      <td>0.162873</td>\n",
       "      <td>0.155256</td>\n",
       "      <td>0.148099</td>\n",
       "      <td>0.148919</td>\n",
       "      <td>0.172209</td>\n",
       "      <td>0.150018</td>\n",
       "      <td>0.195659</td>\n",
       "      <td>0.215111</td>\n",
       "      <td>0.056977</td>\n",
       "      <td>0.164292</td>\n",
       "      <td>...</td>\n",
       "      <td>-9999.0</td>\n",
       "      <td>-9999.0</td>\n",
       "      <td>-9999.0</td>\n",
       "      <td>0.0</td>\n",
       "      <td>2.0</td>\n",
       "      <td>VNP02MOD.A2018293.0712.001.2018293152409.nc</td>\n",
       "      <td>CLDPROP_L2_VIIRS_SNPP.A2018293.0712.011.201923...</td>\n",
       "      <td>1133.0</td>\n",
       "      <td>318.0</td>\n",
       "      <td>2</td>\n",
       "    </tr>\n",
       "    <tr>\n",
       "      <th>2</th>\n",
       "      <td>0.312011</td>\n",
       "      <td>0.305334</td>\n",
       "      <td>0.298697</td>\n",
       "      <td>0.276986</td>\n",
       "      <td>0.286942</td>\n",
       "      <td>0.152657</td>\n",
       "      <td>0.297537</td>\n",
       "      <td>0.242360</td>\n",
       "      <td>0.085945</td>\n",
       "      <td>0.108575</td>\n",
       "      <td>...</td>\n",
       "      <td>-9999.0</td>\n",
       "      <td>256.0</td>\n",
       "      <td>-9999.0</td>\n",
       "      <td>0.0</td>\n",
       "      <td>3.0</td>\n",
       "      <td>VNP02MOD.A2018293.1724.001.2018294040503.nc</td>\n",
       "      <td>CLDPROP_L2_VIIRS_SNPP.A2018293.1724.011.201923...</td>\n",
       "      <td>2235.0</td>\n",
       "      <td>1579.0</td>\n",
       "      <td>2</td>\n",
       "    </tr>\n",
       "    <tr>\n",
       "      <th>3</th>\n",
       "      <td>0.170570</td>\n",
       "      <td>0.135864</td>\n",
       "      <td>0.105337</td>\n",
       "      <td>0.069231</td>\n",
       "      <td>0.044182</td>\n",
       "      <td>0.037105</td>\n",
       "      <td>0.032087</td>\n",
       "      <td>0.024870</td>\n",
       "      <td>0.001020</td>\n",
       "      <td>0.024590</td>\n",
       "      <td>...</td>\n",
       "      <td>-9999.0</td>\n",
       "      <td>-9999.0</td>\n",
       "      <td>-9999.0</td>\n",
       "      <td>3.0</td>\n",
       "      <td>0.0</td>\n",
       "      <td>VNP02MOD.A2018293.2212.001.2018294093739.nc</td>\n",
       "      <td>CLDPROP_L2_VIIRS_SNPP.A2018293.2212.011.201923...</td>\n",
       "      <td>680.0</td>\n",
       "      <td>1178.0</td>\n",
       "      <td>1</td>\n",
       "    </tr>\n",
       "    <tr>\n",
       "      <th>4</th>\n",
       "      <td>0.200277</td>\n",
       "      <td>0.170970</td>\n",
       "      <td>0.145000</td>\n",
       "      <td>0.108755</td>\n",
       "      <td>0.088364</td>\n",
       "      <td>0.080727</td>\n",
       "      <td>0.071690</td>\n",
       "      <td>0.059775</td>\n",
       "      <td>0.000580</td>\n",
       "      <td>0.049899</td>\n",
       "      <td>...</td>\n",
       "      <td>-9999.0</td>\n",
       "      <td>-9999.0</td>\n",
       "      <td>-9999.0</td>\n",
       "      <td>1.0</td>\n",
       "      <td>0.0</td>\n",
       "      <td>VNP02MOD.A2018293.0842.001.2018293175602.nc</td>\n",
       "      <td>CLDPROP_L2_VIIRS_SNPP.A2018293.0842.011.201923...</td>\n",
       "      <td>1498.0</td>\n",
       "      <td>2334.0</td>\n",
       "      <td>1</td>\n",
       "    </tr>\n",
       "    <tr>\n",
       "      <th>...</th>\n",
       "      <td>...</td>\n",
       "      <td>...</td>\n",
       "      <td>...</td>\n",
       "      <td>...</td>\n",
       "      <td>...</td>\n",
       "      <td>...</td>\n",
       "      <td>...</td>\n",
       "      <td>...</td>\n",
       "      <td>...</td>\n",
       "      <td>...</td>\n",
       "      <td>...</td>\n",
       "      <td>...</td>\n",
       "      <td>...</td>\n",
       "      <td>...</td>\n",
       "      <td>...</td>\n",
       "      <td>...</td>\n",
       "      <td>...</td>\n",
       "      <td>...</td>\n",
       "      <td>...</td>\n",
       "      <td>...</td>\n",
       "      <td>...</td>\n",
       "    </tr>\n",
       "    <tr>\n",
       "      <th>9995</th>\n",
       "      <td>0.249497</td>\n",
       "      <td>0.224467</td>\n",
       "      <td>0.202017</td>\n",
       "      <td>0.178087</td>\n",
       "      <td>0.164932</td>\n",
       "      <td>0.153077</td>\n",
       "      <td>0.249017</td>\n",
       "      <td>0.225747</td>\n",
       "      <td>0.003858</td>\n",
       "      <td>0.157235</td>\n",
       "      <td>...</td>\n",
       "      <td>-9999.0</td>\n",
       "      <td>46.0</td>\n",
       "      <td>-9999.0</td>\n",
       "      <td>1.0</td>\n",
       "      <td>3.0</td>\n",
       "      <td>VNP02MOD.A2018288.1200.001.2018289014732.nc</td>\n",
       "      <td>CLDPROP_L2_VIIRS_SNPP.A2018288.1200.011.201923...</td>\n",
       "      <td>2883.0</td>\n",
       "      <td>1396.0</td>\n",
       "      <td>1</td>\n",
       "    </tr>\n",
       "    <tr>\n",
       "      <th>9996</th>\n",
       "      <td>0.218750</td>\n",
       "      <td>0.190222</td>\n",
       "      <td>0.164532</td>\n",
       "      <td>0.132545</td>\n",
       "      <td>0.116372</td>\n",
       "      <td>0.112953</td>\n",
       "      <td>0.108935</td>\n",
       "      <td>0.100998</td>\n",
       "      <td>0.022331</td>\n",
       "      <td>0.085605</td>\n",
       "      <td>...</td>\n",
       "      <td>-9999.0</td>\n",
       "      <td>13.0</td>\n",
       "      <td>-9999.0</td>\n",
       "      <td>0.0</td>\n",
       "      <td>0.0</td>\n",
       "      <td>VNP02MOD.A2018288.0142.001.2018288061752.nc</td>\n",
       "      <td>CLDPROP_L2_VIIRS_SNPP.A2018288.0142.011.201923...</td>\n",
       "      <td>492.0</td>\n",
       "      <td>1299.0</td>\n",
       "      <td>1</td>\n",
       "    </tr>\n",
       "    <tr>\n",
       "      <th>9997</th>\n",
       "      <td>0.129567</td>\n",
       "      <td>0.099379</td>\n",
       "      <td>0.071970</td>\n",
       "      <td>0.041923</td>\n",
       "      <td>0.022711</td>\n",
       "      <td>0.017473</td>\n",
       "      <td>0.012975</td>\n",
       "      <td>0.008257</td>\n",
       "      <td>0.000200</td>\n",
       "      <td>0.006757</td>\n",
       "      <td>...</td>\n",
       "      <td>-9999.0</td>\n",
       "      <td>-9999.0</td>\n",
       "      <td>-9999.0</td>\n",
       "      <td>3.0</td>\n",
       "      <td>0.0</td>\n",
       "      <td>VNP02MOD.A2018288.2218.001.2018289100909.nc</td>\n",
       "      <td>CLDPROP_L2_VIIRS_SNPP.A2018288.2218.011.201923...</td>\n",
       "      <td>2865.0</td>\n",
       "      <td>1191.0</td>\n",
       "      <td>0</td>\n",
       "    </tr>\n",
       "    <tr>\n",
       "      <th>9998</th>\n",
       "      <td>0.160894</td>\n",
       "      <td>0.139423</td>\n",
       "      <td>0.116052</td>\n",
       "      <td>0.083705</td>\n",
       "      <td>0.074589</td>\n",
       "      <td>0.074129</td>\n",
       "      <td>0.070151</td>\n",
       "      <td>0.067212</td>\n",
       "      <td>0.010676</td>\n",
       "      <td>0.060875</td>\n",
       "      <td>...</td>\n",
       "      <td>-9999.0</td>\n",
       "      <td>5.0</td>\n",
       "      <td>-9999.0</td>\n",
       "      <td>0.0</td>\n",
       "      <td>0.0</td>\n",
       "      <td>VNP02MOD.A2018288.0818.001.2018288143736.nc</td>\n",
       "      <td>CLDPROP_L2_VIIRS_SNPP.A2018288.0818.011.201923...</td>\n",
       "      <td>938.0</td>\n",
       "      <td>590.0</td>\n",
       "      <td>1</td>\n",
       "    </tr>\n",
       "    <tr>\n",
       "      <th>9999</th>\n",
       "      <td>0.161134</td>\n",
       "      <td>0.127927</td>\n",
       "      <td>0.098739</td>\n",
       "      <td>0.063634</td>\n",
       "      <td>0.041143</td>\n",
       "      <td>0.034906</td>\n",
       "      <td>0.029928</td>\n",
       "      <td>0.024630</td>\n",
       "      <td>0.000720</td>\n",
       "      <td>0.023490</td>\n",
       "      <td>...</td>\n",
       "      <td>-9999.0</td>\n",
       "      <td>-9999.0</td>\n",
       "      <td>-9999.0</td>\n",
       "      <td>2.0</td>\n",
       "      <td>0.0</td>\n",
       "      <td>VNP02MOD.A2018288.2030.001.2018289132847.nc</td>\n",
       "      <td>CLDPROP_L2_VIIRS_SNPP.A2018288.2030.011.201923...</td>\n",
       "      <td>1192.0</td>\n",
       "      <td>2448.0</td>\n",
       "      <td>1</td>\n",
       "    </tr>\n",
       "  </tbody>\n",
       "</table>\n",
       "<p>150000 rows × 47 columns</p>\n",
       "</div>"
      ],
      "text/plain": [
       "           M01       M02       M03       M04       M05       M06       M07  \\\n",
       "0     0.115292  0.095401  0.076968  0.058096  0.053398  0.062094  0.073830   \n",
       "1     0.162873  0.155256  0.148099  0.148919  0.172209  0.150018  0.195659   \n",
       "2     0.312011  0.305334  0.298697  0.276986  0.286942  0.152657  0.297537   \n",
       "3     0.170570  0.135864  0.105337  0.069231  0.044182  0.037105  0.032087   \n",
       "4     0.200277  0.170970  0.145000  0.108755  0.088364  0.080727  0.071690   \n",
       "...        ...       ...       ...       ...       ...       ...       ...   \n",
       "9995  0.249497  0.224467  0.202017  0.178087  0.164932  0.153077  0.249017   \n",
       "9996  0.218750  0.190222  0.164532  0.132545  0.116372  0.112953  0.108935   \n",
       "9997  0.129567  0.099379  0.071970  0.041923  0.022711  0.017473  0.012975   \n",
       "9998  0.160894  0.139423  0.116052  0.083705  0.074589  0.074129  0.070151   \n",
       "9999  0.161134  0.127927  0.098739  0.063634  0.041143  0.034906  0.029928   \n",
       "\n",
       "           M08       M09       M10  ...  viirs_Cloud_Effective_Radius_37_PCL  \\\n",
       "0     0.104237  0.004118  0.107216  ...                              -9999.0   \n",
       "1     0.215111  0.056977  0.164292  ...                              -9999.0   \n",
       "2     0.242360  0.085945  0.108575  ...                              -9999.0   \n",
       "3     0.024870  0.001020  0.024590  ...                              -9999.0   \n",
       "4     0.059775  0.000580  0.049899  ...                              -9999.0   \n",
       "...        ...       ...       ...  ...                                  ...   \n",
       "9995  0.225747  0.003858  0.157235  ...                              -9999.0   \n",
       "9996  0.100998  0.022331  0.085605  ...                              -9999.0   \n",
       "9997  0.008257  0.000200  0.006757  ...                              -9999.0   \n",
       "9998  0.067212  0.010676  0.060875  ...                              -9999.0   \n",
       "9999  0.024630  0.000720  0.023490  ...                              -9999.0   \n",
       "\n",
       "      viirs_Cloud_Water_Path  viirs_Cloud_Water_Path_PCL  viirs_Cloud_Mask  \\\n",
       "0                    -9999.0                     -9999.0               3.0   \n",
       "1                    -9999.0                     -9999.0               0.0   \n",
       "2                      256.0                     -9999.0               0.0   \n",
       "3                    -9999.0                     -9999.0               3.0   \n",
       "4                    -9999.0                     -9999.0               1.0   \n",
       "...                      ...                         ...               ...   \n",
       "9995                    46.0                     -9999.0               1.0   \n",
       "9996                    13.0                     -9999.0               0.0   \n",
       "9997                 -9999.0                     -9999.0               3.0   \n",
       "9998                     5.0                     -9999.0               0.0   \n",
       "9999                 -9999.0                     -9999.0               2.0   \n",
       "\n",
       "      viirs_Surface                                VNP02MOD_file  \\\n",
       "0               3.0  VNP02MOD.A2018293.0354.001.2018293132900.nc   \n",
       "1               2.0  VNP02MOD.A2018293.0712.001.2018293152409.nc   \n",
       "2               3.0  VNP02MOD.A2018293.1724.001.2018294040503.nc   \n",
       "3               0.0  VNP02MOD.A2018293.2212.001.2018294093739.nc   \n",
       "4               0.0  VNP02MOD.A2018293.0842.001.2018293175602.nc   \n",
       "...             ...                                          ...   \n",
       "9995            3.0  VNP02MOD.A2018288.1200.001.2018289014732.nc   \n",
       "9996            0.0  VNP02MOD.A2018288.0142.001.2018288061752.nc   \n",
       "9997            0.0  VNP02MOD.A2018288.2218.001.2018289100909.nc   \n",
       "9998            0.0  VNP02MOD.A2018288.0818.001.2018288143736.nc   \n",
       "9999            0.0  VNP02MOD.A2018288.2030.001.2018289132847.nc   \n",
       "\n",
       "                             CLDPROP_L2_VIIRS_SNPP_file  along track idx  \\\n",
       "0     CLDPROP_L2_VIIRS_SNPP.A2018293.0354.011.201923...           3228.0   \n",
       "1     CLDPROP_L2_VIIRS_SNPP.A2018293.0712.011.201923...           1133.0   \n",
       "2     CLDPROP_L2_VIIRS_SNPP.A2018293.1724.011.201923...           2235.0   \n",
       "3     CLDPROP_L2_VIIRS_SNPP.A2018293.2212.011.201923...            680.0   \n",
       "4     CLDPROP_L2_VIIRS_SNPP.A2018293.0842.011.201923...           1498.0   \n",
       "...                                                 ...              ...   \n",
       "9995  CLDPROP_L2_VIIRS_SNPP.A2018288.1200.011.201923...           2883.0   \n",
       "9996  CLDPROP_L2_VIIRS_SNPP.A2018288.0142.011.201923...            492.0   \n",
       "9997  CLDPROP_L2_VIIRS_SNPP.A2018288.2218.011.201923...           2865.0   \n",
       "9998  CLDPROP_L2_VIIRS_SNPP.A2018288.0818.011.201923...            938.0   \n",
       "9999  CLDPROP_L2_VIIRS_SNPP.A2018288.2030.011.201923...           1192.0   \n",
       "\n",
       "      cross track idx  prediction  \n",
       "0               878.0           0  \n",
       "1               318.0           2  \n",
       "2              1579.0           2  \n",
       "3              1178.0           1  \n",
       "4              2334.0           1  \n",
       "...               ...         ...  \n",
       "9995           1396.0           1  \n",
       "9996           1299.0           1  \n",
       "9997           1191.0           0  \n",
       "9998            590.0           1  \n",
       "9999           2448.0           1  \n",
       "\n",
       "[150000 rows x 47 columns]"
      ]
     },
     "execution_count": 6,
     "metadata": {},
     "output_type": "execute_result"
    }
   ],
   "source": [
    "df"
   ]
  },
  {
   "cell_type": "code",
   "execution_count": 7,
   "id": "ee2d941f",
   "metadata": {},
   "outputs": [],
   "source": [
    "# file = random.choice(sample_list)"
   ]
  },
  {
   "cell_type": "code",
   "execution_count": 8,
   "id": "f419b847",
   "metadata": {},
   "outputs": [],
   "source": [
    "# if path.exists(file):\n",
    "#     with pd.HDFStore(file) as store:\n",
    "#         print(store.keys())"
   ]
  },
  {
   "cell_type": "code",
   "execution_count": 9,
   "id": "335ae83f",
   "metadata": {},
   "outputs": [],
   "source": [
    "# if path.exists(file):\n",
    "#     with pd.HDFStore(file) as store:\n",
    "#         df = store['sample']\n",
    "\n",
    "# df"
   ]
  },
  {
   "cell_type": "code",
   "execution_count": 10,
   "id": "ec5d5b87",
   "metadata": {},
   "outputs": [
    {
     "data": {
      "text/plain": [
       "Index(['M01', 'M02', 'M03', 'M04', 'M05', 'M06', 'M07', 'M08', 'M09', 'M10',\n",
       "       'M11', 'M12', 'M13', 'M14', 'M15', 'M16', 'latitude', 'longitude',\n",
       "       'viirs_solar_zenith', 'viirs_sensor_zenith', 'viirs_solar_azimuth',\n",
       "       'viirs_sensor_azimuth', 'viirs_Cloud_Top_Temperature',\n",
       "       'viirs_Cloud_Top_Height', 'viirs_Cloud_Top_Pressure',\n",
       "       'viirs_Cloud_Phase_Cloud_Top_Properties',\n",
       "       'viirs_Cloud_Optical_Thickness', 'viirs_Cloud_Optical_Thickness_PCL',\n",
       "       'viirs_Cloud_Optical_Thickness_16',\n",
       "       'viirs_Cloud_Optical_Thickness_16_PCL',\n",
       "       'viirs_Cloud_Optical_Thickness_37',\n",
       "       'viirs_Cloud_Optical_Thickness_37_PCL', 'viirs_Cloud_Effective_Radius',\n",
       "       'viirs_Cloud_Effective_Radius_PCL', 'viirs_Cloud_Effective_Radius_16',\n",
       "       'viirs_Cloud_Effective_Radius_16_PCL',\n",
       "       'viirs_Cloud_Effective_Radius_37',\n",
       "       'viirs_Cloud_Effective_Radius_37_PCL', 'viirs_Cloud_Water_Path',\n",
       "       'viirs_Cloud_Water_Path_PCL', 'viirs_Cloud_Mask', 'viirs_Surface',\n",
       "       'VNP02MOD_file', 'CLDPROP_L2_VIIRS_SNPP_file', 'along track idx',\n",
       "       'cross track idx', 'prediction'],\n",
       "      dtype='object')"
      ]
     },
     "execution_count": 10,
     "metadata": {},
     "output_type": "execute_result"
    }
   ],
   "source": [
    "df.columns"
   ]
  },
  {
   "cell_type": "code",
   "execution_count": 11,
   "id": "1e27b3d7",
   "metadata": {},
   "outputs": [
    {
     "data": {
      "text/plain": [
       "1.0    68699\n",
       "0.0    46568\n",
       "2.0    34733\n",
       "Name: viirs_Cloud_Phase_Cloud_Top_Properties, dtype: int64"
      ]
     },
     "execution_count": 11,
     "metadata": {},
     "output_type": "execute_result"
    }
   ],
   "source": [
    "df['viirs_Cloud_Phase_Cloud_Top_Properties'].value_counts()"
   ]
  },
  {
   "cell_type": "code",
   "execution_count": 12,
   "id": "67226f39",
   "metadata": {},
   "outputs": [
    {
     "data": {
      "text/plain": [
       "0.0    95608\n",
       "3.0    40641\n",
       "1.0     7825\n",
       "2.0     5926\n",
       "Name: viirs_Cloud_Mask, dtype: int64"
      ]
     },
     "execution_count": 12,
     "metadata": {},
     "output_type": "execute_result"
    }
   ],
   "source": [
    "df['viirs_Cloud_Mask'].value_counts()"
   ]
  },
  {
   "cell_type": "code",
   "execution_count": null,
   "id": "8aa4ec83",
   "metadata": {},
   "outputs": [],
   "source": []
  },
  {
   "cell_type": "code",
   "execution_count": 13,
   "id": "58e1633b",
   "metadata": {},
   "outputs": [
    {
     "data": {
      "text/plain": [
       "1    76314\n",
       "0    41832\n",
       "2    31854\n",
       "Name: prediction, dtype: int64"
      ]
     },
     "execution_count": 13,
     "metadata": {},
     "output_type": "execute_result"
    }
   ],
   "source": [
    "df['prediction'].value_counts()"
   ]
  },
  {
   "cell_type": "code",
   "execution_count": null,
   "id": "6942a41c",
   "metadata": {},
   "outputs": [],
   "source": []
  },
  {
   "cell_type": "code",
   "execution_count": null,
   "id": "e64ed7dd",
   "metadata": {},
   "outputs": [],
   "source": []
  },
  {
   "cell_type": "code",
   "execution_count": 14,
   "id": "2993ace2",
   "metadata": {},
   "outputs": [],
   "source": [
    "df_cloudy = df[ df['viirs_Cloud_Mask'] < 2]"
   ]
  },
  {
   "cell_type": "code",
   "execution_count": 15,
   "id": "abdd9b0d",
   "metadata": {},
   "outputs": [
    {
     "data": {
      "text/plain": [
       "1.0    68699\n",
       "2.0    34733\n",
       "0.0        1\n",
       "Name: viirs_Cloud_Phase_Cloud_Top_Properties, dtype: int64"
      ]
     },
     "execution_count": 15,
     "metadata": {},
     "output_type": "execute_result"
    }
   ],
   "source": [
    "df_cloudy['viirs_Cloud_Phase_Cloud_Top_Properties'].value_counts()"
   ]
  },
  {
   "cell_type": "code",
   "execution_count": 16,
   "id": "0c308b32",
   "metadata": {},
   "outputs": [
    {
     "data": {
      "text/plain": [
       "1    68199\n",
       "2    31545\n",
       "0     3689\n",
       "Name: prediction, dtype: int64"
      ]
     },
     "execution_count": 16,
     "metadata": {},
     "output_type": "execute_result"
    }
   ],
   "source": [
    "df_cloudy['prediction'].value_counts()"
   ]
  },
  {
   "cell_type": "code",
   "execution_count": null,
   "id": "fd2fd88d",
   "metadata": {},
   "outputs": [],
   "source": []
  },
  {
   "cell_type": "code",
   "execution_count": 17,
   "id": "6e75a92a",
   "metadata": {},
   "outputs": [],
   "source": [
    "m1 = df['viirs_Cloud_Mask']\n",
    "m2 = df['prediction']\n",
    "\n",
    "#weak lable\n",
    "c1 = df[ (m1 < 2) & (m2 != 0) ].shape[0]\n",
    "c2 = df[ (m1 < 2) & (m2 == 0) ].shape[0]\n",
    "c3 = df[ (m1 >= 2) & (m2 != 0) ].shape[0]\n",
    "c4 = df[ (m1 >= 2) & (m2 == 0) ].shape[0]\n",
    "\n",
    "#cloud mask\n",
    "# c1 = df[ (m1 < 2) & (m2 == 1) ].shape[0] #cloudy\n",
    "# c2 = df[ (m1 < 2) & (m2 == 0) ].shape[0]\n",
    "# c3 = df[ (m1 >= 2) & (m2 == 1) ].shape[0]\n",
    "# c4 = df[ (m1 >= 2) & (m2 == 0) ].shape[0] #clear"
   ]
  },
  {
   "cell_type": "code",
   "execution_count": 18,
   "id": "1190018d",
   "metadata": {},
   "outputs": [
    {
     "name": "stdout",
     "output_type": "stream",
     "text": [
      "[[ 8424 38143]\n",
      " [99744  3689]]\n"
     ]
    },
    {
     "data": {
      "image/png": "[encoded data removed]",
      "text/plain": [
       "<Figure size 640x480 with 1 Axes>"
      ]
     },
     "metadata": {},
     "output_type": "display_data"
    }
   ],
   "source": [
    "tot_counts = c1 + c2 + c3 + c4\n",
    "\n",
    "conf_arr = np.array([[ c3,   c4],\n",
    "                     [  c1,  c2]])\n",
    "\n",
    "print(conf_arr)\n",
    "\n",
    "conf_arr = 100. * conf_arr / tot_counts\n",
    "\n",
    "df_cm = pd.DataFrame(conf_arr, \n",
    "                  index = ['VIIRS CLDPROP Liquid', 'VIIRS CLDPROP Ice'],\n",
    "                  columns = ['VIIRS ACCESS Liquid', 'VIIRS ACCESS Ice'])\n",
    "\n",
    "fig = plt.figure(num=None, figsize=(8, 6), dpi=80, facecolor=fig_style_dict['facecolor'], edgecolor='k')\n",
    "\n",
    "plt.clf()\n",
    "\n",
    "ax = fig.add_subplot(111)\n",
    "\n",
    "ax.set_aspect(1)\n",
    "\n",
    "res = sns.heatmap(df_cm, annot=True, vmin=0.0, vmax=100.0, fmt='.2f', cmap=\"YlGnBu\",annot_kws={\"size\": fig_style_dict['heatmap_annot_font_size']},cbar=False)\n",
    "\n",
    "plt.xticks([0.5,1.5], ['VIIRS ACCESS Cloudy', 'VIIRS ACCESS Clear'],fontsize=fig_style_dict['label_font_size'])\n",
    "plt.yticks([1.5,0.5], ['VIIRS CLDPROP Cloudy','VIIRS CLDPROP Clear'],va='center',fontsize=fig_style_dict['label_font_size'])\n",
    "\n",
    "#plt.title('Accuracy :'+str(round((c1+c4)/tot_counts,2)),fontsize=fig_style_dict['title_font_size'])\n",
    "\n",
    "#plt.savefig(\"modis_deep_learning_cloud_phase_confusion_matrix_01.png\", bbox_inches='tight', dpi=100)\n",
    "\n",
    "plt.savefig('contingency_cloud_mask.png', dpi=150)\n",
    "\n",
    "plt.show()"
   ]
  },
  {
   "cell_type": "code",
   "execution_count": null,
   "id": "9cb11d88",
   "metadata": {},
   "outputs": [],
   "source": []
  },
  {
   "cell_type": "code",
   "execution_count": 19,
   "id": "1076013a",
   "metadata": {},
   "outputs": [],
   "source": [
    "m1 = df['viirs_Cloud_Phase_Cloud_Top_Properties']\n",
    "m2 = df['prediction']\n",
    "\n",
    "c1 = df[ (m1 == 1) & (m2 == 1) ].shape[0]\n",
    "c2 = df[ (m1 == 1) & (m2 == 2) ].shape[0]\n",
    "c3 = df[ (m1 == 2) & (m2 == 1) ].shape[0]\n",
    "c4 = df[ (m1 == 2) & (m2 == 2) ].shape[0]"
   ]
  },
  {
   "cell_type": "code",
   "execution_count": 20,
   "id": "68bfd1dc",
   "metadata": {},
   "outputs": [
    {
     "name": "stdout",
     "output_type": "stream",
     "text": [
      "[[ 5375 28532]\n",
      " [62824  3012]]\n"
     ]
    },
    {
     "data": {
      "image/png": "[encoded data removed]",
      "text/plain": [
       "<Figure size 640x480 with 1 Axes>"
      ]
     },
     "metadata": {},
     "output_type": "display_data"
    }
   ],
   "source": [
    "tot_counts = c1 + c2 + c3 + c4\n",
    "\n",
    "conf_arr = np.array([[ c3,   c4],\n",
    "                     [  c1,  c2]])\n",
    "\n",
    "print(conf_arr)\n",
    "\n",
    "conf_arr = 100. * conf_arr / tot_counts\n",
    "\n",
    "df_cm = pd.DataFrame(conf_arr, \n",
    "                  index = ['VIIRS CLDPROP Liquid', 'VIIRS CLDPROP Ice'],\n",
    "                  columns = ['VIIRS ACCESS Liquid', 'VIIRS ACCESS Ice'])\n",
    "\n",
    "fig = plt.figure(num=None, figsize=(8, 6), dpi=80, facecolor=fig_style_dict['facecolor'], edgecolor='k')\n",
    "\n",
    "plt.clf()\n",
    "\n",
    "ax = fig.add_subplot(111)\n",
    "\n",
    "ax.set_aspect(1)\n",
    "\n",
    "res = sns.heatmap(df_cm, annot=True, vmin=0.0, vmax=100.0, fmt='.2f', cmap=\"YlGnBu\",annot_kws={\"size\": fig_style_dict['heatmap_annot_font_size']},cbar=False)\n",
    "\n",
    "plt.xticks([0.5,1.5], ['VIIRS ACCESS Liquid', 'VIIRS ACCESS Ice'],fontsize=fig_style_dict['label_font_size'])\n",
    "plt.yticks([1.5,0.5], ['VIIRS CLDPROP Liquid','VIIRS CLDPROP Ice'],va='center',fontsize=fig_style_dict['label_font_size'])\n",
    "\n",
    "#plt.title('Accuracy :'+str(round((c1+c4)/tot_counts,2)),fontsize=fig_style_dict['title_font_size'])\n",
    "\n",
    "#plt.savefig(\"modis_deep_learning_cloud_phase_confusion_matrix_01.png\", bbox_inches='tight', dpi=100)\n",
    "\n",
    "plt.savefig('contingency_cloud_phase.png', dpi=150)\n",
    "\n",
    "plt.show()"
   ]
  },
  {
   "cell_type": "code",
   "execution_count": null,
   "id": "5a2151e4",
   "metadata": {},
   "outputs": [],
   "source": []
  },
  {
   "cell_type": "code",
   "execution_count": null,
   "id": "d2d0aea6",
   "metadata": {},
   "outputs": [],
   "source": []
  },
  {
   "cell_type": "code",
   "execution_count": 21,
   "id": "015505b0",
   "metadata": {},
   "outputs": [],
   "source": [
    "bins = np.arange(0,80,5)"
   ]
  },
  {
   "cell_type": "code",
   "execution_count": 22,
   "id": "10d58a45",
   "metadata": {},
   "outputs": [
    {
     "data": {
      "image/png": "[encoded data removed]",
      "text/plain": [
       "<Figure size 432x288 with 1 Axes>"
      ]
     },
     "metadata": {},
     "output_type": "display_data"
    }
   ],
   "source": [
    "# distribution plots \n",
    "cloudy = df['viirs_sensor_zenith'][ df['prediction'] != 0 ]\n",
    "#n_cloudy, bins_new, patches = plt.hist(cloudy,bins=bins)\n",
    "n_cloudy, bins_new, patches = plt.hist(cloudy,bins=bins,density=True)\n",
    "plt.xlabel(\"VIIRS Sensor Zenith\", fontsize=14)\n",
    "plt.savefig('cldprop_cloud_fraction.png', dpi=150)\n",
    "plt.show()\n",
    "plt.close()\n"
   ]
  },
  {
   "cell_type": "code",
   "execution_count": 23,
   "id": "cfd6fdf1",
   "metadata": {},
   "outputs": [
    {
     "data": {
      "image/png": "[encoded data removed]",
      "text/plain": [
       "<Figure size 432x288 with 1 Axes>"
      ]
     },
     "metadata": {},
     "output_type": "display_data"
    }
   ],
   "source": [
    "cloudy = df['viirs_sensor_zenith'][ df['viirs_Cloud_Mask'] < 2 ]\n",
    "#n_cloudy, bins_new, patches = plt.hist(cloudy,bins=bins)\n",
    "n_cloudy, bins_new, patches = plt.hist(cloudy,bins=bins,density=True)\n",
    "plt.xlabel(\"VIIRS Sensor Zenith\", fontsize=14)\n",
    "plt.savefig('dl_access_cloud_fraction.png', dpi=150)\n",
    "plt.show()\n",
    "plt.close()"
   ]
  },
  {
   "cell_type": "code",
   "execution_count": null,
   "id": "d82ce208",
   "metadata": {},
   "outputs": [],
   "source": []
  },
  {
   "cell_type": "code",
   "execution_count": null,
   "id": "e7b14da8",
   "metadata": {},
   "outputs": [],
   "source": []
  },
  {
   "cell_type": "code",
   "execution_count": null,
   "id": "8c5b6c65",
   "metadata": {},
   "outputs": [],
   "source": []
  },
  {
   "cell_type": "code",
   "execution_count": null,
   "id": "a4a17dd4",
   "metadata": {},
   "outputs": [],
   "source": []
  },
  {
   "cell_type": "code",
   "execution_count": null,
   "id": "22b4bfac",
   "metadata": {},
   "outputs": [],
   "source": []
  },
  {
   "cell_type": "code",
   "execution_count": 24,
   "id": "b652f81c",
   "metadata": {},
   "outputs": [
    {
     "name": "stdout",
     "output_type": "stream",
     "text": [
      "[ 5741.  5763.  5650.  5755.  5613.  5645.  5626.  6754.  7297.  7111.\n",
      "  8996. 11771. 11111. 10102.   498.]\n",
      "[3690. 3742. 3723. 3739. 3691. 3650. 3729. 4497. 4837. 4726. 6046. 8018.\n",
      " 7504. 6769.  338.]\n",
      "5741.0 3690.0\n",
      "5763.0 3742.0\n",
      "5650.0 3723.0\n",
      "5755.0 3739.0\n",
      "5613.0 3691.0\n",
      "5645.0 3650.0\n",
      "5626.0 3729.0\n",
      "6754.0 4497.0\n",
      "7297.0 4837.0\n",
      "7111.0 4726.0\n",
      "8996.0 6046.0\n",
      "11771.0 8018.0\n",
      "11111.0 7504.0\n",
      "10102.0 6769.0\n",
      "498.0 338.0\n",
      "[ 2.5  7.5 12.5 17.5 22.5 27.5 32.5 37.5 42.5 47.5 52.5 57.5 62.5 67.5\n",
      " 72.5]\n"
     ]
    },
    {
     "data": {
      "image/png": "[encoded data removed]",
      "text/plain": [
       "<Figure size 432x288 with 1 Axes>"
      ]
     },
     "metadata": {},
     "output_type": "display_data"
    }
   ],
   "source": [
    "cloudy = df['viirs_sensor_zenith'][ df['viirs_Cloud_Mask'] < 2 ]\n",
    "n_cloudy, bins_new, patches = plt.hist(cloudy,bins=bins)\n",
    "plt.close()\n",
    "\n",
    "liq = df['viirs_sensor_zenith'][ ( df['viirs_Cloud_Mask'] < 2 ) & (df['viirs_Cloud_Phase_Cloud_Top_Properties'] == 1) ]\n",
    "n_liquid, bins_new, patches = plt.hist(liq,bins=bins)\n",
    "plt.close()\n",
    "\n",
    "liquid_cloud_fraction_per_vza = [z/y for y, z in zip(n_cloudy, n_liquid)]\n",
    "\n",
    "print(n_cloudy)\n",
    "print(n_liquid)\n",
    "\n",
    "bins=np.arange(2.5,80,5)\n",
    "\n",
    "for i,j in zip(n_cloudy,n_liquid):\n",
    "    print(i,j)\n",
    "\n",
    "print(bins[:-1])\n",
    "\n",
    "plt.bar(bins[:-1],liquid_cloud_fraction_per_vza,5)\n",
    "\n",
    "#plt.plot(bins[:-1],liquid_cloud_fraction_per_vza,5)\n",
    "\n",
    "plt.xlim(0,70)\n",
    "plt.ylim(0,1)\n",
    "\n",
    "plt.xlabel('Sensor Zenith Angle')\n",
    "plt.ylabel('Liquid Cloud Fraction')\n",
    "plt.title('-cloud mask-')\n",
    "\n",
    "plt.show()"
   ]
  },
  {
   "cell_type": "code",
   "execution_count": 25,
   "id": "562d10eb",
   "metadata": {},
   "outputs": [
    {
     "name": "stderr",
     "output_type": "stream",
     "text": [
      "<ipython-input-25-8f20d179fc76>:9: RuntimeWarning: invalid value encountered in double_scalars\n",
      "  ice_cloud_fraction_per_vza = [z/y for y, z in zip(n_cloudy, n_liquid)]\n"
     ]
    },
    {
     "data": {
      "image/png": "[encoded data removed]",
      "text/plain": [
       "<Figure size 432x288 with 1 Axes>"
      ]
     },
     "metadata": {},
     "output_type": "display_data"
    }
   ],
   "source": [
    "cloudy = df['viirs_sensor_zenith'][ df['viirs_Cloud_Mask'] < 2 ]\n",
    "n_cloudy, bins_new, patches = plt.hist(cloudy,bins=bins)\n",
    "plt.close()\n",
    "\n",
    "liq = df['viirs_sensor_zenith'][ ( df['viirs_Cloud_Mask'] < 2 ) & (df['viirs_Cloud_Phase_Cloud_Top_Properties'] == 2) ]\n",
    "n_liquid, bins_new, patches = plt.hist(liq,bins=bins)\n",
    "plt.close()\n",
    "\n",
    "ice_cloud_fraction_per_vza = [z/y for y, z in zip(n_cloudy, n_liquid)]\n",
    "\n",
    "bins=np.arange(2.5,80,5)\n",
    "\n",
    "#plt.bar(bins[:-1],ice_cloud_fraction_per_vza,5)\n",
    "\n",
    "plt.plot(bins[:-1],liquid_cloud_fraction_per_vza,5)\n",
    "plt.plot(bins[:-1],ice_cloud_fraction_per_vza,5)\n",
    "\n",
    "blue_patch = mpatches.Patch(color=(0.2980392156862745, 0.4470588235294118, 0.6901960784313725), label='LIQUID')\n",
    "green_patch = mpatches.Patch(color=(0.3333333333333333, 0.6588235294117647, 0.40784313725490196), label='ICE')\n",
    "\n",
    "plt.legend(handles=[blue_patch,green_patch])\n",
    "\n",
    "plt.xlim(0,70)\n",
    "plt.ylim(0,1)\n",
    "\n",
    "plt.xlabel('Sensor Zenith Angle')\n",
    "plt.ylabel('Ice Cloud Fraction')\n",
    "plt.title('-cloud mask-')\n",
    "\n",
    "plt.savefig('cldprop_cloud_phase_fraction.png', dpi=150)\n",
    "\n",
    "plt.show()"
   ]
  },
  {
   "cell_type": "code",
   "execution_count": null,
   "id": "86558b84",
   "metadata": {},
   "outputs": [],
   "source": []
  },
  {
   "cell_type": "code",
   "execution_count": null,
   "id": "22ccafa6",
   "metadata": {},
   "outputs": [],
   "source": []
  },
  {
   "cell_type": "code",
   "execution_count": null,
   "id": "ef328791",
   "metadata": {},
   "outputs": [],
   "source": []
  },
  {
   "cell_type": "code",
   "execution_count": null,
   "id": "df296380",
   "metadata": {},
   "outputs": [],
   "source": []
  },
  {
   "cell_type": "code",
   "execution_count": null,
   "id": "96cab466",
   "metadata": {},
   "outputs": [],
   "source": []
  },
  {
   "cell_type": "code",
   "execution_count": null,
   "id": "c8c956c5",
   "metadata": {},
   "outputs": [],
   "source": []
  },
  {
   "cell_type": "code",
   "execution_count": null,
   "id": "2a79ad3c",
   "metadata": {},
   "outputs": [],
   "source": []
  },
  {
   "cell_type": "code",
   "execution_count": null,
   "id": "c0b31f66",
   "metadata": {},
   "outputs": [],
   "source": []
  },
  {
   "cell_type": "code",
   "execution_count": 26,
   "id": "92435206",
   "metadata": {},
   "outputs": [
    {
     "name": "stderr",
     "output_type": "stream",
     "text": [
      "<ipython-input-26-f628b110c6e1>:9: RuntimeWarning: invalid value encountered in double_scalars\n",
      "  liquid_cloud_fraction_per_vza = [z/y for y, z in zip(n_cloudy, n_liquid)]\n"
     ]
    },
    {
     "data": {
      "image/png": "[encoded data removed]",
      "text/plain": [
       "<Figure size 432x288 with 1 Axes>"
      ]
     },
     "metadata": {},
     "output_type": "display_data"
    }
   ],
   "source": [
    "cloudy = df['viirs_sensor_zenith'][ df['prediction'] != 0 ]\n",
    "n_cloudy, bins_new, patches = plt.hist(cloudy,bins=bins)\n",
    "plt.close()\n",
    "\n",
    "liq = df['viirs_sensor_zenith'][ ( df['prediction'] != 0 ) & (df['prediction'] == 1) ]\n",
    "n_liquid, bins_new, patches = plt.hist(liq,bins=bins)\n",
    "plt.close()\n",
    "\n",
    "liquid_cloud_fraction_per_vza = [z/y for y, z in zip(n_cloudy, n_liquid)]\n",
    "\n",
    "bins=np.arange(2.5,80,5)\n",
    "\n",
    "plt.bar(bins[:-1],liquid_cloud_fraction_per_vza,5)\n",
    "\n",
    "#plt.plot(bins[:-1],liquid_cloud_fraction_per_vza,5)\n",
    "\n",
    "plt.xlim(0,70)\n",
    "plt.ylim(0,1)\n",
    "\n",
    "plt.xlabel('Sensor Zenith Angle')\n",
    "plt.ylabel('Liquid Cloud Fraction')\n",
    "plt.title('-Prediction-')\n",
    "\n",
    "plt.show()"
   ]
  },
  {
   "cell_type": "code",
   "execution_count": 27,
   "id": "ffa8694e",
   "metadata": {},
   "outputs": [
    {
     "name": "stderr",
     "output_type": "stream",
     "text": [
      "<ipython-input-27-6c9929c81d60>:9: RuntimeWarning: invalid value encountered in double_scalars\n",
      "  liquid_cloud_fraction_per_vza = [z/y for y, z in zip(n_cloudy, n_liquid)]\n"
     ]
    },
    {
     "data": {
      "image/png": "[encoded data removed]",
      "text/plain": [
       "<Figure size 432x288 with 1 Axes>"
      ]
     },
     "metadata": {},
     "output_type": "display_data"
    }
   ],
   "source": [
    "cloudy = df['viirs_sensor_zenith'][ df['prediction'] != 0 ]\n",
    "n_cloudy, bins_new, patches = plt.hist(cloudy,bins=bins)\n",
    "plt.close()\n",
    "\n",
    "liq = df['viirs_sensor_zenith'][ ( df['prediction'] != 0 ) & (df['prediction'] == 2) ]\n",
    "n_liquid, bins_new, patches = plt.hist(liq,bins=bins)\n",
    "plt.close()\n",
    "\n",
    "liquid_cloud_fraction_per_vza = [z/y for y, z in zip(n_cloudy, n_liquid)]\n",
    "\n",
    "bins=np.arange(2.5,80,5)\n",
    "\n",
    "#plt.bar(bins[:-1],liquid_cloud_fraction_per_vza,5)\n",
    "\n",
    "plt.plot(bins[:-1],liquid_cloud_fraction_per_vza,5)\n",
    "plt.plot(bins[:-1],ice_cloud_fraction_per_vza,5)\n",
    "\n",
    "plt.xlim(0,70)\n",
    "plt.ylim(0,1)\n",
    "\n",
    "blue_patch = mpatches.Patch(color=(0.2980392156862745, 0.4470588235294118, 0.6901960784313725), label='LIQUID')\n",
    "green_patch = mpatches.Patch(color=(0.3333333333333333, 0.6588235294117647, 0.40784313725490196), label='ICE')\n",
    "\n",
    "plt.legend(handles=[blue_patch,green_patch])\n",
    "\n",
    "plt.xlabel('Sensor Zenith Angle')\n",
    "plt.ylabel('Ice Cloud Fraction')\n",
    "plt.title('-Prediction-')\n",
    "\n",
    "plt.savefig('dl_access_cloud_phase_fraction.png', dpi=150)\n",
    "\n",
    "plt.show()"
   ]
  },
  {
   "cell_type": "code",
   "execution_count": null,
   "id": "ab868d03",
   "metadata": {},
   "outputs": [],
   "source": []
  },
  {
   "cell_type": "code",
   "execution_count": null,
   "id": "da870346",
   "metadata": {},
   "outputs": [],
   "source": []
  },
  {
   "cell_type": "code",
   "execution_count": null,
   "id": "be997573",
   "metadata": {},
   "outputs": [],
   "source": []
  },
  {
   "cell_type": "code",
   "execution_count": null,
   "id": "f538dba1",
   "metadata": {},
   "outputs": [],
   "source": []
  },
  {
   "cell_type": "code",
   "execution_count": null,
   "id": "3ea8c974",
   "metadata": {},
   "outputs": [],
   "source": []
  },
  {
   "cell_type": "code",
   "execution_count": null,
   "id": "8dcf9d73",
   "metadata": {},
   "outputs": [],
   "source": []
  }
 ],
 "metadata": {
  "kernelspec": {
   "display_name": "Python 3",
   "language": "python",
   "name": "python3"
  },
  "language_info": {
   "codemirror_mode": {
    "name": "ipython",
    "version": 3
   },
   "file_extension": ".py",
   "mimetype": "text/x-python",
   "name": "python",
   "nbconvert_exporter": "python",
   "pygments_lexer": "ipython3",
   "version": "3.8.8"
  }
 },
 "nbformat": 4,
 "nbformat_minor": 5
}
