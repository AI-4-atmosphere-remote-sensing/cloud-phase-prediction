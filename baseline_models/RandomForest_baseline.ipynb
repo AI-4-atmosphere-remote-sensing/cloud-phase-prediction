{
  "nbformat": 4,
  "nbformat_minor": 0,
  "metadata": {
    "colab": {
      "provenance": [],
      "collapsed_sections": []
    },
    "kernelspec": {
      "name": "python3",
      "display_name": "Python 3"
    }
  },
  "cells": [
    {
      "cell_type": "markdown",
      "metadata": {
        "id": "fPD_oo5Lm355"
      },
      "source": [
        "###Last Update: \n",
        "Mar 22, 2021. Added Feature Importance score to RF results for 10 days kdd data."
      ]
    },
    {
      "cell_type": "code",
      "metadata": {
        "id": "KePx68u_Xii6",
        "colab": {
          "base_uri": "https://localhost:8080/"
        },
        "outputId": "b6fc99cc-40b7-4348-c387-147bdd3b579e"
      },
      "source": [
        "from google.colab import drive\n",
        "drive.mount('/content/drive')"
      ],
      "execution_count": null,
      "outputs": [
        {
          "output_type": "stream",
          "text": [
            "Mounted at /content/drive\n"
          ],
          "name": "stdout"
        }
      ]
    },
    {
      "cell_type": "code",
      "metadata": {
        "id": "lmq9WnX9O8jW",
        "colab": {
          "base_uri": "https://localhost:8080/"
        },
        "outputId": "7b80d718-c3ba-42a3-e3a1-0fd4f85cfa77"
      },
      "source": [
        "\n",
        "# -*- coding: utf-8 -*-\n",
        "\"\"\"\n",
        "Created on 12-05-2019\n",
        "\n",
        "@author: Xin Huang\n",
        "\"\"\"\n",
        "\n",
        "import keras\n",
        "from keras.datasets import mnist\n",
        "from keras.models import Sequential\n",
        "from keras.layers import Dense, Dropout\n",
        "from keras.optimizers import RMSprop\n",
        "\n",
        "\n",
        "from sklearn.model_selection import train_test_split\n",
        "import numpy as np\n",
        "\n",
        "#from google.colab import drive\n",
        "#drive.mount('content/')\n",
        "# data = np.load('Sat_data_small.npz')\n",
        "# data = np.load('/content/content/My Drive/Colab Notebooks/Sat_data_small.npz')\n",
        "# data = np.load('/content/content/My Drive/Colab Notebooks/kddworkshop/train7.npz')\n",
        "data = np.load('/content/drive/My Drive/kddworkshop/fulldata/train10.npz')\n",
        "#data = np.load('/content/drive/My Drive/Domain Adaptation Test/train10.npz')\n",
        "\n",
        "# passive = 1\n",
        "#load common data\n",
        "latlon = data['latlon']\n",
        "iff = data['iff']\n",
        "\n",
        "X_v = data['viirs']\n",
        "Y_v = data['label']\n",
        "print ('X_v shape:');\n",
        "print (X_v.shape);\n",
        "\n",
        "inds_v,vals_v = np.where(Y_v>0)\n",
        "Y_v = Y_v[inds_v]\n",
        "X_v = X_v[inds_v]\n",
        "print ('X_v')\n",
        "print (X_v)\n",
        "\n",
        "# process common data\n",
        "Latlon = latlon[inds_v]\n",
        "Iff = iff[inds_v]\n",
        "\n",
        "# feature engineering with Chenxi's method\n",
        "print('original X_v: ', X_v.shape)\n",
        "rows = np.where((X_v[:,0] >= 0) & (X_v[:,0] <= 83) & (X_v[:,15] > 100) & (X_v[:,15] < 400) & (X_v[:,16] > 100) & (X_v[:,16] < 400) & (X_v[:,17] > 100) & (X_v[:,17] < 400) & (X_v[:,18] > 100) & (X_v[:,18] < 400) & (X_v[:,19] > 100) & (X_v[:,19] < 400) & (X_v[:,10] > 0))\n",
        "# <= 83 X_v[:,0] excludes polar region\n",
        "print(\"rows:\", rows)\n",
        "print(\"rows.shape:\", len(rows))\n",
        "\n",
        "Latlon = Latlon[rows]\n",
        "Iff = Iff[rows]\n",
        "\n",
        "Y_v = Y_v[rows]\n",
        "X_v = X_v[rows]\n",
        "\n",
        "print('after SZA X_v: ', X_v.shape)\n",
        "# print('after SZA X_c: ', X_c.shape)\n",
        "\n",
        "#concanate common features\n",
        "X_v = np.concatenate((X_v, Latlon, Iff), axis=1)\n",
        "# X_c = np.concatenate((X_c, Latlon, Iff), axis=1)\n",
        "print (X_v.shape)\n",
        "# print (X_c.shape)\n",
        "\n",
        "X_v = np.nan_to_num(X_v)\n",
        "# X_c = np.nan_to_num(X_c)\n",
        "\n"
      ],
      "execution_count": null,
      "outputs": [
        {
          "output_type": "stream",
          "text": [
            "X_v shape:\n",
            "(2099451, 20)\n",
            "X_v\n",
            "[[ 97.43999481 -55.29999924   2.52999997 ... 246.61909485 246.91960144\n",
            "  246.64631653]\n",
            " [ 97.43999481 -55.2899971    2.51999998 ... 247.22109985 247.5663147\n",
            "  247.28843689]\n",
            " [ 97.40999603 -55.22999954   2.5        ... 248.27958679 248.7721405\n",
            "  248.57876587]\n",
            " ...\n",
            " [ 94.68000031 -62.64999771   2.12999988 ... 228.96557617 228.62413025\n",
            "  227.59910583]\n",
            " [ 94.68000031 -62.62999725   2.12999988 ... 229.51361084 229.17892456\n",
            "  227.92941284]\n",
            " [ 94.66999817 -62.6099968    2.12999988 ... 230.20637512 230.03952026\n",
            "  228.89453125]]\n",
            "original X_v:  (1667850, 20)\n",
            "rows: (array([    402,     403,     404, ..., 1666325, 1666326, 1666327]),)\n",
            "rows.shape: 1\n",
            "after SZA X_v:  (704800, 20)\n",
            "(704800, 26)\n"
          ],
          "name": "stdout"
        }
      ]
    },
    {
      "cell_type": "code",
      "metadata": {
        "id": "AtFEmQpsPM6H",
        "colab": {
          "base_uri": "https://localhost:8080/"
        },
        "outputId": "92f4f51f-8541-49c9-fddd-4cf90b104090"
      },
      "source": [
        "# combine data and split latter to define ground truth\n",
        "from sklearn.linear_model import LinearRegression\n",
        "# n1=20\n",
        "# n2=25\n",
        "# X=np.concatenate((X_v, X_c), axis=1)\n",
        "X=X_v\n",
        "Y=Y_v\n",
        "print (X.shape)\n",
        "print (Y.shape)\n",
        "x_train, x_valid, y_train, y_valid = train_test_split(X, Y,\n",
        "                                                    test_size=0.3,\n",
        "                                                    random_state=0,\n",
        "                                                    stratify=Y)\n",
        "\n",
        "#x_valid, x_test, y_valid, y_test = train_test_split(x_temp, y_temp,\n",
        "#                                                   test_size=0.5,\n",
        "#                                                    random_state=0,\n",
        "#                                                   stratify=y_temp)\n",
        "\n",
        "# feature scaling\n",
        "from sklearn.preprocessing import StandardScaler\n",
        "sc_X = StandardScaler()\n",
        "x_train=sc_X.fit_transform(x_train)\n",
        "x_valid=sc_X.transform(x_valid)\n",
        "#x_test=sc_X.fit_transform(x_test)\n",
        "\n",
        "print(x_train.shape)\n",
        "print(x_valid.shape)\n",
        "#print(x_test.shape)\n"
      ],
      "execution_count": null,
      "outputs": [
        {
          "output_type": "stream",
          "text": [
            "(704800, 26)\n",
            "(704800, 1)\n",
            "(493360, 26)\n",
            "(211440, 26)\n"
          ],
          "name": "stdout"
        }
      ]
    },
    {
      "cell_type": "code",
      "metadata": {
        "id": "zgtTsUZ1PhQB",
        "colab": {
          "base_uri": "https://localhost:8080/"
        },
        "outputId": "22bbd911-d258-4349-b3ab-9f22a7602423"
      },
      "source": [
        "# use Logistic regression model\n",
        "from sklearn.linear_model import LogisticRegression\n",
        "clf = LogisticRegression(random_state=0, solver='lbfgs',\n",
        "                         multi_class='multinomial').fit(x_train, y_train)\n",
        "y_pred = clf.predict(x_valid)\n",
        "print (clf.score(x_valid, y_valid))\n",
        "\n",
        "num_classes1 = 6\n",
        "y_lr_gd = keras.utils.to_categorical(y_valid-1, num_classes1)\n",
        "y_lr_pred = keras.utils.to_categorical(y_pred-1, num_classes1)\n",
        "\n",
        "print('Actual Labels:',y_lr_gd)\n",
        "print('Pred Labels:',y_lr_pred)\n",
        "\n",
        "#from sklearn.metrics import roc_auc_score\n",
        "#roc_auc_score(y_lr_gd, y_lr_pred)"
      ],
      "execution_count": null,
      "outputs": [
        {
          "output_type": "stream",
          "text": [
            "/usr/local/lib/python3.7/dist-packages/sklearn/utils/validation.py:760: DataConversionWarning: A column-vector y was passed when a 1d array was expected. Please change the shape of y to (n_samples, ), for example using ravel().\n",
            "  y = column_or_1d(y, warn=True)\n"
          ],
          "name": "stderr"
        },
        {
          "output_type": "stream",
          "text": [
            "0.6494324631101022\n",
            "Actual Labels: [[0. 1. 0. 0. 0. 0.]\n",
            " [0. 0. 0. 0. 1. 0.]\n",
            " [0. 0. 1. 0. 0. 0.]\n",
            " ...\n",
            " [0. 0. 0. 0. 1. 0.]\n",
            " [0. 0. 0. 0. 1. 0.]\n",
            " [0. 0. 0. 0. 1. 0.]]\n",
            "Pred Labels: [[0. 1. 0. 0. 0. 0.]\n",
            " [0. 0. 0. 0. 1. 0.]\n",
            " [0. 0. 1. 0. 0. 0.]\n",
            " ...\n",
            " [0. 0. 0. 0. 1. 0.]\n",
            " [0. 0. 0. 0. 1. 0.]\n",
            " [0. 0. 0. 0. 1. 0.]]\n"
          ],
          "name": "stdout"
        },
        {
          "output_type": "stream",
          "text": [
            "/usr/local/lib/python3.7/dist-packages/sklearn/linear_model/_logistic.py:940: ConvergenceWarning: lbfgs failed to converge (status=1):\n",
            "STOP: TOTAL NO. of ITERATIONS REACHED LIMIT.\n",
            "\n",
            "Increase the number of iterations (max_iter) or scale the data as shown in:\n",
            "    https://scikit-learn.org/stable/modules/preprocessing.html\n",
            "Please also refer to the documentation for alternative solver options:\n",
            "    https://scikit-learn.org/stable/modules/linear_model.html#logistic-regression\n",
            "  extra_warning_msg=_LOGISTIC_SOLVER_CONVERGENCE_MSG)\n"
          ],
          "name": "stderr"
        }
      ]
    },
    {
      "cell_type": "code",
      "metadata": {
        "id": "PQvF7PchhnY4"
      },
      "source": [
        "from sklearn.ensemble import RandomForestClassifier\n",
        "from sklearn.model_selection import GridSearchCV\n",
        "\n",
        "n_estimators = [50, 100, 200, 400]\n",
        "max_depth = [5, 8, 15, 25]\n",
        "#min_samples_split = [2, 5, 10, 15]\n",
        "#min_samples_leaf = [1, 2, 5, 10] \n",
        "\n",
        "hyperF = dict(n_estimators = n_estimators, max_depth = max_depth)\n",
        "rfc = RandomForestClassifier(random_state=42)\n",
        "\n",
        "#hyperF = dict(n_estimators = n_estimators, max_depth = max_depth,  \n",
        "#              min_samples_split = min_samples_split, \n",
        "#             min_samples_leaf = min_samples_leaf)\n",
        "\n",
        "gridF = GridSearchCV(estimator = rfc, param_grid = hyperF, cv = 5)\n",
        "bestF = gridF.fit(x_train, y_train.ravel())\n",
        "print(gridF.best_params_)"
      ],
      "execution_count": null,
      "outputs": []
    },
    {
      "cell_type": "code",
      "metadata": {
        "id": "tICp9-hAs3JT",
        "colab": {
          "base_uri": "https://localhost:8080/"
        },
        "outputId": "7a3ff295-be1e-49d9-a5ce-a693e77782f9"
      },
      "source": [
        "from sklearn.ensemble import RandomForestClassifier\n",
        "\n",
        "rf = RandomForestClassifier(n_estimators = 100, max_depth = 15)\n",
        "rf.fit(x_train, y_train.ravel())\n",
        "\n",
        "#Evaluating the model on train data\n",
        "y_hat = rf.predict(x_train)\n",
        "print ('Train Accuracy:',rf.score(x_train, y_train))\n",
        "\n",
        "#Testing the model on validation data\n",
        "y_pred = rf.predict(x_valid)\n",
        "print ('Validation Accuracy:',rf.score(x_valid, y_valid))"
      ],
      "execution_count": null,
      "outputs": [
        {
          "output_type": "stream",
          "text": [
            "Train Accuracy: 0.8579049781092913\n",
            "Validation Accuracy: 0.8240541051835036\n"
          ],
          "name": "stdout"
        }
      ]
    },
    {
      "cell_type": "code",
      "metadata": {
        "colab": {
          "base_uri": "https://localhost:8080/",
          "height": 707
        },
        "id": "7nLKzy6GmPIE",
        "outputId": "fa06146d-0366-4d48-bf52-ce88a0b60a3d"
      },
      "source": [
        "from matplotlib import pyplot\n",
        "\n",
        "#calculating feature importance\n",
        "importance = rf.feature_importances_\n",
        "# summarize feature importance\n",
        "for i,v in enumerate(importance):\n",
        "\tprint('Feature: %0d, Score: %.5f' % (i,v))\n",
        "# plot feature importance\n",
        "pyplot.bar([x for x in range(len(importance))], importance)\n",
        "pyplot.show()"
      ],
      "execution_count": null,
      "outputs": [
        {
          "output_type": "stream",
          "text": [
            "Feature: 0, Score: 0.03995\n",
            "Feature: 1, Score: 0.04390\n",
            "Feature: 2, Score: 0.03166\n",
            "Feature: 3, Score: 0.01208\n",
            "Feature: 4, Score: 0.01715\n",
            "Feature: 5, Score: 0.01777\n",
            "Feature: 6, Score: 0.01551\n",
            "Feature: 7, Score: 0.01543\n",
            "Feature: 8, Score: 0.02155\n",
            "Feature: 9, Score: 0.01937\n",
            "Feature: 10, Score: 0.04310\n",
            "Feature: 11, Score: 0.04861\n",
            "Feature: 12, Score: 0.12962\n",
            "Feature: 13, Score: 0.05508\n",
            "Feature: 14, Score: 0.04112\n",
            "Feature: 15, Score: 0.05249\n",
            "Feature: 16, Score: 0.03091\n",
            "Feature: 17, Score: 0.05235\n",
            "Feature: 18, Score: 0.05918\n",
            "Feature: 19, Score: 0.09387\n",
            "Feature: 20, Score: 0.04362\n",
            "Feature: 21, Score: 0.04151\n",
            "Feature: 22, Score: 0.03589\n",
            "Feature: 23, Score: 0.01615\n",
            "Feature: 24, Score: 0.01230\n",
            "Feature: 25, Score: 0.00985\n"
          ],
          "name": "stdout"
        },
        {
          "output_type": "display_data",
          "data": {
            "image/png": "[encoded data removed]",
            "text/plain": [
              "<Figure size 432x288 with 1 Axes>"
            ]
          },
          "metadata": {
            "tags": [],
            "needs_background": "light"
          }
        }
      ]
    },
    {
      "cell_type": "code",
      "metadata": {
        "id": "fMSGjBnV2e8z",
        "colab": {
          "base_uri": "https://localhost:8080/",
          "height": 119
        },
        "outputId": "3646fa2e-5a81-4d45-adbc-e46382515c05"
      },
      "source": [
        "# load the test day data\n",
        "data_test = np.load('/content/drive/My Drive/kddworkshop/fulldata/test_138_day.npz')\n",
        "\n",
        "passive =1\n",
        "\n",
        "#load common data\n",
        "latlon_test = data_test['latlon']\n",
        "iff_test = data_test['iff']\n",
        "\n",
        "# if passive ==1:\n",
        "x_t_test = data_test['viirs']\n",
        "y_t_test = data_test['label']\n",
        "# else:\n",
        "# x_s_test = data_test['calipso']\n",
        "# y_s_test = data_test['label']\n",
        "    \n",
        "inds_test,vals_test = np.where(y_t_test>0)\n",
        "\n",
        "# process common data\n",
        "Latlon_test = latlon_test[inds_test]\n",
        "Iff_test = iff_test[inds_test]\n",
        "\n",
        "Y_t_test = y_t_test[inds_test]\n",
        "X_t_test = x_t_test[inds_test]\n",
        "\n",
        "# 0 =< SZA <= 83\n",
        "print('original X_t_test: ', X_t_test.shape)\n",
        "rows_test = np.where((X_t_test[:,0] >= 0) & (X_t_test[:,0] <= 83) & (X_t_test[:,15] > 100) & (X_t_test[:,15] < 400) & (X_t_test[:,16] > 100) & (X_t_test[:,16] < 400) & (X_t_test[:,17] > 100) & (X_t_test[:,17] < 400) & (X_t_test[:,18] > 100) & (X_t_test[:,18] < 400) & (X_t_test[:,19] > 100) & (X_t_test[:,19] < 400) & (X_t_test[:,10] > 0))\n",
        "print(\"rows_test:\", rows_test)\n",
        "print(\"rows_test.shape:\", len(rows_test))\n",
        "\n",
        "Latlon_test = Latlon_test[rows_test]\n",
        "Iff_test = Iff_test[rows_test]\n",
        "\n",
        "Y_t_test = Y_t_test[rows_test]\n",
        "X_t_test = X_t_test[rows_test]\n",
        "\n",
        "# X_s_test = np.nan_to_num(X_s_test)\n",
        "X_t_test = np.nan_to_num(X_t_test)\n",
        "\n",
        "print('after SZA X_t_test: ', X_t_test.shape)\n",
        "# print('after SZA X_s_test: ', X_s_test.shape)\n",
        "\n",
        "\n",
        "#concanate common data\n",
        "X_t_test = np.concatenate((X_t_test, Latlon_test, Iff_test), axis=1)\n",
        "# X_s_test = np.concatenate((X_s_test, Latlon_test, Iff_test), axis=1)\n",
        "# print (X_s_test.shape)\n",
        "print (X_t_test.shape)\n",
        "\n",
        "# feature scaling\n",
        "X_t_test=sc_X.transform(X_t_test)\n",
        "print (X_t_test.shape)\n",
        "\n"
      ],
      "execution_count": null,
      "outputs": [
        {
          "output_type": "stream",
          "text": [
            "original X_t_test:  (144703, 20)\n",
            "rows_test: (array([  1502,   1503,   1504, ..., 144700, 144701, 144702]),)\n",
            "rows_test.shape: 1\n",
            "after SZA X_t_test:  (60487, 20)\n",
            "(60487, 26)\n",
            "(60487, 26)\n"
          ],
          "name": "stdout"
        }
      ]
    },
    {
      "cell_type": "code",
      "metadata": {
        "id": "QXBSU52Csnpf",
        "colab": {
          "base_uri": "https://localhost:8080/",
          "height": 34
        },
        "outputId": "07ab35b8-110a-4805-b2b8-8cd7521bf1db"
      },
      "source": [
        "# 2. TODO: Sahara, add the RF prediction on the testing 144 data \n",
        "#Testing the model on testing data\n",
        "\n",
        "y_pred = rf.predict(X_t_test)\n",
        "print (rf.score(X_t_test, Y_t_test))\n",
        "\n"
      ],
      "execution_count": null,
      "outputs": [
        {
          "output_type": "stream",
          "text": [
            "0.6455271380627242\n"
          ],
          "name": "stdout"
        }
      ]
    },
    {
      "cell_type": "code",
      "metadata": {
        "id": "vIiDX5w-_avP"
      },
      "source": [
        "# score = model.evaluate(x_test_pt_test, Y_t_test, verbose=0)\n",
        "# print('Test loss:', score[0])\n",
        "# print('Test accuracy:', score[1])\n",
        "# print('Test score:', score)\n",
        "# predict_result = model.predict_proba(x_test_pt);\n",
        "# print (predict_result)\n",
        "# from sklearn.metrics import roc_auc_score\n",
        "# roc_auc_score(y_test, predict_result)"
      ],
      "execution_count": null,
      "outputs": []
    }
  ]
}