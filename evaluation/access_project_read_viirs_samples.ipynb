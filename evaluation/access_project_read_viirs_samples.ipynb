{
 "cells": [
  {
   "cell_type": "markdown",
   "id": "2d6fdb17",
   "metadata": {},
   "source": [
    "<div class=\"alert alert-info\">\n",
    "<center>\n",
    "<h1 style=\"font-size:22px\">UMBC ACCESS Project Evaluation: <br>READ VIIRS Samples</h1>\n",
    "<br>\n",
    "Benjamin H.G. Marchant <br>\n",
    "benjamin.marchant@nasa.gov <br>\n",
    "marchant.benjamin01@gmail.com <br>\n",
    "</center>\n",
    "</div>"
   ]
  },
  {
   "cell_type": "code",
   "execution_count": 35,
   "id": "d71552ba",
   "metadata": {},
   "outputs": [],
   "source": [
    "from os import path\n",
    "\n",
    "import glob\n",
    "import random\n",
    "import pandas as pd\n",
    "import matplotlib.pyplot as plt"
   ]
  },
  {
   "cell_type": "code",
   "execution_count": 13,
   "id": "b08fd7b3",
   "metadata": {},
   "outputs": [],
   "source": [
    "path_to_data = '/Volumes/HD1/media/'"
   ]
  },
  {
   "cell_type": "code",
   "execution_count": 14,
   "id": "685ed273",
   "metadata": {
    "scrolled": false
   },
   "outputs": [
    {
     "data": {
      "text/plain": [
       "['/Volumes/HD1/media/UMBC/last/prediction/viirs_sample_2018_01_05.hdf5',\n",
       " '/Volumes/HD1/media/UMBC/last/prediction/viirs_sample_2018_01_10.hdf5',\n",
       " '/Volumes/HD1/media/UMBC/last/prediction/viirs_sample_2018_01_15.hdf5',\n",
       " '/Volumes/HD1/media/UMBC/last/prediction/viirs_sample_2018_01_20.hdf5',\n",
       " '/Volumes/HD1/media/UMBC/last/prediction/viirs_sample_2018_01_25.hdf5',\n",
       " '/Volumes/HD1/media/UMBC/last/prediction/viirs_sample_2018_02_05.hdf5',\n",
       " '/Volumes/HD1/media/UMBC/last/prediction/viirs_sample_2018_02_10.hdf5',\n",
       " '/Volumes/HD1/media/UMBC/last/prediction/viirs_sample_2018_02_15.hdf5',\n",
       " '/Volumes/HD1/media/UMBC/last/prediction/viirs_sample_2018_02_20.hdf5',\n",
       " '/Volumes/HD1/media/UMBC/last/prediction/viirs_sample_2018_02_25.hdf5',\n",
       " '/Volumes/HD1/media/UMBC/last/prediction/viirs_sample_2018_03_05.hdf5',\n",
       " '/Volumes/HD1/media/UMBC/last/prediction/viirs_sample_2018_03_10.hdf5',\n",
       " '/Volumes/HD1/media/UMBC/last/prediction/viirs_sample_2018_03_15.hdf5',\n",
       " '/Volumes/HD1/media/UMBC/last/prediction/viirs_sample_2018_03_20.hdf5',\n",
       " '/Volumes/HD1/media/UMBC/last/prediction/viirs_sample_2018_03_25.hdf5',\n",
       " '/Volumes/HD1/media/UMBC/last/prediction/viirs_sample_2018_04_05.hdf5',\n",
       " '/Volumes/HD1/media/UMBC/last/prediction/viirs_sample_2018_04_10.hdf5',\n",
       " '/Volumes/HD1/media/UMBC/last/prediction/viirs_sample_2018_04_15.hdf5',\n",
       " '/Volumes/HD1/media/UMBC/last/prediction/viirs_sample_2018_04_20.hdf5',\n",
       " '/Volumes/HD1/media/UMBC/last/prediction/viirs_sample_2018_04_25.hdf5',\n",
       " '/Volumes/HD1/media/UMBC/last/prediction/viirs_sample_2018_05_05.hdf5',\n",
       " '/Volumes/HD1/media/UMBC/last/prediction/viirs_sample_2018_05_10.hdf5',\n",
       " '/Volumes/HD1/media/UMBC/last/prediction/viirs_sample_2018_05_15.hdf5',\n",
       " '/Volumes/HD1/media/UMBC/last/prediction/viirs_sample_2018_05_20.hdf5',\n",
       " '/Volumes/HD1/media/UMBC/last/prediction/viirs_sample_2018_05_25.hdf5',\n",
       " '/Volumes/HD1/media/UMBC/last/prediction/viirs_sample_2018_06_05.hdf5',\n",
       " '/Volumes/HD1/media/UMBC/last/prediction/viirs_sample_2018_06_10.hdf5',\n",
       " '/Volumes/HD1/media/UMBC/last/prediction/viirs_sample_2018_06_15.hdf5',\n",
       " '/Volumes/HD1/media/UMBC/last/prediction/viirs_sample_2018_06_20.hdf5',\n",
       " '/Volumes/HD1/media/UMBC/last/prediction/viirs_sample_2018_06_25.hdf5',\n",
       " '/Volumes/HD1/media/UMBC/last/prediction/viirs_sample_2018_07_05.hdf5',\n",
       " '/Volumes/HD1/media/UMBC/last/prediction/viirs_sample_2018_07_10.hdf5',\n",
       " '/Volumes/HD1/media/UMBC/last/prediction/viirs_sample_2018_07_15.hdf5',\n",
       " '/Volumes/HD1/media/UMBC/last/prediction/viirs_sample_2018_07_20.hdf5',\n",
       " '/Volumes/HD1/media/UMBC/last/prediction/viirs_sample_2018_07_25.hdf5',\n",
       " '/Volumes/HD1/media/UMBC/last/prediction/viirs_sample_2018_08_05.hdf5',\n",
       " '/Volumes/HD1/media/UMBC/last/prediction/viirs_sample_2018_08_10.hdf5',\n",
       " '/Volumes/HD1/media/UMBC/last/prediction/viirs_sample_2018_08_15.hdf5',\n",
       " '/Volumes/HD1/media/UMBC/last/prediction/viirs_sample_2018_08_20.hdf5',\n",
       " '/Volumes/HD1/media/UMBC/last/prediction/viirs_sample_2018_08_25.hdf5',\n",
       " '/Volumes/HD1/media/UMBC/last/prediction/viirs_sample_2018_09_05.hdf5',\n",
       " '/Volumes/HD1/media/UMBC/last/prediction/viirs_sample_2018_09_10.hdf5',\n",
       " '/Volumes/HD1/media/UMBC/last/prediction/viirs_sample_2018_09_15.hdf5',\n",
       " '/Volumes/HD1/media/UMBC/last/prediction/viirs_sample_2018_09_20.hdf5',\n",
       " '/Volumes/HD1/media/UMBC/last/prediction/viirs_sample_2018_09_25.hdf5',\n",
       " '/Volumes/HD1/media/UMBC/last/prediction/viirs_sample_2018_10_05.hdf5',\n",
       " '/Volumes/HD1/media/UMBC/last/prediction/viirs_sample_2018_10_10.hdf5',\n",
       " '/Volumes/HD1/media/UMBC/last/prediction/viirs_sample_2018_10_15.hdf5',\n",
       " '/Volumes/HD1/media/UMBC/last/prediction/viirs_sample_2018_10_20.hdf5',\n",
       " '/Volumes/HD1/media/UMBC/last/prediction/viirs_sample_2018_10_25.hdf5',\n",
       " '/Volumes/HD1/media/UMBC/last/prediction/viirs_sample_2018_11_05.hdf5',\n",
       " '/Volumes/HD1/media/UMBC/last/prediction/viirs_sample_2018_11_10.hdf5',\n",
       " '/Volumes/HD1/media/UMBC/last/prediction/viirs_sample_2018_11_15.hdf5',\n",
       " '/Volumes/HD1/media/UMBC/last/prediction/viirs_sample_2018_11_20.hdf5',\n",
       " '/Volumes/HD1/media/UMBC/last/prediction/viirs_sample_2018_11_25.hdf5',\n",
       " '/Volumes/HD1/media/UMBC/last/prediction/viirs_sample_2018_12_05.hdf5',\n",
       " '/Volumes/HD1/media/UMBC/last/prediction/viirs_sample_2018_12_10.hdf5',\n",
       " '/Volumes/HD1/media/UMBC/last/prediction/viirs_sample_2018_12_15.hdf5',\n",
       " '/Volumes/HD1/media/UMBC/last/prediction/viirs_sample_2018_12_20.hdf5',\n",
       " '/Volumes/HD1/media/UMBC/last/prediction/viirs_sample_2018_12_25.hdf5']"
      ]
     },
     "execution_count": 14,
     "metadata": {},
     "output_type": "execute_result"
    }
   ],
   "source": [
    "sample_list = glob.glob( '{}UMBC/last/prediction/*hdf5'.format(path_to_data) )\n",
    "\n",
    "sample_list"
   ]
  },
  {
   "cell_type": "code",
   "execution_count": 16,
   "id": "0f9dfeee",
   "metadata": {},
   "outputs": [
    {
     "data": {
      "text/plain": [
       "'/Volumes/HD1/media/UMBC/last/prediction/viirs_sample_2018_12_25.hdf5'"
      ]
     },
     "execution_count": 16,
     "metadata": {},
     "output_type": "execute_result"
    }
   ],
   "source": [
    "# Select a file randomly:\n",
    "\n",
    "file = random.choice(sample_list)\n",
    "\n",
    "file"
   ]
  },
  {
   "cell_type": "code",
   "execution_count": 17,
   "id": "fa5b9c1b",
   "metadata": {},
   "outputs": [
    {
     "name": "stdout",
     "output_type": "stream",
     "text": [
      "['/sample']\n"
     ]
    }
   ],
   "source": [
    "if path.exists(file):\n",
    "    with pd.HDFStore(file) as store:\n",
    "        print(store.keys())"
   ]
  },
  {
   "cell_type": "code",
   "execution_count": 18,
   "id": "fefca960",
   "metadata": {},
   "outputs": [
    {
     "data": {
      "text/html": [
       "<div>\n",
       "<style scoped>\n",
       "    .dataframe tbody tr th:only-of-type {\n",
       "        vertical-align: middle;\n",
       "    }\n",
       "\n",
       "    .dataframe tbody tr th {\n",
       "        vertical-align: top;\n",
       "    }\n",
       "\n",
       "    .dataframe thead th {\n",
       "        text-align: right;\n",
       "    }\n",
       "</style>\n",
       "<table border=\"1\" class=\"dataframe\">\n",
       "  <thead>\n",
       "    <tr style=\"text-align: right;\">\n",
       "      <th></th>\n",
       "      <th>M01</th>\n",
       "      <th>M02</th>\n",
       "      <th>M03</th>\n",
       "      <th>M04</th>\n",
       "      <th>M05</th>\n",
       "      <th>M06</th>\n",
       "      <th>M07</th>\n",
       "      <th>M08</th>\n",
       "      <th>M09</th>\n",
       "      <th>M10</th>\n",
       "      <th>...</th>\n",
       "      <th>viirs_Cloud_Effective_Radius_37_PCL</th>\n",
       "      <th>viirs_Cloud_Water_Path</th>\n",
       "      <th>viirs_Cloud_Water_Path_PCL</th>\n",
       "      <th>viirs_Cloud_Mask</th>\n",
       "      <th>viirs_Surface</th>\n",
       "      <th>VNP02MOD_file</th>\n",
       "      <th>CLDPROP_L2_VIIRS_SNPP_file</th>\n",
       "      <th>along track idx</th>\n",
       "      <th>cross track idx</th>\n",
       "      <th>prediction</th>\n",
       "    </tr>\n",
       "  </thead>\n",
       "  <tbody>\n",
       "    <tr>\n",
       "      <th>0</th>\n",
       "      <td>0.491657</td>\n",
       "      <td>0.481721</td>\n",
       "      <td>0.474185</td>\n",
       "      <td>0.443057</td>\n",
       "      <td>0.464948</td>\n",
       "      <td>0.143361</td>\n",
       "      <td>0.483081</td>\n",
       "      <td>0.455992</td>\n",
       "      <td>0.017473</td>\n",
       "      <td>0.362790</td>\n",
       "      <td>...</td>\n",
       "      <td>-9999.0</td>\n",
       "      <td>125.0</td>\n",
       "      <td>-9999.0</td>\n",
       "      <td>0.0</td>\n",
       "      <td>0.0</td>\n",
       "      <td>VNP02MOD.A2018359.0930.001.2018359171148.nc</td>\n",
       "      <td>CLDPROP_L2_VIIRS_SNPP.A2018359.0930.011.201923...</td>\n",
       "      <td>1450.0</td>\n",
       "      <td>469.0</td>\n",
       "      <td>1</td>\n",
       "    </tr>\n",
       "    <tr>\n",
       "      <th>1</th>\n",
       "      <td>0.144121</td>\n",
       "      <td>0.115252</td>\n",
       "      <td>0.086384</td>\n",
       "      <td>0.055897</td>\n",
       "      <td>0.034686</td>\n",
       "      <td>0.028088</td>\n",
       "      <td>0.021671</td>\n",
       "      <td>0.015674</td>\n",
       "      <td>0.000700</td>\n",
       "      <td>0.013115</td>\n",
       "      <td>...</td>\n",
       "      <td>-9999.0</td>\n",
       "      <td>-9999.0</td>\n",
       "      <td>-9999.0</td>\n",
       "      <td>1.0</td>\n",
       "      <td>0.0</td>\n",
       "      <td>VNP02MOD.A2018359.1318.001.2018359205511.nc</td>\n",
       "      <td>CLDPROP_L2_VIIRS_SNPP.A2018359.1318.011.201923...</td>\n",
       "      <td>988.0</td>\n",
       "      <td>2305.0</td>\n",
       "      <td>1</td>\n",
       "    </tr>\n",
       "    <tr>\n",
       "      <th>2</th>\n",
       "      <td>0.434781</td>\n",
       "      <td>0.419167</td>\n",
       "      <td>0.403194</td>\n",
       "      <td>0.366349</td>\n",
       "      <td>0.378984</td>\n",
       "      <td>0.146240</td>\n",
       "      <td>0.393498</td>\n",
       "      <td>0.355553</td>\n",
       "      <td>0.025909</td>\n",
       "      <td>0.210773</td>\n",
       "      <td>...</td>\n",
       "      <td>-9999.0</td>\n",
       "      <td>354.0</td>\n",
       "      <td>-9999.0</td>\n",
       "      <td>0.0</td>\n",
       "      <td>0.0</td>\n",
       "      <td>VNP02MOD.A2018359.2118.001.2018360025359.nc</td>\n",
       "      <td>CLDPROP_L2_VIIRS_SNPP.A2018359.2118.011.201923...</td>\n",
       "      <td>2121.0</td>\n",
       "      <td>1039.0</td>\n",
       "      <td>1</td>\n",
       "    </tr>\n",
       "    <tr>\n",
       "      <th>3</th>\n",
       "      <td>0.209574</td>\n",
       "      <td>0.205015</td>\n",
       "      <td>0.199558</td>\n",
       "      <td>0.179466</td>\n",
       "      <td>0.190921</td>\n",
       "      <td>0.145760</td>\n",
       "      <td>0.201157</td>\n",
       "      <td>0.167111</td>\n",
       "      <td>0.088464</td>\n",
       "      <td>0.074449</td>\n",
       "      <td>...</td>\n",
       "      <td>-9999.0</td>\n",
       "      <td>299.0</td>\n",
       "      <td>-9999.0</td>\n",
       "      <td>0.0</td>\n",
       "      <td>3.0</td>\n",
       "      <td>VNP02MOD.A2018359.1000.001.2018359203016.nc</td>\n",
       "      <td>CLDPROP_L2_VIIRS_SNPP.A2018359.1000.011.201923...</td>\n",
       "      <td>1453.0</td>\n",
       "      <td>997.0</td>\n",
       "      <td>2</td>\n",
       "    </tr>\n",
       "    <tr>\n",
       "      <th>4</th>\n",
       "      <td>0.205795</td>\n",
       "      <td>0.179546</td>\n",
       "      <td>0.158535</td>\n",
       "      <td>0.131926</td>\n",
       "      <td>0.118771</td>\n",
       "      <td>0.113653</td>\n",
       "      <td>0.111534</td>\n",
       "      <td>0.099979</td>\n",
       "      <td>0.007817</td>\n",
       "      <td>0.091282</td>\n",
       "      <td>...</td>\n",
       "      <td>-9999.0</td>\n",
       "      <td>45.0</td>\n",
       "      <td>-9999.0</td>\n",
       "      <td>0.0</td>\n",
       "      <td>0.0</td>\n",
       "      <td>VNP02MOD.A2018359.0300.001.2018359121049.nc</td>\n",
       "      <td>CLDPROP_L2_VIIRS_SNPP.A2018359.0300.011.201923...</td>\n",
       "      <td>677.0</td>\n",
       "      <td>2362.0</td>\n",
       "      <td>1</td>\n",
       "    </tr>\n",
       "    <tr>\n",
       "      <th>...</th>\n",
       "      <td>...</td>\n",
       "      <td>...</td>\n",
       "      <td>...</td>\n",
       "      <td>...</td>\n",
       "      <td>...</td>\n",
       "      <td>...</td>\n",
       "      <td>...</td>\n",
       "      <td>...</td>\n",
       "      <td>...</td>\n",
       "      <td>...</td>\n",
       "      <td>...</td>\n",
       "      <td>...</td>\n",
       "      <td>...</td>\n",
       "      <td>...</td>\n",
       "      <td>...</td>\n",
       "      <td>...</td>\n",
       "      <td>...</td>\n",
       "      <td>...</td>\n",
       "      <td>...</td>\n",
       "      <td>...</td>\n",
       "      <td>...</td>\n",
       "    </tr>\n",
       "    <tr>\n",
       "      <th>9995</th>\n",
       "      <td>0.453733</td>\n",
       "      <td>0.435500</td>\n",
       "      <td>0.417528</td>\n",
       "      <td>0.385001</td>\n",
       "      <td>0.378024</td>\n",
       "      <td>0.148659</td>\n",
       "      <td>0.351635</td>\n",
       "      <td>0.197938</td>\n",
       "      <td>0.011935</td>\n",
       "      <td>0.061075</td>\n",
       "      <td>...</td>\n",
       "      <td>-9999.0</td>\n",
       "      <td>-9999.0</td>\n",
       "      <td>-9999.0</td>\n",
       "      <td>0.0</td>\n",
       "      <td>2.0</td>\n",
       "      <td>VNP02MOD.A2018359.0418.001.2018359143238.nc</td>\n",
       "      <td>CLDPROP_L2_VIIRS_SNPP.A2018359.0418.011.201923...</td>\n",
       "      <td>612.0</td>\n",
       "      <td>2341.0</td>\n",
       "      <td>1</td>\n",
       "    </tr>\n",
       "    <tr>\n",
       "      <th>9996</th>\n",
       "      <td>0.235583</td>\n",
       "      <td>0.178966</td>\n",
       "      <td>0.123669</td>\n",
       "      <td>0.068752</td>\n",
       "      <td>0.033806</td>\n",
       "      <td>0.023750</td>\n",
       "      <td>0.014894</td>\n",
       "      <td>0.005878</td>\n",
       "      <td>0.001299</td>\n",
       "      <td>0.003678</td>\n",
       "      <td>...</td>\n",
       "      <td>-9999.0</td>\n",
       "      <td>-9999.0</td>\n",
       "      <td>-9999.0</td>\n",
       "      <td>3.0</td>\n",
       "      <td>0.0</td>\n",
       "      <td>VNP02MOD.A2018359.2130.001.2018360050314.nc</td>\n",
       "      <td>CLDPROP_L2_VIIRS_SNPP.A2018359.2130.011.201923...</td>\n",
       "      <td>2146.0</td>\n",
       "      <td>370.0</td>\n",
       "      <td>1</td>\n",
       "    </tr>\n",
       "    <tr>\n",
       "      <th>9997</th>\n",
       "      <td>0.346317</td>\n",
       "      <td>0.314031</td>\n",
       "      <td>0.285942</td>\n",
       "      <td>0.241960</td>\n",
       "      <td>0.232424</td>\n",
       "      <td>0.151977</td>\n",
       "      <td>0.222088</td>\n",
       "      <td>0.208014</td>\n",
       "      <td>0.092062</td>\n",
       "      <td>0.163932</td>\n",
       "      <td>...</td>\n",
       "      <td>-9999.0</td>\n",
       "      <td>27.0</td>\n",
       "      <td>-9999.0</td>\n",
       "      <td>0.0</td>\n",
       "      <td>0.0</td>\n",
       "      <td>VNP02MOD.A2018359.0618.001.2018359162612.nc</td>\n",
       "      <td>CLDPROP_L2_VIIRS_SNPP.A2018359.0618.011.201923...</td>\n",
       "      <td>625.0</td>\n",
       "      <td>1486.0</td>\n",
       "      <td>0</td>\n",
       "    </tr>\n",
       "    <tr>\n",
       "      <th>9998</th>\n",
       "      <td>0.584699</td>\n",
       "      <td>0.561089</td>\n",
       "      <td>0.544815</td>\n",
       "      <td>0.510669</td>\n",
       "      <td>0.521565</td>\n",
       "      <td>0.145640</td>\n",
       "      <td>0.533660</td>\n",
       "      <td>0.508770</td>\n",
       "      <td>0.037724</td>\n",
       "      <td>0.378944</td>\n",
       "      <td>...</td>\n",
       "      <td>-9999.0</td>\n",
       "      <td>102.0</td>\n",
       "      <td>-9999.0</td>\n",
       "      <td>0.0</td>\n",
       "      <td>0.0</td>\n",
       "      <td>VNP02MOD.A2018359.2124.001.2018360034743.nc</td>\n",
       "      <td>CLDPROP_L2_VIIRS_SNPP.A2018359.2124.011.201923...</td>\n",
       "      <td>1113.0</td>\n",
       "      <td>3198.0</td>\n",
       "      <td>1</td>\n",
       "    </tr>\n",
       "    <tr>\n",
       "      <th>9999</th>\n",
       "      <td>0.146819</td>\n",
       "      <td>0.132106</td>\n",
       "      <td>0.115292</td>\n",
       "      <td>0.090563</td>\n",
       "      <td>0.081227</td>\n",
       "      <td>0.078708</td>\n",
       "      <td>0.071830</td>\n",
       "      <td>0.038984</td>\n",
       "      <td>0.000940</td>\n",
       "      <td>0.009956</td>\n",
       "      <td>...</td>\n",
       "      <td>-9999.0</td>\n",
       "      <td>-9999.0</td>\n",
       "      <td>-9999.0</td>\n",
       "      <td>3.0</td>\n",
       "      <td>2.0</td>\n",
       "      <td>VNP02MOD.A2018359.0736.001.2018359154840.nc</td>\n",
       "      <td>CLDPROP_L2_VIIRS_SNPP.A2018359.0736.011.201923...</td>\n",
       "      <td>3162.0</td>\n",
       "      <td>1380.0</td>\n",
       "      <td>1</td>\n",
       "    </tr>\n",
       "  </tbody>\n",
       "</table>\n",
       "<p>10000 rows × 47 columns</p>\n",
       "</div>"
      ],
      "text/plain": [
       "           M01       M02       M03       M04       M05       M06       M07  \\\n",
       "0     0.491657  0.481721  0.474185  0.443057  0.464948  0.143361  0.483081   \n",
       "1     0.144121  0.115252  0.086384  0.055897  0.034686  0.028088  0.021671   \n",
       "2     0.434781  0.419167  0.403194  0.366349  0.378984  0.146240  0.393498   \n",
       "3     0.209574  0.205015  0.199558  0.179466  0.190921  0.145760  0.201157   \n",
       "4     0.205795  0.179546  0.158535  0.131926  0.118771  0.113653  0.111534   \n",
       "...        ...       ...       ...       ...       ...       ...       ...   \n",
       "9995  0.453733  0.435500  0.417528  0.385001  0.378024  0.148659  0.351635   \n",
       "9996  0.235583  0.178966  0.123669  0.068752  0.033806  0.023750  0.014894   \n",
       "9997  0.346317  0.314031  0.285942  0.241960  0.232424  0.151977  0.222088   \n",
       "9998  0.584699  0.561089  0.544815  0.510669  0.521565  0.145640  0.533660   \n",
       "9999  0.146819  0.132106  0.115292  0.090563  0.081227  0.078708  0.071830   \n",
       "\n",
       "           M08       M09       M10  ...  viirs_Cloud_Effective_Radius_37_PCL  \\\n",
       "0     0.455992  0.017473  0.362790  ...                              -9999.0   \n",
       "1     0.015674  0.000700  0.013115  ...                              -9999.0   \n",
       "2     0.355553  0.025909  0.210773  ...                              -9999.0   \n",
       "3     0.167111  0.088464  0.074449  ...                              -9999.0   \n",
       "4     0.099979  0.007817  0.091282  ...                              -9999.0   \n",
       "...        ...       ...       ...  ...                                  ...   \n",
       "9995  0.197938  0.011935  0.061075  ...                              -9999.0   \n",
       "9996  0.005878  0.001299  0.003678  ...                              -9999.0   \n",
       "9997  0.208014  0.092062  0.163932  ...                              -9999.0   \n",
       "9998  0.508770  0.037724  0.378944  ...                              -9999.0   \n",
       "9999  0.038984  0.000940  0.009956  ...                              -9999.0   \n",
       "\n",
       "      viirs_Cloud_Water_Path  viirs_Cloud_Water_Path_PCL  viirs_Cloud_Mask  \\\n",
       "0                      125.0                     -9999.0               0.0   \n",
       "1                    -9999.0                     -9999.0               1.0   \n",
       "2                      354.0                     -9999.0               0.0   \n",
       "3                      299.0                     -9999.0               0.0   \n",
       "4                       45.0                     -9999.0               0.0   \n",
       "...                      ...                         ...               ...   \n",
       "9995                 -9999.0                     -9999.0               0.0   \n",
       "9996                 -9999.0                     -9999.0               3.0   \n",
       "9997                    27.0                     -9999.0               0.0   \n",
       "9998                   102.0                     -9999.0               0.0   \n",
       "9999                 -9999.0                     -9999.0               3.0   \n",
       "\n",
       "      viirs_Surface                                VNP02MOD_file  \\\n",
       "0               0.0  VNP02MOD.A2018359.0930.001.2018359171148.nc   \n",
       "1               0.0  VNP02MOD.A2018359.1318.001.2018359205511.nc   \n",
       "2               0.0  VNP02MOD.A2018359.2118.001.2018360025359.nc   \n",
       "3               3.0  VNP02MOD.A2018359.1000.001.2018359203016.nc   \n",
       "4               0.0  VNP02MOD.A2018359.0300.001.2018359121049.nc   \n",
       "...             ...                                          ...   \n",
       "9995            2.0  VNP02MOD.A2018359.0418.001.2018359143238.nc   \n",
       "9996            0.0  VNP02MOD.A2018359.2130.001.2018360050314.nc   \n",
       "9997            0.0  VNP02MOD.A2018359.0618.001.2018359162612.nc   \n",
       "9998            0.0  VNP02MOD.A2018359.2124.001.2018360034743.nc   \n",
       "9999            2.0  VNP02MOD.A2018359.0736.001.2018359154840.nc   \n",
       "\n",
       "                             CLDPROP_L2_VIIRS_SNPP_file  along track idx  \\\n",
       "0     CLDPROP_L2_VIIRS_SNPP.A2018359.0930.011.201923...           1450.0   \n",
       "1     CLDPROP_L2_VIIRS_SNPP.A2018359.1318.011.201923...            988.0   \n",
       "2     CLDPROP_L2_VIIRS_SNPP.A2018359.2118.011.201923...           2121.0   \n",
       "3     CLDPROP_L2_VIIRS_SNPP.A2018359.1000.011.201923...           1453.0   \n",
       "4     CLDPROP_L2_VIIRS_SNPP.A2018359.0300.011.201923...            677.0   \n",
       "...                                                 ...              ...   \n",
       "9995  CLDPROP_L2_VIIRS_SNPP.A2018359.0418.011.201923...            612.0   \n",
       "9996  CLDPROP_L2_VIIRS_SNPP.A2018359.2130.011.201923...           2146.0   \n",
       "9997  CLDPROP_L2_VIIRS_SNPP.A2018359.0618.011.201923...            625.0   \n",
       "9998  CLDPROP_L2_VIIRS_SNPP.A2018359.2124.011.201923...           1113.0   \n",
       "9999  CLDPROP_L2_VIIRS_SNPP.A2018359.0736.011.201923...           3162.0   \n",
       "\n",
       "      cross track idx  prediction  \n",
       "0               469.0           1  \n",
       "1              2305.0           1  \n",
       "2              1039.0           1  \n",
       "3               997.0           2  \n",
       "4              2362.0           1  \n",
       "...               ...         ...  \n",
       "9995           2341.0           1  \n",
       "9996            370.0           1  \n",
       "9997           1486.0           0  \n",
       "9998           3198.0           1  \n",
       "9999           1380.0           1  \n",
       "\n",
       "[10000 rows x 47 columns]"
      ]
     },
     "execution_count": 18,
     "metadata": {},
     "output_type": "execute_result"
    }
   ],
   "source": [
    "if path.exists(file):\n",
    "    with pd.HDFStore(file) as store:\n",
    "        data = store['sample']\n",
    "\n",
    "data"
   ]
  },
  {
   "cell_type": "code",
   "execution_count": 19,
   "id": "d26a3890",
   "metadata": {},
   "outputs": [
    {
     "data": {
      "text/html": [
       "<div>\n",
       "<style scoped>\n",
       "    .dataframe tbody tr th:only-of-type {\n",
       "        vertical-align: middle;\n",
       "    }\n",
       "\n",
       "    .dataframe tbody tr th {\n",
       "        vertical-align: top;\n",
       "    }\n",
       "\n",
       "    .dataframe thead th {\n",
       "        text-align: right;\n",
       "    }\n",
       "</style>\n",
       "<table border=\"1\" class=\"dataframe\">\n",
       "  <thead>\n",
       "    <tr style=\"text-align: right;\">\n",
       "      <th></th>\n",
       "      <th>M01</th>\n",
       "      <th>M02</th>\n",
       "      <th>M03</th>\n",
       "      <th>M04</th>\n",
       "      <th>M05</th>\n",
       "      <th>M06</th>\n",
       "      <th>M07</th>\n",
       "      <th>M08</th>\n",
       "      <th>M09</th>\n",
       "      <th>M10</th>\n",
       "      <th>...</th>\n",
       "      <th>viirs_Cloud_Effective_Radius_37_PCL</th>\n",
       "      <th>viirs_Cloud_Water_Path</th>\n",
       "      <th>viirs_Cloud_Water_Path_PCL</th>\n",
       "      <th>viirs_Cloud_Mask</th>\n",
       "      <th>viirs_Surface</th>\n",
       "      <th>VNP02MOD_file</th>\n",
       "      <th>CLDPROP_L2_VIIRS_SNPP_file</th>\n",
       "      <th>along track idx</th>\n",
       "      <th>cross track idx</th>\n",
       "      <th>prediction</th>\n",
       "    </tr>\n",
       "  </thead>\n",
       "  <tbody>\n",
       "    <tr>\n",
       "      <th>0</th>\n",
       "      <td>0.491657</td>\n",
       "      <td>0.481721</td>\n",
       "      <td>0.474185</td>\n",
       "      <td>0.443057</td>\n",
       "      <td>0.464948</td>\n",
       "      <td>0.143361</td>\n",
       "      <td>0.483081</td>\n",
       "      <td>0.455992</td>\n",
       "      <td>0.017473</td>\n",
       "      <td>0.362790</td>\n",
       "      <td>...</td>\n",
       "      <td>-9999.0</td>\n",
       "      <td>125.0</td>\n",
       "      <td>-9999.0</td>\n",
       "      <td>0.0</td>\n",
       "      <td>0.0</td>\n",
       "      <td>VNP02MOD.A2018359.0930.001.2018359171148.nc</td>\n",
       "      <td>CLDPROP_L2_VIIRS_SNPP.A2018359.0930.011.201923...</td>\n",
       "      <td>1450.0</td>\n",
       "      <td>469.0</td>\n",
       "      <td>1</td>\n",
       "    </tr>\n",
       "    <tr>\n",
       "      <th>1</th>\n",
       "      <td>0.144121</td>\n",
       "      <td>0.115252</td>\n",
       "      <td>0.086384</td>\n",
       "      <td>0.055897</td>\n",
       "      <td>0.034686</td>\n",
       "      <td>0.028088</td>\n",
       "      <td>0.021671</td>\n",
       "      <td>0.015674</td>\n",
       "      <td>0.000700</td>\n",
       "      <td>0.013115</td>\n",
       "      <td>...</td>\n",
       "      <td>-9999.0</td>\n",
       "      <td>-9999.0</td>\n",
       "      <td>-9999.0</td>\n",
       "      <td>1.0</td>\n",
       "      <td>0.0</td>\n",
       "      <td>VNP02MOD.A2018359.1318.001.2018359205511.nc</td>\n",
       "      <td>CLDPROP_L2_VIIRS_SNPP.A2018359.1318.011.201923...</td>\n",
       "      <td>988.0</td>\n",
       "      <td>2305.0</td>\n",
       "      <td>1</td>\n",
       "    </tr>\n",
       "    <tr>\n",
       "      <th>2</th>\n",
       "      <td>0.434781</td>\n",
       "      <td>0.419167</td>\n",
       "      <td>0.403194</td>\n",
       "      <td>0.366349</td>\n",
       "      <td>0.378984</td>\n",
       "      <td>0.146240</td>\n",
       "      <td>0.393498</td>\n",
       "      <td>0.355553</td>\n",
       "      <td>0.025909</td>\n",
       "      <td>0.210773</td>\n",
       "      <td>...</td>\n",
       "      <td>-9999.0</td>\n",
       "      <td>354.0</td>\n",
       "      <td>-9999.0</td>\n",
       "      <td>0.0</td>\n",
       "      <td>0.0</td>\n",
       "      <td>VNP02MOD.A2018359.2118.001.2018360025359.nc</td>\n",
       "      <td>CLDPROP_L2_VIIRS_SNPP.A2018359.2118.011.201923...</td>\n",
       "      <td>2121.0</td>\n",
       "      <td>1039.0</td>\n",
       "      <td>1</td>\n",
       "    </tr>\n",
       "    <tr>\n",
       "      <th>3</th>\n",
       "      <td>0.209574</td>\n",
       "      <td>0.205015</td>\n",
       "      <td>0.199558</td>\n",
       "      <td>0.179466</td>\n",
       "      <td>0.190921</td>\n",
       "      <td>0.145760</td>\n",
       "      <td>0.201157</td>\n",
       "      <td>0.167111</td>\n",
       "      <td>0.088464</td>\n",
       "      <td>0.074449</td>\n",
       "      <td>...</td>\n",
       "      <td>-9999.0</td>\n",
       "      <td>299.0</td>\n",
       "      <td>-9999.0</td>\n",
       "      <td>0.0</td>\n",
       "      <td>3.0</td>\n",
       "      <td>VNP02MOD.A2018359.1000.001.2018359203016.nc</td>\n",
       "      <td>CLDPROP_L2_VIIRS_SNPP.A2018359.1000.011.201923...</td>\n",
       "      <td>1453.0</td>\n",
       "      <td>997.0</td>\n",
       "      <td>2</td>\n",
       "    </tr>\n",
       "    <tr>\n",
       "      <th>4</th>\n",
       "      <td>0.205795</td>\n",
       "      <td>0.179546</td>\n",
       "      <td>0.158535</td>\n",
       "      <td>0.131926</td>\n",
       "      <td>0.118771</td>\n",
       "      <td>0.113653</td>\n",
       "      <td>0.111534</td>\n",
       "      <td>0.099979</td>\n",
       "      <td>0.007817</td>\n",
       "      <td>0.091282</td>\n",
       "      <td>...</td>\n",
       "      <td>-9999.0</td>\n",
       "      <td>45.0</td>\n",
       "      <td>-9999.0</td>\n",
       "      <td>0.0</td>\n",
       "      <td>0.0</td>\n",
       "      <td>VNP02MOD.A2018359.0300.001.2018359121049.nc</td>\n",
       "      <td>CLDPROP_L2_VIIRS_SNPP.A2018359.0300.011.201923...</td>\n",
       "      <td>677.0</td>\n",
       "      <td>2362.0</td>\n",
       "      <td>1</td>\n",
       "    </tr>\n",
       "  </tbody>\n",
       "</table>\n",
       "<p>5 rows × 47 columns</p>\n",
       "</div>"
      ],
      "text/plain": [
       "        M01       M02       M03       M04       M05       M06       M07  \\\n",
       "0  0.491657  0.481721  0.474185  0.443057  0.464948  0.143361  0.483081   \n",
       "1  0.144121  0.115252  0.086384  0.055897  0.034686  0.028088  0.021671   \n",
       "2  0.434781  0.419167  0.403194  0.366349  0.378984  0.146240  0.393498   \n",
       "3  0.209574  0.205015  0.199558  0.179466  0.190921  0.145760  0.201157   \n",
       "4  0.205795  0.179546  0.158535  0.131926  0.118771  0.113653  0.111534   \n",
       "\n",
       "        M08       M09       M10  ...  viirs_Cloud_Effective_Radius_37_PCL  \\\n",
       "0  0.455992  0.017473  0.362790  ...                              -9999.0   \n",
       "1  0.015674  0.000700  0.013115  ...                              -9999.0   \n",
       "2  0.355553  0.025909  0.210773  ...                              -9999.0   \n",
       "3  0.167111  0.088464  0.074449  ...                              -9999.0   \n",
       "4  0.099979  0.007817  0.091282  ...                              -9999.0   \n",
       "\n",
       "   viirs_Cloud_Water_Path  viirs_Cloud_Water_Path_PCL  viirs_Cloud_Mask  \\\n",
       "0                   125.0                     -9999.0               0.0   \n",
       "1                 -9999.0                     -9999.0               1.0   \n",
       "2                   354.0                     -9999.0               0.0   \n",
       "3                   299.0                     -9999.0               0.0   \n",
       "4                    45.0                     -9999.0               0.0   \n",
       "\n",
       "   viirs_Surface                                VNP02MOD_file  \\\n",
       "0            0.0  VNP02MOD.A2018359.0930.001.2018359171148.nc   \n",
       "1            0.0  VNP02MOD.A2018359.1318.001.2018359205511.nc   \n",
       "2            0.0  VNP02MOD.A2018359.2118.001.2018360025359.nc   \n",
       "3            3.0  VNP02MOD.A2018359.1000.001.2018359203016.nc   \n",
       "4            0.0  VNP02MOD.A2018359.0300.001.2018359121049.nc   \n",
       "\n",
       "                          CLDPROP_L2_VIIRS_SNPP_file  along track idx  \\\n",
       "0  CLDPROP_L2_VIIRS_SNPP.A2018359.0930.011.201923...           1450.0   \n",
       "1  CLDPROP_L2_VIIRS_SNPP.A2018359.1318.011.201923...            988.0   \n",
       "2  CLDPROP_L2_VIIRS_SNPP.A2018359.2118.011.201923...           2121.0   \n",
       "3  CLDPROP_L2_VIIRS_SNPP.A2018359.1000.011.201923...           1453.0   \n",
       "4  CLDPROP_L2_VIIRS_SNPP.A2018359.0300.011.201923...            677.0   \n",
       "\n",
       "   cross track idx  prediction  \n",
       "0            469.0           1  \n",
       "1           2305.0           1  \n",
       "2           1039.0           1  \n",
       "3            997.0           2  \n",
       "4           2362.0           1  \n",
       "\n",
       "[5 rows x 47 columns]"
      ]
     },
     "execution_count": 19,
     "metadata": {},
     "output_type": "execute_result"
    }
   ],
   "source": [
    "data.head()"
   ]
  },
  {
   "cell_type": "code",
   "execution_count": 20,
   "id": "d0646024",
   "metadata": {},
   "outputs": [
    {
     "data": {
      "text/plain": [
       "Index(['M01', 'M02', 'M03', 'M04', 'M05', 'M06', 'M07', 'M08', 'M09', 'M10',\n",
       "       'M11', 'M12', 'M13', 'M14', 'M15', 'M16', 'latitude', 'longitude',\n",
       "       'viirs_solar_zenith', 'viirs_sensor_zenith', 'viirs_solar_azimuth',\n",
       "       'viirs_sensor_azimuth', 'viirs_Cloud_Top_Temperature',\n",
       "       'viirs_Cloud_Top_Height', 'viirs_Cloud_Top_Pressure',\n",
       "       'viirs_Cloud_Phase_Cloud_Top_Properties',\n",
       "       'viirs_Cloud_Optical_Thickness', 'viirs_Cloud_Optical_Thickness_PCL',\n",
       "       'viirs_Cloud_Optical_Thickness_16',\n",
       "       'viirs_Cloud_Optical_Thickness_16_PCL',\n",
       "       'viirs_Cloud_Optical_Thickness_37',\n",
       "       'viirs_Cloud_Optical_Thickness_37_PCL', 'viirs_Cloud_Effective_Radius',\n",
       "       'viirs_Cloud_Effective_Radius_PCL', 'viirs_Cloud_Effective_Radius_16',\n",
       "       'viirs_Cloud_Effective_Radius_16_PCL',\n",
       "       'viirs_Cloud_Effective_Radius_37',\n",
       "       'viirs_Cloud_Effective_Radius_37_PCL', 'viirs_Cloud_Water_Path',\n",
       "       'viirs_Cloud_Water_Path_PCL', 'viirs_Cloud_Mask', 'viirs_Surface',\n",
       "       'VNP02MOD_file', 'CLDPROP_L2_VIIRS_SNPP_file', 'along track idx',\n",
       "       'cross track idx', 'prediction'],\n",
       "      dtype='object')"
      ]
     },
     "execution_count": 20,
     "metadata": {},
     "output_type": "execute_result"
    }
   ],
   "source": [
    "data.columns"
   ]
  },
  {
   "cell_type": "code",
   "execution_count": 27,
   "id": "5ad6c888",
   "metadata": {},
   "outputs": [
    {
     "data": {
      "text/plain": [
       "['M01',\n",
       " 'M02',\n",
       " 'M03',\n",
       " 'M04',\n",
       " 'M05',\n",
       " 'M06',\n",
       " 'M07',\n",
       " 'M08',\n",
       " 'M09',\n",
       " 'M10',\n",
       " 'M11',\n",
       " 'M12',\n",
       " 'M13',\n",
       " 'M14',\n",
       " 'M15',\n",
       " 'M16']"
      ]
     },
     "execution_count": 27,
     "metadata": {},
     "output_type": "execute_result"
    }
   ],
   "source": [
    "bands = ['M{:02d}'.format(i+1) for i in range(16)]\n",
    "bands"
   ]
  },
  {
   "cell_type": "code",
   "execution_count": 33,
   "id": "63b83fca",
   "metadata": {
    "scrolled": false
   },
   "outputs": [
    {
     "data": {
      "image/png": "[encoded data removed]",
      "text/plain": [
       "<Figure size 432x288 with 1 Axes>"
      ]
     },
     "metadata": {
      "needs_background": "light"
     },
     "output_type": "display_data"
    },
    {
     "data": {
      "image/png": "[encoded data removed]",
      "text/plain": [
       "<Figure size 432x288 with 1 Axes>"
      ]
     },
     "metadata": {
      "needs_background": "light"
     },
     "output_type": "display_data"
    },
    {
     "data": {
      "image/png": "[encoded data removed]",
      "text/plain": [
       "<Figure size 432x288 with 1 Axes>"
      ]
     },
     "metadata": {
      "needs_background": "light"
     },
     "output_type": "display_data"
    },
    {
     "data": {
      "image/png": "[encoded data removed]",
      "text/plain": [
       "<Figure size 432x288 with 1 Axes>"
      ]
     },
     "metadata": {
      "needs_background": "light"
     },
     "output_type": "display_data"
    },
    {
     "data": {
      "image/png": "[encoded data removed]",
      "text/plain": [
       "<Figure size 432x288 with 1 Axes>"
      ]
     },
     "metadata": {
      "needs_background": "light"
     },
     "output_type": "display_data"
    },
    {
     "data": {
      "image/png": "[encoded data removed]",
      "text/plain": [
       "<Figure size 432x288 with 1 Axes>"
      ]
     },
     "metadata": {
      "needs_background": "light"
     },
     "output_type": "display_data"
    },
    {
     "data": {
      "image/png": "[encoded data removed]",
      "text/plain": [
       "<Figure size 432x288 with 1 Axes>"
      ]
     },
     "metadata": {
      "needs_background": "light"
     },
     "output_type": "display_data"
    },
    {
     "data": {
      "image/png": "[encoded data removed]",
      "text/plain": [
       "<Figure size 432x288 with 1 Axes>"
      ]
     },
     "metadata": {
      "needs_background": "light"
     },
     "output_type": "display_data"
    },
    {
     "data": {
      "image/png": "[encoded data removed]",
      "text/plain": [
       "<Figure size 432x288 with 1 Axes>"
      ]
     },
     "metadata": {
      "needs_background": "light"
     },
     "output_type": "display_data"
    },
    {
     "data": {
      "image/png": "[encoded data removed]",
      "text/plain": [
       "<Figure size 432x288 with 1 Axes>"
      ]
     },
     "metadata": {
      "needs_background": "light"
     },
     "output_type": "display_data"
    },
    {
     "data": {
      "image/png": "[encoded data removed]",
      "text/plain": [
       "<Figure size 432x288 with 1 Axes>"
      ]
     },
     "metadata": {
      "needs_background": "light"
     },
     "output_type": "display_data"
    },
    {
     "data": {
      "image/png": "[encoded data removed]",
      "text/plain": [
       "<Figure size 432x288 with 1 Axes>"
      ]
     },
     "metadata": {
      "needs_background": "light"
     },
     "output_type": "display_data"
    },
    {
     "data": {
      "image/png": "[encoded data removed]",
      "text/plain": [
       "<Figure size 432x288 with 1 Axes>"
      ]
     },
     "metadata": {
      "needs_background": "light"
     },
     "output_type": "display_data"
    },
    {
     "data": {
      "image/png": "[encoded data removed]",
      "text/plain": [
       "<Figure size 432x288 with 1 Axes>"
      ]
     },
     "metadata": {
      "needs_background": "light"
     },
     "output_type": "display_data"
    },
    {
     "data": {
      "image/png": "[encoded data removed]",
      "text/plain": [
       "<Figure size 432x288 with 1 Axes>"
      ]
     },
     "metadata": {
      "needs_background": "light"
     },
     "output_type": "display_data"
    },
    {
     "data": {
      "image/png": "[encoded data removed]",
      "text/plain": [
       "<Figure size 432x288 with 1 Axes>"
      ]
     },
     "metadata": {
      "needs_background": "light"
     },
     "output_type": "display_data"
    }
   ],
   "source": [
    "for band in bands:\n",
    "    data[band].hist()\n",
    "    plt.title(band,fontsize=14)\n",
    "    plt.show()\n",
    "    plt.close()"
   ]
  },
  {
   "cell_type": "code",
   "execution_count": null,
   "id": "b380a700",
   "metadata": {},
   "outputs": [],
   "source": []
  },
  {
   "cell_type": "code",
   "execution_count": 34,
   "id": "cdc29a1e",
   "metadata": {
    "scrolled": false
   },
   "outputs": [
    {
     "name": "stdout",
     "output_type": "stream",
     "text": [
      "(10000, 47)\n",
      "(10000, 47)\n",
      "(10000, 47)\n",
      "(9999, 47)\n",
      "(10000, 47)\n",
      "(9999, 47)\n",
      "(10000, 47)\n",
      "(10000, 47)\n",
      "(10000, 47)\n",
      "(10000, 47)\n",
      "(10000, 47)\n",
      "(10000, 47)\n",
      "(10000, 47)\n",
      "(10000, 47)\n",
      "(10000, 47)\n",
      "(10000, 47)\n",
      "(10000, 47)\n",
      "(10000, 47)\n",
      "(10000, 47)\n",
      "(10000, 47)\n",
      "(10000, 47)\n",
      "(9999, 47)\n",
      "(10000, 47)\n",
      "(10000, 47)\n",
      "(10000, 47)\n",
      "(10000, 47)\n",
      "(10000, 47)\n",
      "(10000, 47)\n",
      "(10000, 47)\n",
      "(10000, 47)\n",
      "(10000, 47)\n",
      "(10000, 47)\n",
      "(10000, 47)\n",
      "(10000, 47)\n",
      "(10000, 47)\n",
      "(10000, 47)\n",
      "(10000, 47)\n",
      "(10000, 47)\n",
      "(10000, 47)\n",
      "(10000, 47)\n",
      "(10000, 47)\n",
      "(10000, 47)\n",
      "(9999, 47)\n",
      "(10000, 47)\n",
      "(10000, 47)\n",
      "(10000, 47)\n",
      "(10000, 47)\n",
      "(10000, 47)\n",
      "(10000, 47)\n",
      "(10000, 47)\n",
      "(10000, 47)\n",
      "(10000, 47)\n",
      "(10000, 47)\n",
      "(10000, 47)\n",
      "(10000, 47)\n",
      "(10000, 47)\n",
      "(10000, 47)\n",
      "(10000, 47)\n",
      "(10000, 47)\n",
      "(10000, 47)\n"
     ]
    }
   ],
   "source": [
    "for file in sample_list:\n",
    "    \n",
    "    if path.exists(file):\n",
    "        with pd.HDFStore(file) as store:\n",
    "            data = store['sample']\n",
    "\n",
    "    #print(data.shape)\n",
    "    \n",
    "    print(data[ data['M01'] > 0.0 ].shape )"
   ]
  },
  {
   "cell_type": "code",
   "execution_count": null,
   "id": "2c167421",
   "metadata": {},
   "outputs": [],
   "source": []
  },
  {
   "cell_type": "code",
   "execution_count": null,
   "id": "a9d56027",
   "metadata": {},
   "outputs": [],
   "source": []
  },
  {
   "cell_type": "code",
   "execution_count": null,
   "id": "d37cc95e",
   "metadata": {},
   "outputs": [],
   "source": []
  },
  {
   "cell_type": "code",
   "execution_count": null,
   "id": "a9cf6030",
   "metadata": {},
   "outputs": [],
   "source": []
  },
  {
   "cell_type": "code",
   "execution_count": null,
   "id": "27150e19",
   "metadata": {},
   "outputs": [],
   "source": []
  }
 ],
 "metadata": {
  "kernelspec": {
   "display_name": "worklab",
   "language": "python",
   "name": "worklab"
  },
  "language_info": {
   "codemirror_mode": {
    "name": "ipython",
    "version": 3
   },
   "file_extension": ".py",
   "mimetype": "text/x-python",
   "name": "python",
   "nbconvert_exporter": "python",
   "pygments_lexer": "ipython3",
   "version": "3.8.8"
  }
 },
 "nbformat": 4,
 "nbformat_minor": 5
}
