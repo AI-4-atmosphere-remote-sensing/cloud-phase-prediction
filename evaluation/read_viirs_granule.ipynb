{
  "nbformat": 4,
  "nbformat_minor": 0,
  "metadata": {
    "colab": {
      "name": "read_viirs_granule.ipynb",
      "provenance": []
    },
    "kernelspec": {
      "name": "python3",
      "display_name": "Python 3"
    },
    "language_info": {
      "name": "python"
    }
  },
  "cells": [
    {
      "cell_type": "markdown",
      "source": [
        "**This code is an example of loading necessary information from the 2 VIIRS files as model input.**"
      ],
      "metadata": {
        "id": "mEJ-pdzvqwGV"
      }
    },
    {
      "cell_type": "markdown",
      "source": [
        "Step 1: Import Python Libs"
      ],
      "metadata": {
        "id": "5TVUZ-Mor4FM"
      }
    },
    {
      "cell_type": "code",
      "execution_count": null,
      "metadata": {
        "id": "bcFrokikoQp5"
      },
      "outputs": [],
      "source": [
        "from netCDF4 import Dataset\n",
        "import os, glob\n",
        "import numpy as np\n",
        "import h5py"
      ]
    },
    {
      "cell_type": "code",
      "source": [
        "from google.colab import drive\n",
        "drive.mount('content/')"
      ],
      "metadata": {
        "colab": {
          "base_uri": "https://localhost:8080/"
        },
        "id": "feBSQ52rvxuw",
        "outputId": "b4ccb75e-caa9-49ae-eef7-5a66ce8a62c6"
      },
      "execution_count": null,
      "outputs": [
        {
          "output_type": "stream",
          "name": "stdout",
          "text": [
            "Drive already mounted at content/; to attempt to forcibly remount, call drive.mount(\"content/\", force_remount=True).\n"
          ]
        }
      ]
    },
    {
      "cell_type": "markdown",
      "source": [
        "Step 2: Mount Google Drive and define VIIRS files"
      ],
      "metadata": {
        "id": "1In2GXxkr-Yk"
      }
    },
    {
      "cell_type": "code",
      "source": [
        "#here I just give the VIIRS location:\n",
        "# v02_path = '/content/content/My Drive/Colab Notebooks/Chenxi_Shared_Research/Data/VIIRS/'\n",
        "# v03_path = '/content/content/My Drive/Colab Notebooks//Chenxi_Shared_Research/Data/VIIRS/'\n",
        "# v02_path = '/content/drive/MyDrive/Chenxi_Shared_Research/Data/VIIRS/'\n",
        "# v03_path = '/content/drive/MyDrive/Chenxi_Shared_Research/Data/VIIRS/'\n",
        "v02_path = '/content/content/My Drive/Colab Notebooks/chenxi/Data/VIIRS/'\n",
        "v03_path = '/content/content/My Drive/Colab Notebooks/chenxi/Data/VIIRS/'\n",
        "# data = np.load(v03_path + 'VNP03MOD.A2014187.0200.001.2017255041028.nc')\n",
        "\n",
        "viirs_timeflag = '2014187.0200'\n",
        "v02_file = glob.glob(v02_path+'VNP02*'+viirs_timeflag+'*.nc')[0]\n",
        "v03_file = glob.glob(v03_path+'VNP03*'+viirs_timeflag+'*.nc')[0]"
      ],
      "metadata": {
        "id": "cBIbvBsNreYL"
      },
      "execution_count": null,
      "outputs": []
    },
    {
      "cell_type": "markdown",
      "source": [
        "Step 3: Load VIIRS Geolocation file (VNP03MOD)\n",
        "\n",
        "*You will see the dimensions of each dataset are 3232 x 3200, where 3232 is the along-track dimension, and 3200 is the cross-track dimension.*"
      ],
      "metadata": {
        "id": "YcLCQhlPtR-2"
      }
    },
    {
      "cell_type": "code",
      "source": [
        "v03 = Dataset(v03_file,'r')\n",
        "v03_lon = v03['/geolocation_data/longitude'][:]\n",
        "v03_lat = v03['/geolocation_data/latitude'][:]\n",
        "v03_sza = v03['/geolocation_data/solar_zenith'][:]\n",
        "v03_vza = v03['/geolocation_data/sensor_zenith'][:]\n",
        "v03_saa = v03['/geolocation_data/solar_azimuth'][:]\n",
        "v03_vaa = v03['/geolocation_data/sensor_azimuth'][:]\n",
        "v03.close()\n",
        "\n",
        "\n",
        "print (v03_sza)\n",
        "print (v03_sza.shape)"
      ],
      "metadata": {
        "id": "FkoK2t6asnXX",
        "colab": {
          "base_uri": "https://localhost:8080/"
        },
        "outputId": "f70524d5-498e-4b2b-d49a-70aad90db419"
      },
      "execution_count": null,
      "outputs": [
        {
          "output_type": "stream",
          "name": "stdout",
          "text": [
            "[[36.85     36.84     36.829998 ... 20.99     20.98     20.98    ]\n",
            " [36.86     36.85     36.829998 ... 21.       21.       21.      ]\n",
            " [36.87     36.86     36.84     ... 21.01     21.01     21.01    ]\n",
            " ...\n",
            " [52.       51.989998 51.98     ... 41.45     41.44     41.44    ]\n",
            " [52.01     52.       51.989998 ... 41.46     41.46     41.46    ]\n",
            " [52.02     52.02     52.01     ... 41.48     41.469997 41.469997]]\n",
            "(3232, 3200)\n"
          ]
        }
      ]
    },
    {
      "cell_type": "code",
      "source": [
        "prediction_v = v03.createVariable('prediction', np.float64, ('longitude','latitude'))\n",
        "data_arr = np.random.uniform(low=280,high=330,size=(3232,3200))\n",
        "prediction_v[:,:] = data_arr # Appends data along unlimited dimension\n",
        "print(\"-- Wrote data, prediction_v.shape is now \", prediction_v.shape)\n",
        "print(\"-- Min/Max values:\", prediction_v[:,:].min(), prediction_v[:,:].max())\n"
      ],
      "metadata": {
        "colab": {
          "base_uri": "https://localhost:8080/",
          "height": 603
        },
        "id": "upE3TywuU2Et",
        "outputId": "3b4b3d71-d708-4fdb-9620-aa1d52ddc7c3"
      },
      "execution_count": null,
      "outputs": [
        {
          "output_type": "error",
          "ename": "ValueError",
          "evalue": "ignored",
          "traceback": [
            "\u001b[0;31m---------------------------------------------------------------------------\u001b[0m",
            "\u001b[0;31mAttributeError\u001b[0m                            Traceback (most recent call last)",
            "\u001b[0;32m/usr/local/lib/python3.7/dist-packages/netCDF4/utils.py\u001b[0m in \u001b[0;36m_find_dim\u001b[0;34m(grp, dimname)\u001b[0m\n\u001b[1;32m     40\u001b[0m         \u001b[0;32mtry\u001b[0m\u001b[0;34m:\u001b[0m\u001b[0;34m\u001b[0m\u001b[0;34m\u001b[0m\u001b[0m\n\u001b[0;32m---> 41\u001b[0;31m             \u001b[0mdim\u001b[0m \u001b[0;34m=\u001b[0m \u001b[0mgroup\u001b[0m\u001b[0;34m.\u001b[0m\u001b[0mdimensions\u001b[0m\u001b[0;34m[\u001b[0m\u001b[0mdimname\u001b[0m\u001b[0;34m]\u001b[0m\u001b[0;34m\u001b[0m\u001b[0;34m\u001b[0m\u001b[0m\n\u001b[0m\u001b[1;32m     42\u001b[0m             \u001b[0;32mbreak\u001b[0m\u001b[0;34m\u001b[0m\u001b[0;34m\u001b[0m\u001b[0m\n",
            "\u001b[0;31mAttributeError\u001b[0m: 'NoneType' object has no attribute 'dimensions'",
            "\nDuring handling of the above exception, another exception occurred:\n",
            "\u001b[0;31mAttributeError\u001b[0m                            Traceback (most recent call last)",
            "\u001b[0;32m/usr/local/lib/python3.7/dist-packages/netCDF4/utils.py\u001b[0m in \u001b[0;36m_find_dim\u001b[0;34m(grp, dimname)\u001b[0m\n\u001b[1;32m     44\u001b[0m             \u001b[0;32mtry\u001b[0m\u001b[0;34m:\u001b[0m\u001b[0;34m\u001b[0m\u001b[0;34m\u001b[0m\u001b[0m\n\u001b[0;32m---> 45\u001b[0;31m                 \u001b[0mgroup\u001b[0m \u001b[0;34m=\u001b[0m \u001b[0mgroup\u001b[0m\u001b[0;34m.\u001b[0m\u001b[0mparent\u001b[0m\u001b[0;34m\u001b[0m\u001b[0;34m\u001b[0m\u001b[0m\n\u001b[0m\u001b[1;32m     46\u001b[0m             \u001b[0;32mexcept\u001b[0m\u001b[0;34m:\u001b[0m\u001b[0;34m\u001b[0m\u001b[0;34m\u001b[0m\u001b[0m\n",
            "\u001b[0;31mAttributeError\u001b[0m: 'NoneType' object has no attribute 'parent'",
            "\nDuring handling of the above exception, another exception occurred:\n",
            "\u001b[0;31mValueError\u001b[0m                                Traceback (most recent call last)",
            "\u001b[0;32m<ipython-input-21-ce28c28d9418>\u001b[0m in \u001b[0;36m<module>\u001b[0;34m()\u001b[0m\n\u001b[0;32m----> 1\u001b[0;31m \u001b[0mprediction_v\u001b[0m \u001b[0;34m=\u001b[0m \u001b[0mv03\u001b[0m\u001b[0;34m.\u001b[0m\u001b[0mcreateVariable\u001b[0m\u001b[0;34m(\u001b[0m\u001b[0;34m'prediction'\u001b[0m\u001b[0;34m,\u001b[0m \u001b[0mnp\u001b[0m\u001b[0;34m.\u001b[0m\u001b[0mfloat64\u001b[0m\u001b[0;34m,\u001b[0m \u001b[0;34m(\u001b[0m\u001b[0;34m'longitude'\u001b[0m\u001b[0;34m,\u001b[0m\u001b[0;34m'latitude'\u001b[0m\u001b[0;34m)\u001b[0m\u001b[0;34m)\u001b[0m\u001b[0;34m\u001b[0m\u001b[0;34m\u001b[0m\u001b[0m\n\u001b[0m\u001b[1;32m      2\u001b[0m \u001b[0mdata_arr\u001b[0m \u001b[0;34m=\u001b[0m \u001b[0mnp\u001b[0m\u001b[0;34m.\u001b[0m\u001b[0mrandom\u001b[0m\u001b[0;34m.\u001b[0m\u001b[0muniform\u001b[0m\u001b[0;34m(\u001b[0m\u001b[0mlow\u001b[0m\u001b[0;34m=\u001b[0m\u001b[0;36m280\u001b[0m\u001b[0;34m,\u001b[0m\u001b[0mhigh\u001b[0m\u001b[0;34m=\u001b[0m\u001b[0;36m330\u001b[0m\u001b[0;34m,\u001b[0m\u001b[0msize\u001b[0m\u001b[0;34m=\u001b[0m\u001b[0;34m(\u001b[0m\u001b[0;36m3232\u001b[0m\u001b[0;34m,\u001b[0m\u001b[0;36m3200\u001b[0m\u001b[0;34m)\u001b[0m\u001b[0;34m)\u001b[0m\u001b[0;34m\u001b[0m\u001b[0;34m\u001b[0m\u001b[0m\n\u001b[1;32m      3\u001b[0m \u001b[0mprediction_v\u001b[0m\u001b[0;34m[\u001b[0m\u001b[0;34m:\u001b[0m\u001b[0;34m,\u001b[0m\u001b[0;34m:\u001b[0m\u001b[0;34m]\u001b[0m \u001b[0;34m=\u001b[0m \u001b[0mdata_arr\u001b[0m \u001b[0;31m# Appends data along unlimited dimension\u001b[0m\u001b[0;34m\u001b[0m\u001b[0;34m\u001b[0m\u001b[0m\n\u001b[1;32m      4\u001b[0m \u001b[0mprint\u001b[0m\u001b[0;34m(\u001b[0m\u001b[0;34m\"-- Wrote data, prediction_v.shape is now \"\u001b[0m\u001b[0;34m,\u001b[0m \u001b[0mprediction_v\u001b[0m\u001b[0;34m.\u001b[0m\u001b[0mshape\u001b[0m\u001b[0;34m)\u001b[0m\u001b[0;34m\u001b[0m\u001b[0;34m\u001b[0m\u001b[0m\n\u001b[1;32m      5\u001b[0m \u001b[0mprint\u001b[0m\u001b[0;34m(\u001b[0m\u001b[0;34m\"-- Min/Max values:\"\u001b[0m\u001b[0;34m,\u001b[0m \u001b[0mprediction_v\u001b[0m\u001b[0;34m[\u001b[0m\u001b[0;34m:\u001b[0m\u001b[0;34m,\u001b[0m\u001b[0;34m:\u001b[0m\u001b[0;34m]\u001b[0m\u001b[0;34m.\u001b[0m\u001b[0mmin\u001b[0m\u001b[0;34m(\u001b[0m\u001b[0;34m)\u001b[0m\u001b[0;34m,\u001b[0m \u001b[0mprediction_v\u001b[0m\u001b[0;34m[\u001b[0m\u001b[0;34m:\u001b[0m\u001b[0;34m,\u001b[0m\u001b[0;34m:\u001b[0m\u001b[0;34m]\u001b[0m\u001b[0;34m.\u001b[0m\u001b[0mmax\u001b[0m\u001b[0;34m(\u001b[0m\u001b[0;34m)\u001b[0m\u001b[0;34m)\u001b[0m\u001b[0;34m\u001b[0m\u001b[0;34m\u001b[0m\u001b[0m\n",
            "\u001b[0;32msrc/netCDF4/_netCDF4.pyx\u001b[0m in \u001b[0;36mnetCDF4._netCDF4.Dataset.createVariable\u001b[0;34m()\u001b[0m\n",
            "\u001b[0;32msrc/netCDF4/_netCDF4.pyx\u001b[0m in \u001b[0;36mnetCDF4._netCDF4.Variable.__init__\u001b[0;34m()\u001b[0m\n",
            "\u001b[0;32m/usr/local/lib/python3.7/dist-packages/netCDF4/utils.py\u001b[0m in \u001b[0;36m_find_dim\u001b[0;34m(grp, dimname)\u001b[0m\n\u001b[1;32m     45\u001b[0m                 \u001b[0mgroup\u001b[0m \u001b[0;34m=\u001b[0m \u001b[0mgroup\u001b[0m\u001b[0;34m.\u001b[0m\u001b[0mparent\u001b[0m\u001b[0;34m\u001b[0m\u001b[0;34m\u001b[0m\u001b[0m\n\u001b[1;32m     46\u001b[0m             \u001b[0;32mexcept\u001b[0m\u001b[0;34m:\u001b[0m\u001b[0;34m\u001b[0m\u001b[0;34m\u001b[0m\u001b[0m\n\u001b[0;32m---> 47\u001b[0;31m                 \u001b[0;32mraise\u001b[0m \u001b[0mValueError\u001b[0m\u001b[0;34m(\u001b[0m\u001b[0;34m\"cannot find dimension %s in this group or parent groups\"\u001b[0m \u001b[0;34m%\u001b[0m \u001b[0mdimname\u001b[0m\u001b[0;34m)\u001b[0m\u001b[0;34m\u001b[0m\u001b[0;34m\u001b[0m\u001b[0m\n\u001b[0m\u001b[1;32m     48\u001b[0m     \u001b[0;32mreturn\u001b[0m \u001b[0mdim\u001b[0m\u001b[0;34m\u001b[0m\u001b[0;34m\u001b[0m\u001b[0m\n\u001b[1;32m     49\u001b[0m \u001b[0;34m\u001b[0m\u001b[0m\n",
            "\u001b[0;31mValueError\u001b[0m: cannot find dimension longitude in this group or parent groups"
          ]
        }
      ]
    },
    {
      "cell_type": "code",
      "source": [
        "v03_sza_t = np.reshape(v03_sza, (-1, 1))\n",
        "print(v03_sza_t.shape)\n",
        "v03_sza_o = np.reshape(v03_sza_t, (3232,-1))\n",
        "print(v03_sza_o.shape)\n",
        "print(v03_sza_o)"
      ],
      "metadata": {
        "colab": {
          "base_uri": "https://localhost:8080/"
        },
        "id": "5l7TGhyQRkbv",
        "outputId": "c16dd690-2df8-487b-841f-0d2ef738260b"
      },
      "execution_count": null,
      "outputs": [
        {
          "output_type": "stream",
          "name": "stdout",
          "text": [
            "(10342400, 1)\n",
            "(3232, 3200)\n",
            "[[36.85     36.84     36.829998 ... 20.99     20.98     20.98    ]\n",
            " [36.86     36.85     36.829998 ... 21.       21.       21.      ]\n",
            " [36.87     36.86     36.84     ... 21.01     21.01     21.01    ]\n",
            " ...\n",
            " [52.       51.989998 51.98     ... 41.45     41.44     41.44    ]\n",
            " [52.01     52.       51.989998 ... 41.46     41.46     41.46    ]\n",
            " [52.02     52.02     52.01     ... 41.48     41.469997 41.469997]]\n"
          ]
        }
      ]
    },
    {
      "cell_type": "markdown",
      "source": [
        "Step 4: Now load VIIRS Observation file (VNP02MOD)"
      ],
      "metadata": {
        "id": "UM9igkuJvM2Q"
      }
    },
    {
      "cell_type": "code",
      "source": [
        "v02 = Dataset(v02_file,'r')\n",
        "#v02 = h5py.File(v02_file,'r')\n",
        "#suppose you are using all of the 16 bands\n",
        "#create a placeholder for all of these datasets\n",
        "#you can also use 16 different variables if you want\n",
        "v02group = v02['/observation_data']\n",
        "v02_datasets = ['M01','M02','M03','M04','M05','M06','M07','M08',\n",
        "                'M09','M10','M11','M12','M13','M14','M15', 'M16']\n",
        "sw_bands = ['M01','M02','M03','M04','M05','M06','M07','M08','M09','M10','M11']\n",
        "ir_bands = ['M12','M13','M14','M15', 'M16']\n",
        "\n",
        "n_channel = len(v02_datasets) #16 channels\n",
        "\n",
        "v02_obs = np.full([v03_lon.shape[0],v03_lon.shape[1],n_channel],fill_value=np.nan)\n",
        "\n",
        "for i, v02_dataset in zip(np.arange(n_channel),v02_datasets):\n",
        "    #sometimes some channels are not included, \n",
        "    #for example some sw bands are not included during nighttime\n",
        "    #so here we need to check\n",
        "    if (v02_dataset in v02group.variables.keys()):\n",
        "        #for shortwave first\n",
        "        if (v02_dataset in sw_bands):\n",
        "            v02_data = v02['/observation_data/'+v02_dataset][:]\n",
        "            #note that netcdf automatically apply data scale and offset to original data\n",
        "            #v02_data_scale = v02['/observation_data/'+v02_dataset].scale_factor\n",
        "            #v02_data_offset = v02['/observation_data/'+v02_dataset].add_offset\n",
        "            v02_obs[:,:,i] = v02_data\n",
        "        #then for longwave bands\n",
        "        #for ir we need to convert radiance to brightness temperature\n",
        "        if (v02_dataset in ir_bands):\n",
        "            v02_data = v02['/observation_data/'+v02_dataset][:]\n",
        "            v02_data_scale = v02['/observation_data/'+v02_dataset].scale_factor\n",
        "            v02_data_offset = v02['/observation_data/'+v02_dataset].add_offset\n",
        "            v02_data_lut = v02['/observation_data/'+v02_dataset+'_brightness_temperature_lut'][:]\n",
        "            #note that netcdf automatically apply data scale and offset to original data\n",
        "            #to convert it back to brightness temperature, we need to do the following steps\n",
        "            temp = (v02_data - v02_data_offset) / v02_data_scale\n",
        "            v02_obs[:,:,i] = v02_data_lut[np.int32(np.round(temp))]        \n",
        "v02.close()\n",
        "\n",
        "#here is an example of the 500th row, 500th col pixel\n",
        "print (v02_obs[499,499,:])\n",
        "#here is another example of the 500th row, 500th col pixel\n",
        "print (v02_obs[0,0,:])\n",
        "\n",
        "#for shortwave bands, you need to remove 65533 values,\n",
        "#for ir bands, you need to remove -999.9 values,\n",
        "\n",
        "v02_obs[v02_obs==65533] = np.nan\n",
        "v02_obs[v02_obs<0] = np.nan\n",
        "\n",
        "#here is an example of the 500th row, 500th col pixel\n",
        "print (v02_obs[499,499,:])\n",
        "#here is another example of the 500th row, 500th col pixel\n",
        "print (v02_obs[0,0,:])\n",
        "print (v02_obs.shape)"
      ],
      "metadata": {
        "colab": {
          "base_uri": "https://localhost:8080/"
        },
        "id": "fi1P_qjqvMQ3",
        "outputId": "5d58eea2-b34b-4614-cc9b-536c5c3e2f57"
      },
      "execution_count": null,
      "outputs": [
        {
          "output_type": "stream",
          "name": "stdout",
          "text": [
            "[5.91716051e-01 5.91816008e-01 5.85658550e-01 5.58389783e-01\n",
            " 6.01851881e-01 1.38183028e-01 6.45014048e-01 6.07989311e-01\n",
            " 1.55935704e-03 5.28422117e-01 3.95916760e-01 3.14150543e+02\n",
            " 2.86308167e+02 2.73129303e+02 2.76499084e+02 2.76012756e+02]\n",
            "[65533.         65533.         65533.         65533.\n",
            " 65533.         65533.         65533.         65533.\n",
            " 65533.         65533.         65533.          -999.90002441\n",
            "  -999.90002441  -999.90002441  -999.90002441  -999.90002441]\n",
            "[5.91716051e-01 5.91816008e-01 5.85658550e-01 5.58389783e-01\n",
            " 6.01851881e-01 1.38183028e-01 6.45014048e-01 6.07989311e-01\n",
            " 1.55935704e-03 5.28422117e-01 3.95916760e-01 3.14150543e+02\n",
            " 2.86308167e+02 2.73129303e+02 2.76499084e+02 2.76012756e+02]\n",
            "[nan nan nan nan nan nan nan nan nan nan nan nan nan nan nan nan]\n",
            "(3232, 3200, 16)\n"
          ]
        }
      ]
    },
    {
      "cell_type": "code",
      "source": [
        "print(v02_obs)"
      ],
      "metadata": {
        "colab": {
          "base_uri": "https://localhost:8080/"
        },
        "id": "tgYHcUxJT7m0",
        "outputId": "9452eab2-1ab1-494d-c47b-d32a154a9797"
      },
      "execution_count": null,
      "outputs": [
        {
          "output_type": "stream",
          "name": "stdout",
          "text": [
            "[[[           nan            nan            nan ...            nan\n",
            "              nan            nan]\n",
            "  [           nan            nan            nan ...            nan\n",
            "              nan            nan]\n",
            "  [           nan            nan            nan ...            nan\n",
            "              nan            nan]\n",
            "  ...\n",
            "  [           nan            nan            nan ...            nan\n",
            "              nan            nan]\n",
            "  [           nan            nan            nan ...            nan\n",
            "              nan            nan]\n",
            "  [           nan            nan            nan ...            nan\n",
            "              nan            nan]]\n",
            "\n",
            " [[           nan            nan            nan ...            nan\n",
            "              nan            nan]\n",
            "  [           nan            nan            nan ...            nan\n",
            "              nan            nan]\n",
            "  [           nan            nan            nan ...            nan\n",
            "              nan            nan]\n",
            "  ...\n",
            "  [           nan            nan            nan ...            nan\n",
            "              nan            nan]\n",
            "  [           nan            nan            nan ...            nan\n",
            "              nan            nan]\n",
            "  [           nan            nan            nan ...            nan\n",
            "              nan            nan]]\n",
            "\n",
            " [[4.57411408e-01 4.28923160e-01 3.96316618e-01 ... 2.70066681e+02\n",
            "   2.74746368e+02 2.73641571e+02]\n",
            "  [4.54372674e-01 4.24844831e-01 3.90179127e-01 ... 2.71205414e+02\n",
            "   2.75713928e+02 2.74613403e+02]\n",
            "  [4.56111938e-01 4.25944388e-01 3.90179127e-01 ... 2.70063721e+02\n",
            "   2.74691956e+02 2.73231079e+02]\n",
            "  ...\n",
            "  [3.43678296e-01 3.20787758e-01 2.96397805e-01 ... 2.38251526e+02\n",
            "   2.35631424e+02 2.33110641e+02]\n",
            "  [3.19448292e-01 2.93079168e-01 2.66490132e-01 ... 2.48041901e+02\n",
            "   2.46516937e+02 2.43481918e+02]\n",
            "  [2.85682231e-01 2.54395127e-01 2.24647388e-01 ... 2.61331543e+02\n",
            "   2.61688934e+02 2.59137512e+02]]\n",
            "\n",
            " ...\n",
            "\n",
            " [[3.52534652e-01 3.21167588e-01 2.85162419e-01 ... 2.64492004e+02\n",
            "   2.68210754e+02 2.68051239e+02]\n",
            "  [3.53774130e-01 3.22946846e-01 2.85902113e-01 ... 2.65890808e+02\n",
            "   2.69934662e+02 2.69798950e+02]\n",
            "  [3.64109874e-01 3.35481673e-01 3.01375747e-01 ... 2.66086273e+02\n",
            "   2.70089722e+02 2.70001251e+02]\n",
            "  ...\n",
            "  [5.81100404e-01 5.73203683e-01 5.59829175e-01 ... 2.55724411e+02\n",
            "   2.58063446e+02 2.57539856e+02]\n",
            "  [5.77421963e-01 5.69665134e-01 5.57610095e-01 ... 2.57901428e+02\n",
            "   2.60799591e+02 2.60471375e+02]\n",
            "  [5.68845451e-01 5.60109079e-01 5.45335174e-01 ... 2.57695068e+02\n",
            "   2.60029449e+02 2.59322388e+02]]\n",
            "\n",
            " [[           nan            nan            nan ...            nan\n",
            "              nan            nan]\n",
            "  [           nan            nan            nan ...            nan\n",
            "              nan            nan]\n",
            "  [           nan            nan            nan ...            nan\n",
            "              nan            nan]\n",
            "  ...\n",
            "  [           nan            nan            nan ...            nan\n",
            "              nan            nan]\n",
            "  [           nan            nan            nan ...            nan\n",
            "              nan            nan]\n",
            "  [           nan            nan            nan ...            nan\n",
            "              nan            nan]]\n",
            "\n",
            " [[           nan            nan            nan ...            nan\n",
            "              nan            nan]\n",
            "  [           nan            nan            nan ...            nan\n",
            "              nan            nan]\n",
            "  [           nan            nan            nan ...            nan\n",
            "              nan            nan]\n",
            "  ...\n",
            "  [           nan            nan            nan ...            nan\n",
            "              nan            nan]\n",
            "  [           nan            nan            nan ...            nan\n",
            "              nan            nan]\n",
            "  [           nan            nan            nan ...            nan\n",
            "              nan            nan]]]\n"
          ]
        }
      ]
    },
    {
      "cell_type": "code",
      "source": [
        "print (v02_obs.shape)\n",
        "print(v03_vaa.shape)\n",
        "v02_obs = np.nan_to_num(v02_obs)\n",
        "viirs_data = np.stack((v03_sza, v03_saa, v03_vza, v03_vaa, v02_obs[:, :, 0], v02_obs[:, :, 1], v02_obs[:, :, 2], v02_obs[:, :, 3], v02_obs[:, :, 4], v02_obs[:, :, 5], v02_obs[:, :, 6], v02_obs[:, :, 7], v02_obs[:, :, 8], v02_obs[:, :, 9], v02_obs[:, :, 10], v02_obs[:, :, 11], v02_obs[:, :, 12], v02_obs[:, :, 13], v02_obs[:, :, 14], v02_obs[:, :, 15],v03_lat, v03_lon), axis=-1)\n",
        "print(viirs_data.shape)\n",
        "print(viirs_data)\n",
        "\n",
        "# print(viirs_data[0:10, 0:5])\n",
        "# print(viirs_data[0:10, 13:15])\n",
        "# print(viirs_data[0:10, 15:])"
      ],
      "metadata": {
        "colab": {
          "base_uri": "https://localhost:8080/"
        },
        "id": "MYdsmykNLEiz",
        "outputId": "3c0d6158-d1c8-427f-d81c-7181225d7f4a"
      },
      "execution_count": null,
      "outputs": [
        {
          "output_type": "stream",
          "name": "stdout",
          "text": [
            "(3232, 3200, 16)\n",
            "(3232, 3200)\n",
            "(3232, 3200, 22)\n",
            "[[[  3685.         -12352.           7013.         ...      0.\n",
            "       48.95002747   -176.01417542]\n",
            "  [  3684.         -12355.           7009.         ...      0.\n",
            "       48.95079422   -176.03709412]\n",
            "  [  3683.         -12358.           7006.         ...      0.\n",
            "       48.95155334   -176.05996704]\n",
            "  ...\n",
            "  [  2099.          16321.           7000.         ...      0.\n",
            "       42.99634933    144.72705078]\n",
            "  [  2098.          16316.           7003.         ...      0.\n",
            "       42.98989868    144.70953369]\n",
            "  [  2098.          16311.           7006.         ...      0.\n",
            "       42.98312759    144.69116211]]\n",
            "\n",
            " [[  3686.         -12354.           7013.         ...      0.\n",
            "       48.96475983   -176.01304626]\n",
            "  [  3685.         -12357.           7009.         ...      0.\n",
            "       48.96551514   -176.03598022]\n",
            "  [  3683.         -12360.           7006.         ...      0.\n",
            "       48.96626663   -176.05886841]\n",
            "  ...\n",
            "  [  2100.          16319.           7000.         ...      0.\n",
            "       43.00955963    144.71824646]\n",
            "  [  2100.          16314.           7003.         ...      0.\n",
            "       43.00300598    144.70037842]\n",
            "  [  2100.          16309.           7006.         ...      0.\n",
            "       42.99646378    144.68257141]]\n",
            "\n",
            " [[  3687.         -12355.           7013.         ...    273.64157104\n",
            "       48.97949219   -176.01191711]\n",
            "  [  3686.         -12358.           7009.         ...    274.61340332\n",
            "       48.98023987   -176.03485107]\n",
            "  [  3684.         -12361.           7006.         ...    273.2310791\n",
            "       48.98097992   -176.057724  ]\n",
            "  ...\n",
            "  [  2101.          16318.           7000.         ...    233.11064148\n",
            "       43.02305222    144.7101593 ]\n",
            "  [  2101.          16313.           7003.         ...    243.48191833\n",
            "       43.01620102    144.69148254]\n",
            "  [  2101.          16308.           7006.         ...    259.13751221\n",
            "       43.00962448    144.67350769]]\n",
            "\n",
            " ...\n",
            "\n",
            " [[  5200.         -13363.           7020.         ...    268.05123901\n",
            "       69.47471619   -172.13337708]\n",
            "  [  5199.         -13368.           7017.         ...    269.7989502\n",
            "       69.4779129    -172.17576599]\n",
            "  [  5198.         -13373.           7014.         ...    270.00125122\n",
            "       69.4810791    -172.21806335]\n",
            "  ...\n",
            "  [  4145.          14176.           7006.         ...    257.53985596\n",
            "       59.77362823    123.31224823]\n",
            "  [  4144.          14173.           7009.         ...    260.47137451\n",
            "       59.76270676    123.29196167]\n",
            "  [  4144.          14170.           7013.         ...    259.3223877\n",
            "       59.75273514    123.27348328]]\n",
            "\n",
            " [[  5201.         -13363.           7021.         ...      0.\n",
            "       69.48914337   -172.12371826]\n",
            "  [  5200.         -13368.           7017.         ...      0.\n",
            "       69.4923172    -172.16612244]\n",
            "  [  5199.         -13373.           7014.         ...      0.\n",
            "       69.49549103   -172.20849609]\n",
            "  ...\n",
            "  [  4146.          14175.           7006.         ...      0.\n",
            "       59.7852478     123.29372406]\n",
            "  [  4146.          14171.           7009.         ...      0.\n",
            "       59.77458572    123.27393341]\n",
            "  [  4146.          14168.           7012.         ...      0.\n",
            "       59.76442337    123.25504303]]\n",
            "\n",
            " [[  5202.         -13363.           7021.         ...      0.\n",
            "       69.5035553    -172.11399841]\n",
            "  [  5202.         -13368.           7017.         ...      0.\n",
            "       69.5067215    -172.15646362]\n",
            "  [  5201.         -13373.           7014.         ...      0.\n",
            "       69.50987244   -172.19885254]\n",
            "  ...\n",
            "  [  4148.          14173.           7006.         ...      0.\n",
            "       59.79627228    123.27410889]\n",
            "  [  4147.          14169.           7009.         ...      0.\n",
            "       59.78581238    123.25465393]\n",
            "  [  4147.          14166.           7012.         ...      0.\n",
            "       59.77523422    123.23497009]]]\n"
          ]
        }
      ]
    },
    {
      "cell_type": "code",
      "source": [
        "print(viirs_data[0,0, :])\n",
        "print(viirs_data[499, 499, :])\n",
        "\n",
        "print(viirs_data[3231, 3199, :])\n"
      ],
      "metadata": {
        "colab": {
          "base_uri": "https://localhost:8080/"
        },
        "id": "-yFCr7CdRIHw",
        "outputId": "672ad481-65c2-42b0-e759-49e22fb3bfe9"
      },
      "execution_count": null,
      "outputs": [
        {
          "output_type": "stream",
          "name": "stdout",
          "text": [
            "[  3685.         -12352.           7013.          -8702.\n",
            "      0.              0.              0.              0.\n",
            "      0.              0.              0.              0.\n",
            "      0.              0.              0.              0.\n",
            "      0.              0.              0.              0.\n",
            "     48.95002747   -176.01417542]\n",
            "[ 3.52100000e+03 -1.37310000e+04  5.63000000e+03 -9.25200000e+03\n",
            "  5.91716051e-01  5.91816008e-01  5.85658550e-01  5.58389783e-01\n",
            "  6.01851881e-01  1.38183028e-01  6.45014048e-01  6.07989311e-01\n",
            "  1.55935704e-03  5.28422117e-01  3.95916760e-01  3.14150543e+02\n",
            "  2.86308167e+02  2.73129303e+02  2.76499084e+02  2.76012756e+02\n",
            "  5.22094803e+01  1.76011398e+02]\n",
            "[ 4147.         14166.          7012.          4323.\n",
            "     0.             0.             0.             0.\n",
            "     0.             0.             0.             0.\n",
            "     0.             0.             0.             0.\n",
            "     0.             0.             0.             0.\n",
            "    59.77523422   123.23497009]\n"
          ]
        }
      ]
    },
    {
      "cell_type": "code",
      "source": [
        "viirs_data = np.reshape(viirs_data, ( -1, 22))\n",
        "print(viirs_data)"
      ],
      "metadata": {
        "colab": {
          "base_uri": "https://localhost:8080/"
        },
        "id": "HJdl0ti6Qoc0",
        "outputId": "fe62033b-0e2e-4577-8927-c5abf5848f98"
      },
      "execution_count": null,
      "outputs": [
        {
          "output_type": "stream",
          "name": "stdout",
          "text": [
            "[[  3685.         -12352.           7013.         ...      0.\n",
            "      48.95002747   -176.01417542]\n",
            " [  3684.         -12355.           7009.         ...      0.\n",
            "      48.95079422   -176.03709412]\n",
            " [  3683.         -12358.           7006.         ...      0.\n",
            "      48.95155334   -176.05996704]\n",
            " ...\n",
            " [  4148.          14173.           7006.         ...      0.\n",
            "      59.79627228    123.27410889]\n",
            " [  4147.          14169.           7009.         ...      0.\n",
            "      59.78581238    123.25465393]\n",
            " [  4147.          14166.           7012.         ...      0.\n",
            "      59.77523422    123.23497009]]\n"
          ]
        }
      ]
    },
    {
      "cell_type": "code",
      "source": [
        "print(viirs_data[0, :])\n",
        "print(viirs_data[-1, :])\n",
        "print(viirs_data[249000, :])"
      ],
      "metadata": {
        "colab": {
          "base_uri": "https://localhost:8080/"
        },
        "id": "Lww2GZSmSBgI",
        "outputId": "749e4f2e-6a2e-44ec-cd82-d963cadc3366"
      },
      "execution_count": null,
      "outputs": [
        {
          "output_type": "stream",
          "name": "stdout",
          "text": [
            "[  3685.         -12352.           7013.          -8702.\n",
            "      0.              0.              0.              0.\n",
            "      0.              0.              0.              0.\n",
            "      0.              0.              0.              0.\n",
            "      0.              0.              0.              0.\n",
            "     48.95002747   -176.01417542]\n",
            "[ 4147.         14166.          7012.          4323.\n",
            "     0.             0.             0.             0.\n",
            "     0.             0.             0.             0.\n",
            "     0.             0.             0.             0.\n",
            "     0.             0.             0.             0.\n",
            "    59.77523422   123.23497009]\n",
            "[ 2.30700000e+03 -1.79340000e+04  5.38200000e+03  6.87600000e+03\n",
            "  5.29661655e-01  5.16846895e-01  5.01813114e-01  4.66667593e-01\n",
            "  4.86659348e-01  1.45679936e-01  5.04651964e-01  4.44996536e-01\n",
            "  4.11430374e-02  2.55774558e-01  2.41900265e-01  2.85285614e+02\n",
            "  2.66763611e+02  2.57345825e+02  2.58551788e+02  2.56806458e+02\n",
            "  4.57748718e+01  1.51418228e+02]\n"
          ]
        }
      ]
    },
    {
      "cell_type": "markdown",
      "source": [
        "Now you are ready to go."
      ],
      "metadata": {
        "id": "VsyUw_ts39PS"
      }
    }
  ]
}