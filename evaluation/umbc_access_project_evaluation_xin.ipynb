{
 "cells": [
  {
   "cell_type": "markdown",
   "id": "6542b2b0",
   "metadata": {},
   "source": [
    "<div class=\"alert alert-info\">\n",
    "<center>\n",
    "<h1 style=\"font-size:22px\">UMBC ACCESS Project Evaluation</h1>\n",
    "<br>\n",
    "Benjamin H.G. Marchant <br>\n",
    "benjamin.marchant@nasa.gov <br>\n",
    "marchant.benjamin01@gmail.com <br>\n",
    "</center>\n",
    "</div>"
   ]
  },
  {
   "cell_type": "code",
   "execution_count": 60,
   "id": "786ba1c1",
   "metadata": {},
   "outputs": [],
   "source": [
    "from os import path\n",
    "\n",
    "import glob\n",
    "import random\n",
    "import pandas as pd\n",
    "import matplotlib.pyplot as plt\n",
    "import matplotlib.cm as cm\n",
    "import matplotlib.patches as mpatches\n",
    "import numpy as np\n",
    "import seaborn as sns; sns.set()"
   ]
  },
  {
   "cell_type": "code",
   "execution_count": 61,
   "id": "e0b1e056",
   "metadata": {},
   "outputs": [],
   "source": [
    "fig_style_dict = {}\n",
    "\n",
    "fig_style_dict['fig_type'] = 'analysis'\n",
    "\n",
    "if fig_style_dict['fig_type'] == 'talk':\n",
    "    fig_style_dict['facecolor'] = '#E8E8E8'\n",
    "    fig_style_dict['label_font_size'] = 18\n",
    "    fig_style_dict['title_font_size'] = 22\n",
    "    fig_style_dict['heatmap_annot_font_size'] = 22\n",
    "else:\n",
    "    fig_style_dict['facecolor'] = 'white'\n",
    "    fig_style_dict['label_font_size'] = 12\n",
    "    fig_style_dict['title_font_size'] = 14\n",
    "    fig_style_dict['heatmap_annot_font_size'] = 14"
   ]
  },
  {
   "cell_type": "code",
   "execution_count": 85,
   "id": "e3fa317b",
   "metadata": {},
   "outputs": [],
   "source": [
    "path_to_data = '/Users/nizhao/xin/access/newdata/from_ben/to_ben/m16/'"
   ]
  },
  {
   "cell_type": "code",
   "execution_count": 86,
   "id": "e0c3f77d",
   "metadata": {},
   "outputs": [
    {
     "data": {
      "text/plain": [
       "['/Users/nizhao/xin/access/newdata/from_ben/to_ben/m16/viirs_sample_2018_09_20.hdf5',\n",
       " '/Users/nizhao/xin/access/newdata/from_ben/to_ben/m16/viirs_sample_2018_05_15.hdf5',\n",
       " '/Users/nizhao/xin/access/newdata/from_ben/to_ben/m16/viirs_sample_2018_06_05.hdf5',\n",
       " '/Users/nizhao/xin/access/newdata/from_ben/to_ben/m16/viirs_sample_2018_03_10.hdf5',\n",
       " '/Users/nizhao/xin/access/newdata/from_ben/to_ben/m16/viirs_sample_2018_10_20.hdf5',\n",
       " '/Users/nizhao/xin/access/newdata/from_ben/to_ben/m16/viirs_sample_2018_06_25.hdf5',\n",
       " '/Users/nizhao/xin/access/newdata/from_ben/to_ben/m16/viirs_sample_2018_01_20.hdf5',\n",
       " '/Users/nizhao/xin/access/newdata/from_ben/to_ben/m16/viirs_sample_2018_11_20.hdf5',\n",
       " '/Users/nizhao/xin/access/newdata/from_ben/to_ben/m16/viirs_sample_2018_07_25.hdf5',\n",
       " '/Users/nizhao/xin/access/newdata/from_ben/to_ben/m16/viirs_sample_2018_08_20.hdf5',\n",
       " '/Users/nizhao/xin/access/newdata/from_ben/to_ben/m16/viirs_sample_2018_04_15.hdf5',\n",
       " '/Users/nizhao/xin/access/newdata/from_ben/to_ben/m16/viirs_sample_2018_07_05.hdf5',\n",
       " '/Users/nizhao/xin/access/newdata/from_ben/to_ben/m16/viirs_sample_2018_02_10.hdf5',\n",
       " '/Users/nizhao/xin/access/newdata/from_ben/to_ben/m16/viirs_sample_2018_12_10.hdf5',\n",
       " '/Users/nizhao/xin/access/newdata/from_ben/to_ben/m16/viirs_sample_2018_03_20.hdf5',\n",
       " '/Users/nizhao/xin/access/newdata/from_ben/to_ben/m16/viirs_sample_2018_09_10.hdf5',\n",
       " '/Users/nizhao/xin/access/newdata/from_ben/to_ben/m16/viirs_sample_2018_05_25.hdf5',\n",
       " '/Users/nizhao/xin/access/newdata/from_ben/to_ben/m16/viirs_sample_2018_05_05.hdf5',\n",
       " '/Users/nizhao/xin/access/newdata/from_ben/to_ben/m16/viirs_sample_2018_06_15.hdf5',\n",
       " '/Users/nizhao/xin/access/newdata/from_ben/to_ben/m16/viirs_sample_2018_10_10.hdf5',\n",
       " '/Users/nizhao/xin/access/newdata/from_ben/to_ben/m16/viirs_sample_2018_04_05.hdf5',\n",
       " '/Users/nizhao/xin/access/newdata/from_ben/to_ben/m16/viirs_sample_2018_07_15.hdf5',\n",
       " '/Users/nizhao/xin/access/newdata/from_ben/to_ben/m16/viirs_sample_2018_01_10.hdf5',\n",
       " '/Users/nizhao/xin/access/newdata/from_ben/to_ben/m16/viirs_sample_2018_11_10.hdf5',\n",
       " '/Users/nizhao/xin/access/newdata/from_ben/to_ben/m16/viirs_sample_2018_02_20.hdf5',\n",
       " '/Users/nizhao/xin/access/newdata/from_ben/to_ben/m16/viirs_sample_2018_12_20.hdf5',\n",
       " '/Users/nizhao/xin/access/newdata/from_ben/to_ben/m16/viirs_sample_2018_08_10.hdf5',\n",
       " '/Users/nizhao/xin/access/newdata/from_ben/to_ben/m16/viirs_sample_2018_04_25.hdf5',\n",
       " '/Users/nizhao/xin/access/newdata/from_ben/to_ben/m16/viirs_sample_2018_01_25.hdf5',\n",
       " '/Users/nizhao/xin/access/newdata/from_ben/to_ben/m16/viirs_sample_2018_11_25.hdf5',\n",
       " '/Users/nizhao/xin/access/newdata/from_ben/to_ben/m16/viirs_sample_2018_07_20.hdf5',\n",
       " '/Users/nizhao/xin/access/newdata/from_ben/to_ben/m16/viirs_sample_2018_08_05.hdf5',\n",
       " '/Users/nizhao/xin/access/newdata/from_ben/to_ben/m16/viirs_sample_2018_08_25.hdf5',\n",
       " '/Users/nizhao/xin/access/newdata/from_ben/to_ben/m16/viirs_sample_2018_04_10.hdf5',\n",
       " '/Users/nizhao/xin/access/newdata/from_ben/to_ben/m16/viirs_sample_2018_02_15.hdf5',\n",
       " '/Users/nizhao/xin/access/newdata/from_ben/to_ben/m16/viirs_sample_2018_12_15.hdf5',\n",
       " '/Users/nizhao/xin/access/newdata/from_ben/to_ben/m16/viirs_sample_2018_01_05.hdf5',\n",
       " '/Users/nizhao/xin/access/newdata/from_ben/to_ben/m16/viirs_sample_2018_11_05.hdf5',\n",
       " '/Users/nizhao/xin/access/newdata/from_ben/to_ben/m16/viirs_sample_2018_09_25.hdf5',\n",
       " '/Users/nizhao/xin/access/newdata/from_ben/to_ben/m16/viirs_sample_2018_05_10.hdf5',\n",
       " '/Users/nizhao/xin/access/newdata/from_ben/to_ben/m16/viirs_sample_2018_03_15.hdf5',\n",
       " '/Users/nizhao/xin/access/newdata/from_ben/to_ben/m16/viirs_sample_2018_10_05.hdf5',\n",
       " '/Users/nizhao/xin/access/newdata/from_ben/to_ben/m16/viirs_sample_2018_10_25.hdf5',\n",
       " '/Users/nizhao/xin/access/newdata/from_ben/to_ben/m16/viirs_sample_2018_06_20.hdf5',\n",
       " '/Users/nizhao/xin/access/newdata/from_ben/to_ben/m16/viirs_sample_2018_09_05.hdf5',\n",
       " '/Users/nizhao/xin/access/newdata/from_ben/to_ben/m16/viirs_sample_2018_07_10.hdf5',\n",
       " '/Users/nizhao/xin/access/newdata/from_ben/to_ben/m16/viirs_sample_2018_02_05.hdf5',\n",
       " '/Users/nizhao/xin/access/newdata/from_ben/to_ben/m16/viirs_sample_2018_12_05.hdf5',\n",
       " '/Users/nizhao/xin/access/newdata/from_ben/to_ben/m16/viirs_sample_2018_01_15.hdf5',\n",
       " '/Users/nizhao/xin/access/newdata/from_ben/to_ben/m16/viirs_sample_2018_11_15.hdf5',\n",
       " '/Users/nizhao/xin/access/newdata/from_ben/to_ben/m16/viirs_sample_2018_02_25.hdf5',\n",
       " '/Users/nizhao/xin/access/newdata/from_ben/to_ben/m16/viirs_sample_2018_12_25.hdf5',\n",
       " '/Users/nizhao/xin/access/newdata/from_ben/to_ben/m16/viirs_sample_2018_08_15.hdf5',\n",
       " '/Users/nizhao/xin/access/newdata/from_ben/to_ben/m16/viirs_sample_2018_04_20.hdf5',\n",
       " '/Users/nizhao/xin/access/newdata/from_ben/to_ben/m16/viirs_sample_2018_03_25.hdf5',\n",
       " '/Users/nizhao/xin/access/newdata/from_ben/to_ben/m16/viirs_sample_2018_09_15.hdf5',\n",
       " '/Users/nizhao/xin/access/newdata/from_ben/to_ben/m16/viirs_sample_2018_05_20.hdf5',\n",
       " '/Users/nizhao/xin/access/newdata/from_ben/to_ben/m16/viirs_sample_2018_06_10.hdf5',\n",
       " '/Users/nizhao/xin/access/newdata/from_ben/to_ben/m16/viirs_sample_2018_03_05.hdf5',\n",
       " '/Users/nizhao/xin/access/newdata/from_ben/to_ben/m16/viirs_sample_2018_10_15.hdf5']"
      ]
     },
     "execution_count": 86,
     "metadata": {},
     "output_type": "execute_result"
    }
   ],
   "source": [
    "sample_list = glob.glob( '{}/*hdf5'.format(path_to_data) )\n",
    "\n",
    "sample_list"
   ]
  },
  {
   "cell_type": "code",
   "execution_count": 87,
   "id": "ee2d941f",
   "metadata": {},
   "outputs": [],
   "source": [
    "file = random.choice(sample_list)"
   ]
  },
  {
   "cell_type": "code",
   "execution_count": 88,
   "id": "f419b847",
   "metadata": {},
   "outputs": [
    {
     "name": "stdout",
     "output_type": "stream",
     "text": [
      "['/sample']\n"
     ]
    }
   ],
   "source": [
    "if path.exists(file):\n",
    "    with pd.HDFStore(file) as store:\n",
    "        print(store.keys())"
   ]
  },
  {
   "cell_type": "code",
   "execution_count": 89,
   "id": "335ae83f",
   "metadata": {},
   "outputs": [
    {
     "data": {
      "text/html": [
       "<div>\n",
       "<style scoped>\n",
       "    .dataframe tbody tr th:only-of-type {\n",
       "        vertical-align: middle;\n",
       "    }\n",
       "\n",
       "    .dataframe tbody tr th {\n",
       "        vertical-align: top;\n",
       "    }\n",
       "\n",
       "    .dataframe thead th {\n",
       "        text-align: right;\n",
       "    }\n",
       "</style>\n",
       "<table border=\"1\" class=\"dataframe\">\n",
       "  <thead>\n",
       "    <tr style=\"text-align: right;\">\n",
       "      <th></th>\n",
       "      <th>M01</th>\n",
       "      <th>M02</th>\n",
       "      <th>M03</th>\n",
       "      <th>M04</th>\n",
       "      <th>M05</th>\n",
       "      <th>M06</th>\n",
       "      <th>M07</th>\n",
       "      <th>M08</th>\n",
       "      <th>M09</th>\n",
       "      <th>M10</th>\n",
       "      <th>...</th>\n",
       "      <th>viirs_Cloud_Effective_Radius_37_PCL</th>\n",
       "      <th>viirs_Cloud_Water_Path</th>\n",
       "      <th>viirs_Cloud_Water_Path_PCL</th>\n",
       "      <th>viirs_Cloud_Mask</th>\n",
       "      <th>viirs_Surface</th>\n",
       "      <th>VNP02MOD_file</th>\n",
       "      <th>CLDPROP_L2_VIIRS_SNPP_file</th>\n",
       "      <th>along track idx</th>\n",
       "      <th>cross track idx</th>\n",
       "      <th>prediction</th>\n",
       "    </tr>\n",
       "  </thead>\n",
       "  <tbody>\n",
       "    <tr>\n",
       "      <th>0</th>\n",
       "      <td>0.231605</td>\n",
       "      <td>0.194360</td>\n",
       "      <td>0.161194</td>\n",
       "      <td>0.125528</td>\n",
       "      <td>0.107096</td>\n",
       "      <td>0.102298</td>\n",
       "      <td>0.098539</td>\n",
       "      <td>0.089683</td>\n",
       "      <td>0.045421</td>\n",
       "      <td>0.066992</td>\n",
       "      <td>...</td>\n",
       "      <td>-9999.00</td>\n",
       "      <td>24.0</td>\n",
       "      <td>-9999.0</td>\n",
       "      <td>0.0</td>\n",
       "      <td>0.0</td>\n",
       "      <td>VNP02MOD.A2018140.0312.001.2018140094938.nc</td>\n",
       "      <td>CLDPROP_L2_VIIRS_SNPP.A2018140.0312.011.201923...</td>\n",
       "      <td>1070.0</td>\n",
       "      <td>808.0</td>\n",
       "      <td>2</td>\n",
       "    </tr>\n",
       "    <tr>\n",
       "      <th>1</th>\n",
       "      <td>0.085525</td>\n",
       "      <td>0.067272</td>\n",
       "      <td>0.048940</td>\n",
       "      <td>0.028388</td>\n",
       "      <td>0.014854</td>\n",
       "      <td>0.010876</td>\n",
       "      <td>0.007417</td>\n",
       "      <td>0.003519</td>\n",
       "      <td>0.000180</td>\n",
       "      <td>0.002839</td>\n",
       "      <td>...</td>\n",
       "      <td>-9999.00</td>\n",
       "      <td>-9999.0</td>\n",
       "      <td>-9999.0</td>\n",
       "      <td>3.0</td>\n",
       "      <td>0.0</td>\n",
       "      <td>VNP02MOD.A2018140.0112.001.2018140073418.nc</td>\n",
       "      <td>CLDPROP_L2_VIIRS_SNPP.A2018140.0112.011.201923...</td>\n",
       "      <td>1337.0</td>\n",
       "      <td>2012.0</td>\n",
       "      <td>0</td>\n",
       "    </tr>\n",
       "    <tr>\n",
       "      <th>2</th>\n",
       "      <td>0.166112</td>\n",
       "      <td>0.128987</td>\n",
       "      <td>0.094361</td>\n",
       "      <td>0.056477</td>\n",
       "      <td>0.027489</td>\n",
       "      <td>0.019332</td>\n",
       "      <td>0.011835</td>\n",
       "      <td>0.003738</td>\n",
       "      <td>0.000480</td>\n",
       "      <td>0.002059</td>\n",
       "      <td>...</td>\n",
       "      <td>-9999.00</td>\n",
       "      <td>-9999.0</td>\n",
       "      <td>-9999.0</td>\n",
       "      <td>3.0</td>\n",
       "      <td>0.0</td>\n",
       "      <td>VNP02MOD.A2018140.1124.001.2018140171555.nc</td>\n",
       "      <td>CLDPROP_L2_VIIRS_SNPP.A2018140.1124.011.201923...</td>\n",
       "      <td>2134.0</td>\n",
       "      <td>2447.0</td>\n",
       "      <td>0</td>\n",
       "    </tr>\n",
       "    <tr>\n",
       "      <th>3</th>\n",
       "      <td>0.345298</td>\n",
       "      <td>0.313051</td>\n",
       "      <td>0.287801</td>\n",
       "      <td>0.249217</td>\n",
       "      <td>0.241640</td>\n",
       "      <td>0.154036</td>\n",
       "      <td>0.237782</td>\n",
       "      <td>0.229385</td>\n",
       "      <td>0.000560</td>\n",
       "      <td>0.212632</td>\n",
       "      <td>...</td>\n",
       "      <td>-9999.00</td>\n",
       "      <td>24.0</td>\n",
       "      <td>-9999.0</td>\n",
       "      <td>0.0</td>\n",
       "      <td>0.0</td>\n",
       "      <td>VNP02MOD.A2018140.2142.001.2018141020545.nc</td>\n",
       "      <td>CLDPROP_L2_VIIRS_SNPP.A2018140.2142.011.201923...</td>\n",
       "      <td>2331.0</td>\n",
       "      <td>847.0</td>\n",
       "      <td>1</td>\n",
       "    </tr>\n",
       "    <tr>\n",
       "      <th>4</th>\n",
       "      <td>0.075129</td>\n",
       "      <td>0.062574</td>\n",
       "      <td>0.047500</td>\n",
       "      <td>0.029188</td>\n",
       "      <td>0.015953</td>\n",
       "      <td>0.011515</td>\n",
       "      <td>0.007077</td>\n",
       "      <td>0.002079</td>\n",
       "      <td>0.000300</td>\n",
       "      <td>0.000960</td>\n",
       "      <td>...</td>\n",
       "      <td>-9999.00</td>\n",
       "      <td>-9999.0</td>\n",
       "      <td>-9999.0</td>\n",
       "      <td>3.0</td>\n",
       "      <td>0.0</td>\n",
       "      <td>VNP02MOD.A2018140.1806.001.2018140235813.nc</td>\n",
       "      <td>CLDPROP_L2_VIIRS_SNPP.A2018140.1806.011.201923...</td>\n",
       "      <td>944.0</td>\n",
       "      <td>594.0</td>\n",
       "      <td>0</td>\n",
       "    </tr>\n",
       "    <tr>\n",
       "      <th>...</th>\n",
       "      <td>...</td>\n",
       "      <td>...</td>\n",
       "      <td>...</td>\n",
       "      <td>...</td>\n",
       "      <td>...</td>\n",
       "      <td>...</td>\n",
       "      <td>...</td>\n",
       "      <td>...</td>\n",
       "      <td>...</td>\n",
       "      <td>...</td>\n",
       "      <td>...</td>\n",
       "      <td>...</td>\n",
       "      <td>...</td>\n",
       "      <td>...</td>\n",
       "      <td>...</td>\n",
       "      <td>...</td>\n",
       "      <td>...</td>\n",
       "      <td>...</td>\n",
       "      <td>...</td>\n",
       "      <td>...</td>\n",
       "      <td>...</td>\n",
       "    </tr>\n",
       "    <tr>\n",
       "      <th>9995</th>\n",
       "      <td>0.220209</td>\n",
       "      <td>0.199278</td>\n",
       "      <td>0.183504</td>\n",
       "      <td>0.174748</td>\n",
       "      <td>0.183144</td>\n",
       "      <td>0.156675</td>\n",
       "      <td>0.248038</td>\n",
       "      <td>0.256174</td>\n",
       "      <td>0.057776</td>\n",
       "      <td>0.205675</td>\n",
       "      <td>...</td>\n",
       "      <td>9.51</td>\n",
       "      <td>-9999.0</td>\n",
       "      <td>37.0</td>\n",
       "      <td>0.0</td>\n",
       "      <td>3.0</td>\n",
       "      <td>VNP02MOD.A2018140.0812.001.2018140140603.nc</td>\n",
       "      <td>CLDPROP_L2_VIIRS_SNPP.A2018140.0812.011.201923...</td>\n",
       "      <td>1199.0</td>\n",
       "      <td>2942.0</td>\n",
       "      <td>2</td>\n",
       "    </tr>\n",
       "    <tr>\n",
       "      <th>9996</th>\n",
       "      <td>0.171569</td>\n",
       "      <td>0.166691</td>\n",
       "      <td>0.162293</td>\n",
       "      <td>0.147139</td>\n",
       "      <td>0.160994</td>\n",
       "      <td>0.155256</td>\n",
       "      <td>0.175708</td>\n",
       "      <td>0.173089</td>\n",
       "      <td>0.000520</td>\n",
       "      <td>0.162313</td>\n",
       "      <td>...</td>\n",
       "      <td>-9999.00</td>\n",
       "      <td>37.0</td>\n",
       "      <td>-9999.0</td>\n",
       "      <td>0.0</td>\n",
       "      <td>0.0</td>\n",
       "      <td>VNP02MOD.A2018140.0512.001.2018140103541.nc</td>\n",
       "      <td>CLDPROP_L2_VIIRS_SNPP.A2018140.0512.011.201923...</td>\n",
       "      <td>2839.0</td>\n",
       "      <td>2120.0</td>\n",
       "      <td>1</td>\n",
       "    </tr>\n",
       "    <tr>\n",
       "      <th>9997</th>\n",
       "      <td>0.130486</td>\n",
       "      <td>0.107096</td>\n",
       "      <td>0.083186</td>\n",
       "      <td>0.053798</td>\n",
       "      <td>0.035865</td>\n",
       "      <td>0.030707</td>\n",
       "      <td>0.025450</td>\n",
       "      <td>0.018232</td>\n",
       "      <td>0.001499</td>\n",
       "      <td>0.014394</td>\n",
       "      <td>...</td>\n",
       "      <td>-9999.00</td>\n",
       "      <td>-9999.0</td>\n",
       "      <td>-9999.0</td>\n",
       "      <td>1.0</td>\n",
       "      <td>0.0</td>\n",
       "      <td>VNP02MOD.A2018140.1300.001.2018140184846.nc</td>\n",
       "      <td>CLDPROP_L2_VIIRS_SNPP.A2018140.1300.011.201923...</td>\n",
       "      <td>565.0</td>\n",
       "      <td>2366.0</td>\n",
       "      <td>1</td>\n",
       "    </tr>\n",
       "    <tr>\n",
       "      <th>9998</th>\n",
       "      <td>0.195379</td>\n",
       "      <td>0.160174</td>\n",
       "      <td>0.128027</td>\n",
       "      <td>0.087244</td>\n",
       "      <td>0.064873</td>\n",
       "      <td>0.057036</td>\n",
       "      <td>0.049580</td>\n",
       "      <td>0.041843</td>\n",
       "      <td>0.000440</td>\n",
       "      <td>0.036345</td>\n",
       "      <td>...</td>\n",
       "      <td>16.58</td>\n",
       "      <td>-9999.0</td>\n",
       "      <td>10.0</td>\n",
       "      <td>0.0</td>\n",
       "      <td>0.0</td>\n",
       "      <td>VNP02MOD.A2018140.0948.001.2018140170429.nc</td>\n",
       "      <td>CLDPROP_L2_VIIRS_SNPP.A2018140.0948.011.201923...</td>\n",
       "      <td>323.0</td>\n",
       "      <td>1682.0</td>\n",
       "      <td>1</td>\n",
       "    </tr>\n",
       "    <tr>\n",
       "      <th>9999</th>\n",
       "      <td>0.324906</td>\n",
       "      <td>0.306074</td>\n",
       "      <td>0.288981</td>\n",
       "      <td>0.257374</td>\n",
       "      <td>0.258613</td>\n",
       "      <td>0.154796</td>\n",
       "      <td>0.264031</td>\n",
       "      <td>0.252316</td>\n",
       "      <td>0.041843</td>\n",
       "      <td>0.205795</td>\n",
       "      <td>...</td>\n",
       "      <td>-9999.00</td>\n",
       "      <td>38.0</td>\n",
       "      <td>-9999.0</td>\n",
       "      <td>0.0</td>\n",
       "      <td>0.0</td>\n",
       "      <td>VNP02MOD.A2018140.1812.001.2018140235612.nc</td>\n",
       "      <td>CLDPROP_L2_VIIRS_SNPP.A2018140.1812.011.201923...</td>\n",
       "      <td>656.0</td>\n",
       "      <td>1050.0</td>\n",
       "      <td>1</td>\n",
       "    </tr>\n",
       "  </tbody>\n",
       "</table>\n",
       "<p>10000 rows × 47 columns</p>\n",
       "</div>"
      ],
      "text/plain": [
       "           M01       M02       M03       M04       M05       M06       M07  \\\n",
       "0     0.231605  0.194360  0.161194  0.125528  0.107096  0.102298  0.098539   \n",
       "1     0.085525  0.067272  0.048940  0.028388  0.014854  0.010876  0.007417   \n",
       "2     0.166112  0.128987  0.094361  0.056477  0.027489  0.019332  0.011835   \n",
       "3     0.345298  0.313051  0.287801  0.249217  0.241640  0.154036  0.237782   \n",
       "4     0.075129  0.062574  0.047500  0.029188  0.015953  0.011515  0.007077   \n",
       "...        ...       ...       ...       ...       ...       ...       ...   \n",
       "9995  0.220209  0.199278  0.183504  0.174748  0.183144  0.156675  0.248038   \n",
       "9996  0.171569  0.166691  0.162293  0.147139  0.160994  0.155256  0.175708   \n",
       "9997  0.130486  0.107096  0.083186  0.053798  0.035865  0.030707  0.025450   \n",
       "9998  0.195379  0.160174  0.128027  0.087244  0.064873  0.057036  0.049580   \n",
       "9999  0.324906  0.306074  0.288981  0.257374  0.258613  0.154796  0.264031   \n",
       "\n",
       "           M08       M09       M10  ...  viirs_Cloud_Effective_Radius_37_PCL  \\\n",
       "0     0.089683  0.045421  0.066992  ...                             -9999.00   \n",
       "1     0.003519  0.000180  0.002839  ...                             -9999.00   \n",
       "2     0.003738  0.000480  0.002059  ...                             -9999.00   \n",
       "3     0.229385  0.000560  0.212632  ...                             -9999.00   \n",
       "4     0.002079  0.000300  0.000960  ...                             -9999.00   \n",
       "...        ...       ...       ...  ...                                  ...   \n",
       "9995  0.256174  0.057776  0.205675  ...                                 9.51   \n",
       "9996  0.173089  0.000520  0.162313  ...                             -9999.00   \n",
       "9997  0.018232  0.001499  0.014394  ...                             -9999.00   \n",
       "9998  0.041843  0.000440  0.036345  ...                                16.58   \n",
       "9999  0.252316  0.041843  0.205795  ...                             -9999.00   \n",
       "\n",
       "      viirs_Cloud_Water_Path  viirs_Cloud_Water_Path_PCL  viirs_Cloud_Mask  \\\n",
       "0                       24.0                     -9999.0               0.0   \n",
       "1                    -9999.0                     -9999.0               3.0   \n",
       "2                    -9999.0                     -9999.0               3.0   \n",
       "3                       24.0                     -9999.0               0.0   \n",
       "4                    -9999.0                     -9999.0               3.0   \n",
       "...                      ...                         ...               ...   \n",
       "9995                 -9999.0                        37.0               0.0   \n",
       "9996                    37.0                     -9999.0               0.0   \n",
       "9997                 -9999.0                     -9999.0               1.0   \n",
       "9998                 -9999.0                        10.0               0.0   \n",
       "9999                    38.0                     -9999.0               0.0   \n",
       "\n",
       "      viirs_Surface                                VNP02MOD_file  \\\n",
       "0               0.0  VNP02MOD.A2018140.0312.001.2018140094938.nc   \n",
       "1               0.0  VNP02MOD.A2018140.0112.001.2018140073418.nc   \n",
       "2               0.0  VNP02MOD.A2018140.1124.001.2018140171555.nc   \n",
       "3               0.0  VNP02MOD.A2018140.2142.001.2018141020545.nc   \n",
       "4               0.0  VNP02MOD.A2018140.1806.001.2018140235813.nc   \n",
       "...             ...                                          ...   \n",
       "9995            3.0  VNP02MOD.A2018140.0812.001.2018140140603.nc   \n",
       "9996            0.0  VNP02MOD.A2018140.0512.001.2018140103541.nc   \n",
       "9997            0.0  VNP02MOD.A2018140.1300.001.2018140184846.nc   \n",
       "9998            0.0  VNP02MOD.A2018140.0948.001.2018140170429.nc   \n",
       "9999            0.0  VNP02MOD.A2018140.1812.001.2018140235612.nc   \n",
       "\n",
       "                             CLDPROP_L2_VIIRS_SNPP_file  along track idx  \\\n",
       "0     CLDPROP_L2_VIIRS_SNPP.A2018140.0312.011.201923...           1070.0   \n",
       "1     CLDPROP_L2_VIIRS_SNPP.A2018140.0112.011.201923...           1337.0   \n",
       "2     CLDPROP_L2_VIIRS_SNPP.A2018140.1124.011.201923...           2134.0   \n",
       "3     CLDPROP_L2_VIIRS_SNPP.A2018140.2142.011.201923...           2331.0   \n",
       "4     CLDPROP_L2_VIIRS_SNPP.A2018140.1806.011.201923...            944.0   \n",
       "...                                                 ...              ...   \n",
       "9995  CLDPROP_L2_VIIRS_SNPP.A2018140.0812.011.201923...           1199.0   \n",
       "9996  CLDPROP_L2_VIIRS_SNPP.A2018140.0512.011.201923...           2839.0   \n",
       "9997  CLDPROP_L2_VIIRS_SNPP.A2018140.1300.011.201923...            565.0   \n",
       "9998  CLDPROP_L2_VIIRS_SNPP.A2018140.0948.011.201923...            323.0   \n",
       "9999  CLDPROP_L2_VIIRS_SNPP.A2018140.1812.011.201923...            656.0   \n",
       "\n",
       "      cross track idx  prediction  \n",
       "0               808.0           2  \n",
       "1              2012.0           0  \n",
       "2              2447.0           0  \n",
       "3               847.0           1  \n",
       "4               594.0           0  \n",
       "...               ...         ...  \n",
       "9995           2942.0           2  \n",
       "9996           2120.0           1  \n",
       "9997           2366.0           1  \n",
       "9998           1682.0           1  \n",
       "9999           1050.0           1  \n",
       "\n",
       "[10000 rows x 47 columns]"
      ]
     },
     "execution_count": 89,
     "metadata": {},
     "output_type": "execute_result"
    }
   ],
   "source": [
    "if path.exists(file):\n",
    "    with pd.HDFStore(file) as store:\n",
    "        df = store['sample']\n",
    "\n",
    "df"
   ]
  },
  {
   "cell_type": "code",
   "execution_count": 90,
   "id": "ec5d5b87",
   "metadata": {},
   "outputs": [
    {
     "data": {
      "text/plain": [
       "Index(['M01', 'M02', 'M03', 'M04', 'M05', 'M06', 'M07', 'M08', 'M09', 'M10',\n",
       "       'M11', 'M12', 'M13', 'M14', 'M15', 'M16', 'latitude', 'longitude',\n",
       "       'viirs_solar_zenith', 'viirs_sensor_zenith', 'viirs_solar_azimuth',\n",
       "       'viirs_sensor_azimuth', 'viirs_Cloud_Top_Temperature',\n",
       "       'viirs_Cloud_Top_Height', 'viirs_Cloud_Top_Pressure',\n",
       "       'viirs_Cloud_Phase_Cloud_Top_Properties',\n",
       "       'viirs_Cloud_Optical_Thickness', 'viirs_Cloud_Optical_Thickness_PCL',\n",
       "       'viirs_Cloud_Optical_Thickness_16',\n",
       "       'viirs_Cloud_Optical_Thickness_16_PCL',\n",
       "       'viirs_Cloud_Optical_Thickness_37',\n",
       "       'viirs_Cloud_Optical_Thickness_37_PCL', 'viirs_Cloud_Effective_Radius',\n",
       "       'viirs_Cloud_Effective_Radius_PCL', 'viirs_Cloud_Effective_Radius_16',\n",
       "       'viirs_Cloud_Effective_Radius_16_PCL',\n",
       "       'viirs_Cloud_Effective_Radius_37',\n",
       "       'viirs_Cloud_Effective_Radius_37_PCL', 'viirs_Cloud_Water_Path',\n",
       "       'viirs_Cloud_Water_Path_PCL', 'viirs_Cloud_Mask', 'viirs_Surface',\n",
       "       'VNP02MOD_file', 'CLDPROP_L2_VIIRS_SNPP_file', 'along track idx',\n",
       "       'cross track idx', 'prediction'],\n",
       "      dtype='object')"
      ]
     },
     "execution_count": 90,
     "metadata": {},
     "output_type": "execute_result"
    }
   ],
   "source": [
    "df.columns"
   ]
  },
  {
   "cell_type": "code",
   "execution_count": 91,
   "id": "1e27b3d7",
   "metadata": {},
   "outputs": [
    {
     "data": {
      "text/plain": [
       "1.0    4858\n",
       "0.0    3066\n",
       "2.0    2076\n",
       "Name: viirs_Cloud_Phase_Cloud_Top_Properties, dtype: int64"
      ]
     },
     "execution_count": 91,
     "metadata": {},
     "output_type": "execute_result"
    }
   ],
   "source": [
    "df['viirs_Cloud_Phase_Cloud_Top_Properties'].value_counts()"
   ]
  },
  {
   "cell_type": "code",
   "execution_count": 92,
   "id": "67226f39",
   "metadata": {},
   "outputs": [
    {
     "data": {
      "text/plain": [
       "0.0    6558\n",
       "3.0    2747\n",
       "1.0     376\n",
       "2.0     319\n",
       "Name: viirs_Cloud_Mask, dtype: int64"
      ]
     },
     "execution_count": 92,
     "metadata": {},
     "output_type": "execute_result"
    }
   ],
   "source": [
    "df['viirs_Cloud_Mask'].value_counts()"
   ]
  },
  {
   "cell_type": "code",
   "execution_count": null,
   "id": "8aa4ec83",
   "metadata": {},
   "outputs": [],
   "source": []
  },
  {
   "cell_type": "code",
   "execution_count": 93,
   "id": "58e1633b",
   "metadata": {},
   "outputs": [
    {
     "data": {
      "text/plain": [
       "1    5247\n",
       "0    2822\n",
       "2    1931\n",
       "Name: prediction, dtype: int64"
      ]
     },
     "execution_count": 93,
     "metadata": {},
     "output_type": "execute_result"
    }
   ],
   "source": [
    "df['prediction'].value_counts()"
   ]
  },
  {
   "cell_type": "code",
   "execution_count": null,
   "id": "6942a41c",
   "metadata": {},
   "outputs": [],
   "source": []
  },
  {
   "cell_type": "code",
   "execution_count": null,
   "id": "e64ed7dd",
   "metadata": {},
   "outputs": [],
   "source": []
  },
  {
   "cell_type": "code",
   "execution_count": 94,
   "id": "2993ace2",
   "metadata": {},
   "outputs": [],
   "source": [
    "df_cloudy = df[ df['viirs_Cloud_Mask'] < 2]"
   ]
  },
  {
   "cell_type": "code",
   "execution_count": 95,
   "id": "abdd9b0d",
   "metadata": {},
   "outputs": [
    {
     "data": {
      "text/plain": [
       "1.0    4858\n",
       "2.0    2076\n",
       "Name: viirs_Cloud_Phase_Cloud_Top_Properties, dtype: int64"
      ]
     },
     "execution_count": 95,
     "metadata": {},
     "output_type": "execute_result"
    }
   ],
   "source": [
    "df_cloudy['viirs_Cloud_Phase_Cloud_Top_Properties'].value_counts()"
   ]
  },
  {
   "cell_type": "code",
   "execution_count": 96,
   "id": "0c308b32",
   "metadata": {},
   "outputs": [
    {
     "data": {
      "text/plain": [
       "1    4764\n",
       "2    1892\n",
       "0     278\n",
       "Name: prediction, dtype: int64"
      ]
     },
     "execution_count": 96,
     "metadata": {},
     "output_type": "execute_result"
    }
   ],
   "source": [
    "df_cloudy['prediction'].value_counts()"
   ]
  },
  {
   "cell_type": "code",
   "execution_count": null,
   "id": "fd2fd88d",
   "metadata": {},
   "outputs": [],
   "source": []
  },
  {
   "cell_type": "code",
   "execution_count": 97,
   "id": "6e75a92a",
   "metadata": {},
   "outputs": [],
   "source": [
    "m1 = df['viirs_Cloud_Mask']\n",
    "m2 = df['prediction']\n",
    "\n",
    "#weak lable\n",
    "c1 = df[ (m1 < 2) & (m2 != 0) ].shape[0]\n",
    "c2 = df[ (m1 < 2) & (m2 == 0) ].shape[0]\n",
    "c3 = df[ (m1 >= 2) & (m2 != 0) ].shape[0]\n",
    "c4 = df[ (m1 >= 2) & (m2 == 0) ].shape[0]\n",
    "\n",
    "#cloud mask\n",
    "# c1 = df[ (m1 < 2) & (m2 == 1) ].shape[0] #cloudy\n",
    "# c2 = df[ (m1 < 2) & (m2 == 0) ].shape[0]\n",
    "# c3 = df[ (m1 >= 2) & (m2 == 1) ].shape[0]\n",
    "# c4 = df[ (m1 >= 2) & (m2 == 0) ].shape[0] #clear"
   ]
  },
  {
   "cell_type": "code",
   "execution_count": 98,
   "id": "1190018d",
   "metadata": {},
   "outputs": [
    {
     "name": "stdout",
     "output_type": "stream",
     "text": [
      "[[ 522 2544]\n",
      " [6656  278]]\n"
     ]
    },
    {
     "data": {
      "image/png": "[encoded data removed]",
      "text/plain": [
       "<Figure size 640x480 with 1 Axes>"
      ]
     },
     "metadata": {},
     "output_type": "display_data"
    }
   ],
   "source": [
    "tot_counts = c1 + c2 + c3 + c4\n",
    "\n",
    "conf_arr = np.array([[ c3,   c4],\n",
    "                     [  c1,  c2]])\n",
    "\n",
    "print(conf_arr)\n",
    "\n",
    "conf_arr = 100. * conf_arr / tot_counts\n",
    "\n",
    "df_cm = pd.DataFrame(conf_arr, \n",
    "                  index = ['VIIRS CLDPROP Liquid', 'VIIRS CLDPROP Ice'],\n",
    "                  columns = ['VIIRS ACCESS Liquid', 'VIIRS ACCESS Ice'])\n",
    "\n",
    "fig = plt.figure(num=None, figsize=(8, 6), dpi=80, facecolor=fig_style_dict['facecolor'], edgecolor='k')\n",
    "\n",
    "plt.clf()\n",
    "\n",
    "ax = fig.add_subplot(111)\n",
    "\n",
    "ax.set_aspect(1)\n",
    "\n",
    "res = sns.heatmap(df_cm, annot=True, vmin=0.0, vmax=100.0, fmt='.2f', cmap=\"YlGnBu\",annot_kws={\"size\": fig_style_dict['heatmap_annot_font_size']},cbar=False)\n",
    "\n",
    "plt.xticks([0.5,1.5], ['VIIRS ACCESS Cloudy', 'VIIRS ACCESS Clear'],fontsize=fig_style_dict['label_font_size'])\n",
    "plt.yticks([1.5,0.5], ['VIIRS CLDPROP Cloudy','VIIRS CLDPROP Clear'],va='center',fontsize=fig_style_dict['label_font_size'])\n",
    "\n",
    "#plt.title('Accuracy :'+str(round((c1+c4)/tot_counts,2)),fontsize=fig_style_dict['title_font_size'])\n",
    "\n",
    "#plt.savefig(\"modis_deep_learning_cloud_phase_confusion_matrix_01.png\", bbox_inches='tight', dpi=100)\n",
    "\n",
    "plt.savefig('contingency_cloud_mask.png', dpi=150)\n",
    "\n",
    "plt.show()"
   ]
  },
  {
   "cell_type": "code",
   "execution_count": null,
   "id": "9cb11d88",
   "metadata": {},
   "outputs": [],
   "source": []
  },
  {
   "cell_type": "code",
   "execution_count": 99,
   "id": "1076013a",
   "metadata": {},
   "outputs": [],
   "source": [
    "m1 = df['viirs_Cloud_Phase_Cloud_Top_Properties']\n",
    "m2 = df['prediction']\n",
    "\n",
    "c1 = df[ (m1 == 1) & (m2 == 1) ].shape[0]\n",
    "c2 = df[ (m1 == 1) & (m2 == 2) ].shape[0]\n",
    "c3 = df[ (m1 == 2) & (m2 == 1) ].shape[0]\n",
    "c4 = df[ (m1 == 2) & (m2 == 2) ].shape[0]"
   ]
  },
  {
   "cell_type": "code",
   "execution_count": 100,
   "id": "68bfd1dc",
   "metadata": {},
   "outputs": [
    {
     "name": "stdout",
     "output_type": "stream",
     "text": [
      "[[ 395 1637]\n",
      " [4369  255]]\n"
     ]
    },
    {
     "data": {
      "image/png": "[encoded data removed]",
      "text/plain": [
       "<Figure size 640x480 with 1 Axes>"
      ]
     },
     "metadata": {},
     "output_type": "display_data"
    }
   ],
   "source": [
    "tot_counts = c1 + c2 + c3 + c4\n",
    "\n",
    "conf_arr = np.array([[ c3,   c4],\n",
    "                     [  c1,  c2]])\n",
    "\n",
    "print(conf_arr)\n",
    "\n",
    "conf_arr = 100. * conf_arr / tot_counts\n",
    "\n",
    "df_cm = pd.DataFrame(conf_arr, \n",
    "                  index = ['VIIRS CLDPROP Liquid', 'VIIRS CLDPROP Ice'],\n",
    "                  columns = ['VIIRS ACCESS Liquid', 'VIIRS ACCESS Ice'])\n",
    "\n",
    "fig = plt.figure(num=None, figsize=(8, 6), dpi=80, facecolor=fig_style_dict['facecolor'], edgecolor='k')\n",
    "\n",
    "plt.clf()\n",
    "\n",
    "ax = fig.add_subplot(111)\n",
    "\n",
    "ax.set_aspect(1)\n",
    "\n",
    "res = sns.heatmap(df_cm, annot=True, vmin=0.0, vmax=100.0, fmt='.2f', cmap=\"YlGnBu\",annot_kws={\"size\": fig_style_dict['heatmap_annot_font_size']},cbar=False)\n",
    "\n",
    "plt.xticks([0.5,1.5], ['VIIRS ACCESS Liquid', 'VIIRS ACCESS Ice'],fontsize=fig_style_dict['label_font_size'])\n",
    "plt.yticks([1.5,0.5], ['VIIRS CLDPROP Liquid','VIIRS CLDPROP Ice'],va='center',fontsize=fig_style_dict['label_font_size'])\n",
    "\n",
    "#plt.title('Accuracy :'+str(round((c1+c4)/tot_counts,2)),fontsize=fig_style_dict['title_font_size'])\n",
    "\n",
    "#plt.savefig(\"modis_deep_learning_cloud_phase_confusion_matrix_01.png\", bbox_inches='tight', dpi=100)\n",
    "\n",
    "plt.savefig('contingency_cloud_phase.png', dpi=150)\n",
    "\n",
    "plt.show()"
   ]
  },
  {
   "cell_type": "code",
   "execution_count": null,
   "id": "5a2151e4",
   "metadata": {},
   "outputs": [],
   "source": []
  },
  {
   "cell_type": "code",
   "execution_count": null,
   "id": "d2d0aea6",
   "metadata": {},
   "outputs": [],
   "source": []
  },
  {
   "cell_type": "code",
   "execution_count": 101,
   "id": "015505b0",
   "metadata": {},
   "outputs": [],
   "source": [
    "bins = np.arange(0,80,5)"
   ]
  },
  {
   "cell_type": "code",
   "execution_count": 102,
   "id": "10d58a45",
   "metadata": {},
   "outputs": [
    {
     "data": {
      "image/png": "[encoded data removed]",
      "text/plain": [
       "<Figure size 432x288 with 1 Axes>"
      ]
     },
     "metadata": {},
     "output_type": "display_data"
    }
   ],
   "source": [
    "# distribution plots \n",
    "cloudy = df['viirs_sensor_zenith'][ df['prediction'] != 0 ]\n",
    "#n_cloudy, bins_new, patches = plt.hist(cloudy,bins=bins)\n",
    "n_cloudy, bins_new, patches = plt.hist(cloudy,bins=bins,density=True)\n",
    "plt.xlabel(\"VIIRS Sensor Zenith\", fontsize=14)\n",
    "plt.savefig('cldprop_cloud_fraction.png', dpi=150)\n",
    "plt.show()\n",
    "plt.close()\n"
   ]
  },
  {
   "cell_type": "code",
   "execution_count": 103,
   "id": "cfd6fdf1",
   "metadata": {},
   "outputs": [
    {
     "data": {
      "image/png": "[encoded data removed]",
      "text/plain": [
       "<Figure size 432x288 with 1 Axes>"
      ]
     },
     "metadata": {},
     "output_type": "display_data"
    }
   ],
   "source": [
    "cloudy = df['viirs_sensor_zenith'][ df['viirs_Cloud_Mask'] < 2 ]\n",
    "#n_cloudy, bins_new, patches = plt.hist(cloudy,bins=bins)\n",
    "n_cloudy, bins_new, patches = plt.hist(cloudy,bins=bins,density=True)\n",
    "plt.xlabel(\"VIIRS Sensor Zenith\", fontsize=14)\n",
    "plt.savefig('dl_access_cloud_fraction.png', dpi=150)\n",
    "plt.show()\n",
    "plt.close()"
   ]
  },
  {
   "cell_type": "code",
   "execution_count": null,
   "id": "d82ce208",
   "metadata": {},
   "outputs": [],
   "source": []
  },
  {
   "cell_type": "code",
   "execution_count": null,
   "id": "e7b14da8",
   "metadata": {},
   "outputs": [],
   "source": []
  },
  {
   "cell_type": "code",
   "execution_count": null,
   "id": "8c5b6c65",
   "metadata": {},
   "outputs": [],
   "source": []
  },
  {
   "cell_type": "code",
   "execution_count": null,
   "id": "a4a17dd4",
   "metadata": {},
   "outputs": [],
   "source": []
  },
  {
   "cell_type": "code",
   "execution_count": null,
   "id": "22b4bfac",
   "metadata": {},
   "outputs": [],
   "source": []
  },
  {
   "cell_type": "code",
   "execution_count": 104,
   "id": "b652f81c",
   "metadata": {},
   "outputs": [
    {
     "name": "stdout",
     "output_type": "stream",
     "text": [
      "[365. 410. 385. 393. 382. 390. 367. 457. 466. 468. 631. 781. 744. 667.\n",
      "  28.]\n",
      "[248. 299. 268. 278. 266. 264. 262. 313. 325. 316. 453. 538. 557. 457.\n",
      "  14.]\n",
      "365.0 248.0\n",
      "410.0 299.0\n",
      "385.0 268.0\n",
      "393.0 278.0\n",
      "382.0 266.0\n",
      "390.0 264.0\n",
      "367.0 262.0\n",
      "457.0 313.0\n",
      "466.0 325.0\n",
      "468.0 316.0\n",
      "631.0 453.0\n",
      "781.0 538.0\n",
      "744.0 557.0\n",
      "667.0 457.0\n",
      "28.0 14.0\n",
      "[ 2.5  7.5 12.5 17.5 22.5 27.5 32.5 37.5 42.5 47.5 52.5 57.5 62.5 67.5\n",
      " 72.5]\n"
     ]
    },
    {
     "data": {
      "image/png": "[encoded data removed]",
      "text/plain": [
       "<Figure size 432x288 with 1 Axes>"
      ]
     },
     "metadata": {},
     "output_type": "display_data"
    }
   ],
   "source": [
    "cloudy = df['viirs_sensor_zenith'][ df['viirs_Cloud_Mask'] < 2 ]\n",
    "n_cloudy, bins_new, patches = plt.hist(cloudy,bins=bins)\n",
    "plt.close()\n",
    "\n",
    "liq = df['viirs_sensor_zenith'][ ( df['viirs_Cloud_Mask'] < 2 ) & (df['viirs_Cloud_Phase_Cloud_Top_Properties'] == 1) ]\n",
    "n_liquid, bins_new, patches = plt.hist(liq,bins=bins)\n",
    "plt.close()\n",
    "\n",
    "liquid_cloud_fraction_per_vza = [z/y for y, z in zip(n_cloudy, n_liquid)]\n",
    "\n",
    "print(n_cloudy)\n",
    "print(n_liquid)\n",
    "\n",
    "bins=np.arange(2.5,80,5)\n",
    "\n",
    "for i,j in zip(n_cloudy,n_liquid):\n",
    "    print(i,j)\n",
    "\n",
    "print(bins[:-1])\n",
    "\n",
    "plt.bar(bins[:-1],liquid_cloud_fraction_per_vza,5)\n",
    "\n",
    "#plt.plot(bins[:-1],liquid_cloud_fraction_per_vza,5)\n",
    "\n",
    "plt.xlim(0,70)\n",
    "plt.ylim(0,1)\n",
    "\n",
    "plt.xlabel('Sensor Zenith Angle')\n",
    "plt.ylabel('Liquid Cloud Fraction')\n",
    "\n",
    "plt.show()"
   ]
  },
  {
   "cell_type": "code",
   "execution_count": 105,
   "id": "562d10eb",
   "metadata": {},
   "outputs": [
    {
     "name": "stderr",
     "output_type": "stream",
     "text": [
      "<ipython-input-105-9c9bffabf54a>:9: RuntimeWarning: invalid value encountered in double_scalars\n",
      "  ice_cloud_fraction_per_vza = [z/y for y, z in zip(n_cloudy, n_liquid)]\n"
     ]
    },
    {
     "data": {
      "image/png": "[encoded data removed]",
      "text/plain": [
       "<Figure size 432x288 with 1 Axes>"
      ]
     },
     "metadata": {},
     "output_type": "display_data"
    }
   ],
   "source": [
    "cloudy = df['viirs_sensor_zenith'][ df['viirs_Cloud_Mask'] < 2 ]\n",
    "n_cloudy, bins_new, patches = plt.hist(cloudy,bins=bins)\n",
    "plt.close()\n",
    "\n",
    "liq = df['viirs_sensor_zenith'][ ( df['viirs_Cloud_Mask'] < 2 ) & (df['viirs_Cloud_Phase_Cloud_Top_Properties'] == 2) ]\n",
    "n_liquid, bins_new, patches = plt.hist(liq,bins=bins)\n",
    "plt.close()\n",
    "\n",
    "ice_cloud_fraction_per_vza = [z/y for y, z in zip(n_cloudy, n_liquid)]\n",
    "\n",
    "bins=np.arange(2.5,80,5)\n",
    "\n",
    "#plt.bar(bins[:-1],ice_cloud_fraction_per_vza,5)\n",
    "\n",
    "plt.plot(bins[:-1],liquid_cloud_fraction_per_vza,5)\n",
    "plt.plot(bins[:-1],ice_cloud_fraction_per_vza,5)\n",
    "\n",
    "blue_patch = mpatches.Patch(color=(0.2980392156862745, 0.4470588235294118, 0.6901960784313725), label='LIQUID')\n",
    "green_patch = mpatches.Patch(color=(0.3333333333333333, 0.6588235294117647, 0.40784313725490196), label='ICE')\n",
    "\n",
    "plt.legend(handles=[blue_patch,green_patch])\n",
    "\n",
    "plt.xlim(0,70)\n",
    "plt.ylim(0,1)\n",
    "\n",
    "plt.xlabel('Sensor Zenith Angle')\n",
    "plt.ylabel('Ice Cloud Fraction')\n",
    "\n",
    "plt.savefig('cldprop_cloud_phase_fraction.png', dpi=150)\n",
    "\n",
    "plt.show()"
   ]
  },
  {
   "cell_type": "code",
   "execution_count": null,
   "id": "86558b84",
   "metadata": {},
   "outputs": [],
   "source": []
  },
  {
   "cell_type": "code",
   "execution_count": null,
   "id": "22ccafa6",
   "metadata": {},
   "outputs": [],
   "source": []
  },
  {
   "cell_type": "code",
   "execution_count": null,
   "id": "ef328791",
   "metadata": {},
   "outputs": [],
   "source": []
  },
  {
   "cell_type": "code",
   "execution_count": null,
   "id": "df296380",
   "metadata": {},
   "outputs": [],
   "source": []
  },
  {
   "cell_type": "code",
   "execution_count": null,
   "id": "96cab466",
   "metadata": {},
   "outputs": [],
   "source": []
  },
  {
   "cell_type": "code",
   "execution_count": null,
   "id": "c8c956c5",
   "metadata": {},
   "outputs": [],
   "source": []
  },
  {
   "cell_type": "code",
   "execution_count": null,
   "id": "2a79ad3c",
   "metadata": {},
   "outputs": [],
   "source": []
  },
  {
   "cell_type": "code",
   "execution_count": null,
   "id": "c0b31f66",
   "metadata": {},
   "outputs": [],
   "source": []
  },
  {
   "cell_type": "code",
   "execution_count": 106,
   "id": "92435206",
   "metadata": {},
   "outputs": [
    {
     "name": "stderr",
     "output_type": "stream",
     "text": [
      "<ipython-input-106-323681fb0386>:9: RuntimeWarning: invalid value encountered in double_scalars\n",
      "  liquid_cloud_fraction_per_vza = [z/y for y, z in zip(n_cloudy, n_liquid)]\n"
     ]
    },
    {
     "data": {
      "image/png": "[encoded data removed]",
      "text/plain": [
       "<Figure size 432x288 with 1 Axes>"
      ]
     },
     "metadata": {},
     "output_type": "display_data"
    }
   ],
   "source": [
    "cloudy = df['viirs_sensor_zenith'][ df['prediction'] != 0 ]\n",
    "n_cloudy, bins_new, patches = plt.hist(cloudy,bins=bins)\n",
    "plt.close()\n",
    "\n",
    "liq = df['viirs_sensor_zenith'][ ( df['prediction'] != 0 ) & (df['prediction'] == 1) ]\n",
    "n_liquid, bins_new, patches = plt.hist(liq,bins=bins)\n",
    "plt.close()\n",
    "\n",
    "liquid_cloud_fraction_per_vza = [z/y for y, z in zip(n_cloudy, n_liquid)]\n",
    "\n",
    "bins=np.arange(2.5,80,5)\n",
    "\n",
    "plt.bar(bins[:-1],liquid_cloud_fraction_per_vza,5)\n",
    "\n",
    "#plt.plot(bins[:-1],liquid_cloud_fraction_per_vza,5)\n",
    "\n",
    "plt.xlim(0,70)\n",
    "plt.ylim(0,1)\n",
    "\n",
    "plt.xlabel('Sensor Zenith Angle')\n",
    "plt.ylabel('Liquid Cloud Fraction')\n",
    "\n",
    "plt.show()"
   ]
  },
  {
   "cell_type": "code",
   "execution_count": 107,
   "id": "ffa8694e",
   "metadata": {},
   "outputs": [
    {
     "name": "stderr",
     "output_type": "stream",
     "text": [
      "<ipython-input-107-2f064567681a>:9: RuntimeWarning: invalid value encountered in double_scalars\n",
      "  liquid_cloud_fraction_per_vza = [z/y for y, z in zip(n_cloudy, n_liquid)]\n"
     ]
    },
    {
     "data": {
      "image/png": "[encoded data removed]",
      "text/plain": [
       "<Figure size 432x288 with 1 Axes>"
      ]
     },
     "metadata": {},
     "output_type": "display_data"
    }
   ],
   "source": [
    "cloudy = df['viirs_sensor_zenith'][ df['prediction'] != 0 ]\n",
    "n_cloudy, bins_new, patches = plt.hist(cloudy,bins=bins)\n",
    "plt.close()\n",
    "\n",
    "liq = df['viirs_sensor_zenith'][ ( df['prediction'] != 0 ) & (df['prediction'] == 2) ]\n",
    "n_liquid, bins_new, patches = plt.hist(liq,bins=bins)\n",
    "plt.close()\n",
    "\n",
    "liquid_cloud_fraction_per_vza = [z/y for y, z in zip(n_cloudy, n_liquid)]\n",
    "\n",
    "bins=np.arange(2.5,80,5)\n",
    "\n",
    "#plt.bar(bins[:-1],liquid_cloud_fraction_per_vza,5)\n",
    "\n",
    "plt.plot(bins[:-1],liquid_cloud_fraction_per_vza,5)\n",
    "plt.plot(bins[:-1],ice_cloud_fraction_per_vza,5)\n",
    "\n",
    "plt.xlim(0,70)\n",
    "plt.ylim(0,1)\n",
    "\n",
    "blue_patch = mpatches.Patch(color=(0.2980392156862745, 0.4470588235294118, 0.6901960784313725), label='LIQUID')\n",
    "green_patch = mpatches.Patch(color=(0.3333333333333333, 0.6588235294117647, 0.40784313725490196), label='ICE')\n",
    "\n",
    "plt.legend(handles=[blue_patch,green_patch])\n",
    "\n",
    "plt.xlabel('Sensor Zenith Angle')\n",
    "plt.ylabel('Ice Cloud Fraction')\n",
    "\n",
    "plt.savefig('dl_access_cloud_phase_fraction.png', dpi=150)\n",
    "\n",
    "plt.show()"
   ]
  },
  {
   "cell_type": "code",
   "execution_count": null,
   "id": "ab868d03",
   "metadata": {},
   "outputs": [],
   "source": []
  },
  {
   "cell_type": "code",
   "execution_count": null,
   "id": "da870346",
   "metadata": {},
   "outputs": [],
   "source": []
  },
  {
   "cell_type": "code",
   "execution_count": null,
   "id": "be997573",
   "metadata": {},
   "outputs": [],
   "source": []
  },
  {
   "cell_type": "code",
   "execution_count": null,
   "id": "f538dba1",
   "metadata": {},
   "outputs": [],
   "source": []
  },
  {
   "cell_type": "code",
   "execution_count": null,
   "id": "3ea8c974",
   "metadata": {},
   "outputs": [],
   "source": []
  },
  {
   "cell_type": "code",
   "execution_count": null,
   "id": "8dcf9d73",
   "metadata": {},
   "outputs": [],
   "source": []
  }
 ],
 "metadata": {
  "kernelspec": {
   "display_name": "Python 3",
   "language": "python",
   "name": "python3"
  },
  "language_info": {
   "codemirror_mode": {
    "name": "ipython",
    "version": 3
   },
   "file_extension": ".py",
   "mimetype": "text/x-python",
   "name": "python",
   "nbconvert_exporter": "python",
   "pygments_lexer": "ipython3",
   "version": "3.8.8"
  }
 },
 "nbformat": 4,
 "nbformat_minor": 5
}
